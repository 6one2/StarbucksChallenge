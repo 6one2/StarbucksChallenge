{
 "cells": [
  {
   "cell_type": "markdown",
   "metadata": {},
   "source": [
    "# __Starbucks Capstone Challenge:__\n",
    "\n",
    "__Combine transaction, demographic and offer data to determine which demographic groups respond best to which offer type__\n"
   ]
  },
  {
   "cell_type": "markdown",
   "metadata": {},
   "source": [
    "# __1. Business Understanding__\n",
    "\n",
    "This data set contains simulated data that mimics customer behavior on the Starbucks rewards mobile app. The program used to create the data simulates how people make purchasing decisions and how those decisions are influenced by promotional offers. Once every few days, Starbucks sends out an offer to users of the mobile app. \n",
    "\n",
    "This data set is a simplified version of the real Starbucks app because the underlying simulator only has one product whereas Starbucks actually sells dozens of products. Only the amounts of each transaction or offer are recorded.\n",
    "\n",
    "There are three types of offers that can be sent: \n",
    " 1. __buy-one-get-one (BOGO)__: In a BOGO offer, a user needs to spend a certain amount to get a reward equal to that threshold amount\n",
    " 2. __discount__: In a discount, a user gains a reward equal to a fraction of the amount spent.\n",
    " 3. __informational__: In an informational offer, there is no reward, but neither is there a requisite amount that the user is expected to spend.\n",
    " \n",
    "Some users might not receive any offer during certain weeks, and not all users receive the same offer, and that is the challenge to solve with this data set.\n",
    "\n",
    "Each person in the simulation has some hidden traits that influence their purchasing patterns and are associated with their observable traits. People produce various events, including receiving offers, opening offers, and making purchases.\n",
    "\n",
    "The goal is to combine transaction, demographic and offer data to: \n",
    "> __determine which demographic groups respond best to which offer type__\n"
   ]
  },
  {
   "cell_type": "markdown",
   "metadata": {},
   "source": [
    "___\n",
    "__Table of Contents:__\n",
    "\n",
    "[1. Data exploration and cleaning](#1.-Data-exploration-and-Cleaning)\n",
    "\n",
    "[APPENDIX - Cluster Analysis](#APPENDIX---unsupervised-Cluster-Analysis)"
   ]
  },
  {
   "cell_type": "markdown",
   "metadata": {},
   "source": [
    "# __2. Data Understanding__"
   ]
  },
  {
   "cell_type": "code",
   "execution_count": 174,
   "metadata": {},
   "outputs": [],
   "source": [
    "%reset -f\n",
    "# must be called before importing matplotlib!!!\n",
    "# %matplotlib widget"
   ]
  },
  {
   "cell_type": "code",
   "execution_count": 175,
   "metadata": {},
   "outputs": [],
   "source": [
    "import pandas as pd\n",
    "import numpy as np\n",
    "import math\n",
    "import json\n",
    "import matplotlib.pyplot as plt\n",
    "from mpl_toolkits.mplot3d import Axes3D\n",
    "import seaborn as sns\n",
    "sns.set(style='whitegrid')\n",
    "plt.rcParams['font.family'] = 'monospace'\n",
    "plt.rcParams['font.weight'] = 'bold'"
   ]
  },
  {
   "cell_type": "markdown",
   "metadata": {},
   "source": [
    "> __to go directly to [ANALYSIS](#load)__"
   ]
  },
  {
   "cell_type": "code",
   "execution_count": 3,
   "metadata": {},
   "outputs": [],
   "source": [
    "# read in the json files\n",
    "portfolio = pd.read_json('data/portfolio.json', orient='records', lines=True)\n",
    "profile = pd.read_json('data/profile.json', orient='records', lines=True)\n",
    "transcript = pd.read_json('data/transcript.json', orient='records', lines=True)"
   ]
  },
  {
   "cell_type": "markdown",
   "metadata": {},
   "source": [
    "## 2.1 Exploring `profile`\n",
    "\n",
    "`profile.json` : Rewards program users (17000 users x 5 fields)\n",
    "- gender: (categorical) M, F, O, or null\n",
    "- age: (numeric) missing value encoded as 118\n",
    "- id: (string/hash)\n",
    "- became_member_on: (date) format YYYYMMDD\n",
    "- income: (numeric)"
   ]
  },
  {
   "cell_type": "code",
   "execution_count": 4,
   "metadata": {},
   "outputs": [
    {
     "name": "stdout",
     "output_type": "stream",
     "text": [
      "<class 'pandas.core.frame.DataFrame'>\n",
      "RangeIndex: 17000 entries, 0 to 16999\n",
      "Data columns (total 5 columns):\n",
      " #   Column            Non-Null Count  Dtype  \n",
      "---  ------            --------------  -----  \n",
      " 0   gender            14825 non-null  object \n",
      " 1   age               17000 non-null  int64  \n",
      " 2   id                17000 non-null  object \n",
      " 3   became_member_on  17000 non-null  int64  \n",
      " 4   income            14825 non-null  float64\n",
      "dtypes: float64(1), int64(2), object(2)\n",
      "memory usage: 664.2+ KB\n"
     ]
    }
   ],
   "source": [
    "profile.info()"
   ]
  },
  {
   "cell_type": "code",
   "execution_count": 5,
   "metadata": {},
   "outputs": [
    {
     "data": {
      "text/html": [
       "<div>\n",
       "<style scoped>\n",
       "    .dataframe tbody tr th:only-of-type {\n",
       "        vertical-align: middle;\n",
       "    }\n",
       "\n",
       "    .dataframe tbody tr th {\n",
       "        vertical-align: top;\n",
       "    }\n",
       "\n",
       "    .dataframe thead th {\n",
       "        text-align: right;\n",
       "    }\n",
       "</style>\n",
       "<table border=\"1\" class=\"dataframe\">\n",
       "  <thead>\n",
       "    <tr style=\"text-align: right;\">\n",
       "      <th></th>\n",
       "      <th>gender</th>\n",
       "      <th>age</th>\n",
       "      <th>id</th>\n",
       "      <th>became_member_on</th>\n",
       "      <th>income</th>\n",
       "    </tr>\n",
       "  </thead>\n",
       "  <tbody>\n",
       "    <tr>\n",
       "      <th>0</th>\n",
       "      <td>None</td>\n",
       "      <td>118</td>\n",
       "      <td>68be06ca386d4c31939f3a4f0e3dd783</td>\n",
       "      <td>20170212</td>\n",
       "      <td>NaN</td>\n",
       "    </tr>\n",
       "    <tr>\n",
       "      <th>1</th>\n",
       "      <td>F</td>\n",
       "      <td>55</td>\n",
       "      <td>0610b486422d4921ae7d2bf64640c50b</td>\n",
       "      <td>20170715</td>\n",
       "      <td>112000.0</td>\n",
       "    </tr>\n",
       "    <tr>\n",
       "      <th>2</th>\n",
       "      <td>None</td>\n",
       "      <td>118</td>\n",
       "      <td>38fe809add3b4fcf9315a9694bb96ff5</td>\n",
       "      <td>20180712</td>\n",
       "      <td>NaN</td>\n",
       "    </tr>\n",
       "    <tr>\n",
       "      <th>3</th>\n",
       "      <td>F</td>\n",
       "      <td>75</td>\n",
       "      <td>78afa995795e4d85b5d9ceeca43f5fef</td>\n",
       "      <td>20170509</td>\n",
       "      <td>100000.0</td>\n",
       "    </tr>\n",
       "    <tr>\n",
       "      <th>4</th>\n",
       "      <td>None</td>\n",
       "      <td>118</td>\n",
       "      <td>a03223e636434f42ac4c3df47e8bac43</td>\n",
       "      <td>20170804</td>\n",
       "      <td>NaN</td>\n",
       "    </tr>\n",
       "  </tbody>\n",
       "</table>\n",
       "</div>"
      ],
      "text/plain": [
       "  gender  age                                id  became_member_on    income\n",
       "0   None  118  68be06ca386d4c31939f3a4f0e3dd783          20170212       NaN\n",
       "1      F   55  0610b486422d4921ae7d2bf64640c50b          20170715  112000.0\n",
       "2   None  118  38fe809add3b4fcf9315a9694bb96ff5          20180712       NaN\n",
       "3      F   75  78afa995795e4d85b5d9ceeca43f5fef          20170509  100000.0\n",
       "4   None  118  a03223e636434f42ac4c3df47e8bac43          20170804       NaN"
      ]
     },
     "execution_count": 5,
     "metadata": {},
     "output_type": "execute_result"
    }
   ],
   "source": [
    "profile.head()"
   ]
  },
  {
   "cell_type": "markdown",
   "metadata": {},
   "source": [
    "## 2.1 Exploring `portfolio`\n",
    "\n",
    "`portfolio.json`: Offers sent during 30-day test period (10 offers x 6 fields)\n",
    "- reward: (numeric) money awarded for the amount spent\n",
    "- channels: (list) web, email, mobile, social\n",
    "- difficulty: (numeric) money required to be spent to receive reward\n",
    "- duration: (numeric) time for offer to be open, in days\n",
    "- offer_type: (string) bogo, discount, informational\n",
    "- id: (string/hash)"
   ]
  },
  {
   "cell_type": "code",
   "execution_count": 6,
   "metadata": {},
   "outputs": [
    {
     "name": "stdout",
     "output_type": "stream",
     "text": [
      "<class 'pandas.core.frame.DataFrame'>\n",
      "RangeIndex: 10 entries, 0 to 9\n",
      "Data columns (total 6 columns):\n",
      " #   Column      Non-Null Count  Dtype \n",
      "---  ------      --------------  ----- \n",
      " 0   reward      10 non-null     int64 \n",
      " 1   channels    10 non-null     object\n",
      " 2   difficulty  10 non-null     int64 \n",
      " 3   duration    10 non-null     int64 \n",
      " 4   offer_type  10 non-null     object\n",
      " 5   id          10 non-null     object\n",
      "dtypes: int64(3), object(3)\n",
      "memory usage: 608.0+ bytes\n"
     ]
    }
   ],
   "source": [
    "portfolio.info()"
   ]
  },
  {
   "cell_type": "markdown",
   "metadata": {},
   "source": [
    "Every offer has a validity period before the offer expires:\n",
    "- As an example, a `bogo` offer might be valid for only 5 days or 7 days. \n",
    "- `informational` offers have a validity period even though these ads are merely providing information about a product; for example, if an informational offer has 7 days of validity, you can assume the customer is feeling the influence of the offer for 7 days after receiving the advertisement."
   ]
  },
  {
   "cell_type": "code",
   "execution_count": 7,
   "metadata": {},
   "outputs": [
    {
     "data": {
      "text/html": [
       "<div>\n",
       "<style scoped>\n",
       "    .dataframe tbody tr th:only-of-type {\n",
       "        vertical-align: middle;\n",
       "    }\n",
       "\n",
       "    .dataframe tbody tr th {\n",
       "        vertical-align: top;\n",
       "    }\n",
       "\n",
       "    .dataframe thead th {\n",
       "        text-align: right;\n",
       "    }\n",
       "</style>\n",
       "<table border=\"1\" class=\"dataframe\">\n",
       "  <thead>\n",
       "    <tr style=\"text-align: right;\">\n",
       "      <th></th>\n",
       "      <th>reward</th>\n",
       "      <th>channels</th>\n",
       "      <th>difficulty</th>\n",
       "      <th>duration</th>\n",
       "      <th>offer_type</th>\n",
       "      <th>id</th>\n",
       "    </tr>\n",
       "  </thead>\n",
       "  <tbody>\n",
       "    <tr>\n",
       "      <th>0</th>\n",
       "      <td>10</td>\n",
       "      <td>[email, mobile, social]</td>\n",
       "      <td>10</td>\n",
       "      <td>7</td>\n",
       "      <td>bogo</td>\n",
       "      <td>ae264e3637204a6fb9bb56bc8210ddfd</td>\n",
       "    </tr>\n",
       "    <tr>\n",
       "      <th>1</th>\n",
       "      <td>10</td>\n",
       "      <td>[web, email, mobile, social]</td>\n",
       "      <td>10</td>\n",
       "      <td>5</td>\n",
       "      <td>bogo</td>\n",
       "      <td>4d5c57ea9a6940dd891ad53e9dbe8da0</td>\n",
       "    </tr>\n",
       "    <tr>\n",
       "      <th>2</th>\n",
       "      <td>0</td>\n",
       "      <td>[web, email, mobile]</td>\n",
       "      <td>0</td>\n",
       "      <td>4</td>\n",
       "      <td>informational</td>\n",
       "      <td>3f207df678b143eea3cee63160fa8bed</td>\n",
       "    </tr>\n",
       "    <tr>\n",
       "      <th>3</th>\n",
       "      <td>5</td>\n",
       "      <td>[web, email, mobile]</td>\n",
       "      <td>5</td>\n",
       "      <td>7</td>\n",
       "      <td>bogo</td>\n",
       "      <td>9b98b8c7a33c4b65b9aebfe6a799e6d9</td>\n",
       "    </tr>\n",
       "    <tr>\n",
       "      <th>4</th>\n",
       "      <td>5</td>\n",
       "      <td>[web, email]</td>\n",
       "      <td>20</td>\n",
       "      <td>10</td>\n",
       "      <td>discount</td>\n",
       "      <td>0b1e1539f2cc45b7b9fa7c272da2e1d7</td>\n",
       "    </tr>\n",
       "    <tr>\n",
       "      <th>5</th>\n",
       "      <td>3</td>\n",
       "      <td>[web, email, mobile, social]</td>\n",
       "      <td>7</td>\n",
       "      <td>7</td>\n",
       "      <td>discount</td>\n",
       "      <td>2298d6c36e964ae4a3e7e9706d1fb8c2</td>\n",
       "    </tr>\n",
       "    <tr>\n",
       "      <th>6</th>\n",
       "      <td>2</td>\n",
       "      <td>[web, email, mobile, social]</td>\n",
       "      <td>10</td>\n",
       "      <td>10</td>\n",
       "      <td>discount</td>\n",
       "      <td>fafdcd668e3743c1bb461111dcafc2a4</td>\n",
       "    </tr>\n",
       "    <tr>\n",
       "      <th>7</th>\n",
       "      <td>0</td>\n",
       "      <td>[email, mobile, social]</td>\n",
       "      <td>0</td>\n",
       "      <td>3</td>\n",
       "      <td>informational</td>\n",
       "      <td>5a8bc65990b245e5a138643cd4eb9837</td>\n",
       "    </tr>\n",
       "    <tr>\n",
       "      <th>8</th>\n",
       "      <td>5</td>\n",
       "      <td>[web, email, mobile, social]</td>\n",
       "      <td>5</td>\n",
       "      <td>5</td>\n",
       "      <td>bogo</td>\n",
       "      <td>f19421c1d4aa40978ebb69ca19b0e20d</td>\n",
       "    </tr>\n",
       "    <tr>\n",
       "      <th>9</th>\n",
       "      <td>2</td>\n",
       "      <td>[web, email, mobile]</td>\n",
       "      <td>10</td>\n",
       "      <td>7</td>\n",
       "      <td>discount</td>\n",
       "      <td>2906b810c7d4411798c6938adc9daaa5</td>\n",
       "    </tr>\n",
       "  </tbody>\n",
       "</table>\n",
       "</div>"
      ],
      "text/plain": [
       "   reward                      channels  difficulty  duration     offer_type  \\\n",
       "0      10       [email, mobile, social]          10         7           bogo   \n",
       "1      10  [web, email, mobile, social]          10         5           bogo   \n",
       "2       0          [web, email, mobile]           0         4  informational   \n",
       "3       5          [web, email, mobile]           5         7           bogo   \n",
       "4       5                  [web, email]          20        10       discount   \n",
       "5       3  [web, email, mobile, social]           7         7       discount   \n",
       "6       2  [web, email, mobile, social]          10        10       discount   \n",
       "7       0       [email, mobile, social]           0         3  informational   \n",
       "8       5  [web, email, mobile, social]           5         5           bogo   \n",
       "9       2          [web, email, mobile]          10         7       discount   \n",
       "\n",
       "                                 id  \n",
       "0  ae264e3637204a6fb9bb56bc8210ddfd  \n",
       "1  4d5c57ea9a6940dd891ad53e9dbe8da0  \n",
       "2  3f207df678b143eea3cee63160fa8bed  \n",
       "3  9b98b8c7a33c4b65b9aebfe6a799e6d9  \n",
       "4  0b1e1539f2cc45b7b9fa7c272da2e1d7  \n",
       "5  2298d6c36e964ae4a3e7e9706d1fb8c2  \n",
       "6  fafdcd668e3743c1bb461111dcafc2a4  \n",
       "7  5a8bc65990b245e5a138643cd4eb9837  \n",
       "8  f19421c1d4aa40978ebb69ca19b0e20d  \n",
       "9  2906b810c7d4411798c6938adc9daaa5  "
      ]
     },
     "execution_count": 7,
     "metadata": {},
     "output_type": "execute_result"
    }
   ],
   "source": [
    "portfolio"
   ]
  },
  {
   "cell_type": "markdown",
   "metadata": {},
   "source": [
    "## 2.3 Exploring `transcript`\n",
    "\n",
    "Transactional data showing user purchases made on the app including the timestamp of purchase and the amount of money spent on a purchase. This transactional data also has a record for each offer that a user receives as well as a record for when a user actually views the offer. There are also records for when a user completes an offer. \n",
    "\n",
    "Keep in mind as well that someone using the app might make a purchase through the app without having received an offer or seen an offer.\n",
    "\n",
    "`transcript.json`: Event log (306648 events x 4 fields)\n",
    "- person: (string/hash)\n",
    "- event: (string) offer received, offer viewed, transaction, offer completed\n",
    "- value: (dictionary) different values depending on event type\n",
    "    - offer id: (string/hash) not associated with any \"transaction\"\n",
    "    - amount: (numeric) money spent in \"transaction\"\n",
    "    - reward: (numeric) money gained from \"offer completed\"\n",
    "- time: (numeric) hours after start of test"
   ]
  },
  {
   "cell_type": "code",
   "execution_count": 8,
   "metadata": {},
   "outputs": [
    {
     "name": "stdout",
     "output_type": "stream",
     "text": [
      "<class 'pandas.core.frame.DataFrame'>\n",
      "RangeIndex: 306534 entries, 0 to 306533\n",
      "Data columns (total 4 columns):\n",
      " #   Column  Non-Null Count   Dtype \n",
      "---  ------  --------------   ----- \n",
      " 0   person  306534 non-null  object\n",
      " 1   event   306534 non-null  object\n",
      " 2   value   306534 non-null  object\n",
      " 3   time    306534 non-null  int64 \n",
      "dtypes: int64(1), object(3)\n",
      "memory usage: 9.4+ MB\n"
     ]
    }
   ],
   "source": [
    "transcript.info()"
   ]
  },
  {
   "cell_type": "code",
   "execution_count": 9,
   "metadata": {},
   "outputs": [
    {
     "data": {
      "text/html": [
       "<div>\n",
       "<style scoped>\n",
       "    .dataframe tbody tr th:only-of-type {\n",
       "        vertical-align: middle;\n",
       "    }\n",
       "\n",
       "    .dataframe tbody tr th {\n",
       "        vertical-align: top;\n",
       "    }\n",
       "\n",
       "    .dataframe thead th {\n",
       "        text-align: right;\n",
       "    }\n",
       "</style>\n",
       "<table border=\"1\" class=\"dataframe\">\n",
       "  <thead>\n",
       "    <tr style=\"text-align: right;\">\n",
       "      <th></th>\n",
       "      <th>person</th>\n",
       "      <th>event</th>\n",
       "      <th>value</th>\n",
       "      <th>time</th>\n",
       "    </tr>\n",
       "  </thead>\n",
       "  <tbody>\n",
       "    <tr>\n",
       "      <th>0</th>\n",
       "      <td>78afa995795e4d85b5d9ceeca43f5fef</td>\n",
       "      <td>offer received</td>\n",
       "      <td>{'offer id': '9b98b8c7a33c4b65b9aebfe6a799e6d9'}</td>\n",
       "      <td>0</td>\n",
       "    </tr>\n",
       "    <tr>\n",
       "      <th>1</th>\n",
       "      <td>a03223e636434f42ac4c3df47e8bac43</td>\n",
       "      <td>offer received</td>\n",
       "      <td>{'offer id': '0b1e1539f2cc45b7b9fa7c272da2e1d7'}</td>\n",
       "      <td>0</td>\n",
       "    </tr>\n",
       "    <tr>\n",
       "      <th>2</th>\n",
       "      <td>e2127556f4f64592b11af22de27a7932</td>\n",
       "      <td>offer received</td>\n",
       "      <td>{'offer id': '2906b810c7d4411798c6938adc9daaa5'}</td>\n",
       "      <td>0</td>\n",
       "    </tr>\n",
       "    <tr>\n",
       "      <th>3</th>\n",
       "      <td>8ec6ce2a7e7949b1bf142def7d0e0586</td>\n",
       "      <td>offer received</td>\n",
       "      <td>{'offer id': 'fafdcd668e3743c1bb461111dcafc2a4'}</td>\n",
       "      <td>0</td>\n",
       "    </tr>\n",
       "    <tr>\n",
       "      <th>4</th>\n",
       "      <td>68617ca6246f4fbc85e91a2a49552598</td>\n",
       "      <td>offer received</td>\n",
       "      <td>{'offer id': '4d5c57ea9a6940dd891ad53e9dbe8da0'}</td>\n",
       "      <td>0</td>\n",
       "    </tr>\n",
       "  </tbody>\n",
       "</table>\n",
       "</div>"
      ],
      "text/plain": [
       "                             person           event  \\\n",
       "0  78afa995795e4d85b5d9ceeca43f5fef  offer received   \n",
       "1  a03223e636434f42ac4c3df47e8bac43  offer received   \n",
       "2  e2127556f4f64592b11af22de27a7932  offer received   \n",
       "3  8ec6ce2a7e7949b1bf142def7d0e0586  offer received   \n",
       "4  68617ca6246f4fbc85e91a2a49552598  offer received   \n",
       "\n",
       "                                              value  time  \n",
       "0  {'offer id': '9b98b8c7a33c4b65b9aebfe6a799e6d9'}     0  \n",
       "1  {'offer id': '0b1e1539f2cc45b7b9fa7c272da2e1d7'}     0  \n",
       "2  {'offer id': '2906b810c7d4411798c6938adc9daaa5'}     0  \n",
       "3  {'offer id': 'fafdcd668e3743c1bb461111dcafc2a4'}     0  \n",
       "4  {'offer id': '4d5c57ea9a6940dd891ad53e9dbe8da0'}     0  "
      ]
     },
     "execution_count": 9,
     "metadata": {},
     "output_type": "execute_result"
    }
   ],
   "source": [
    "transcript.head()"
   ]
  },
  {
   "cell_type": "code",
   "execution_count": 10,
   "metadata": {},
   "outputs": [
    {
     "name": "stdout",
     "output_type": "stream",
     "text": [
      "we found 4 types of offers:\n",
      "\n",
      "\t\"offer received\"\n",
      "\t\"offer viewed\"\n",
      "\t\"transaction\"\n",
      "\t\"offer completed\"\n"
     ]
    }
   ],
   "source": [
    "event_type = transcript['event'].unique()\n",
    "print(f'we found {len(event_type)} types of offers:\\n')\n",
    "for evt in event_type:\n",
    "    print(f'\\t\"{evt}\"')"
   ]
  },
  {
   "cell_type": "markdown",
   "metadata": {},
   "source": [
    "# __3. Data Preparation__\n",
    "\n",
    "> All the steps taken in this section are implemented in the `lib.load_data()`\n",
    "\n",
    "> __to go directly to [ANALYSIS](#2.-Data-Analysis)__"
   ]
  },
  {
   "cell_type": "markdown",
   "metadata": {},
   "source": [
    "## 3.1 Preparing `profile` \n",
    "fitering out participants with missing values:\n",
    " - missing `age` = 118\n",
    " - missing `income` = NaN\n",
    " - missing `gender` = None"
   ]
  },
  {
   "cell_type": "code",
   "execution_count": 11,
   "metadata": {},
   "outputs": [
    {
     "data": {
      "text/plain": [
       "gender              0\n",
       "age                 0\n",
       "id                  0\n",
       "became_member_on    0\n",
       "income              0\n",
       "dtype: int64"
      ]
     },
     "execution_count": 11,
     "metadata": {},
     "output_type": "execute_result"
    }
   ],
   "source": [
    "profile = profile.query('age != 118')\n",
    "profile.isnull().sum()"
   ]
  },
  {
   "cell_type": "markdown",
   "metadata": {},
   "source": [
    "> by filtering out the `age` we removed all missing values "
   ]
  },
  {
   "cell_type": "code",
   "execution_count": 12,
   "metadata": {},
   "outputs": [
    {
     "name": "stdout",
     "output_type": "stream",
     "text": [
      "We found 14825 unique participants in the profile dataset\n"
     ]
    }
   ],
   "source": [
    "# we will be using id as the index \n",
    "profile.set_index('id', inplace=True)\n",
    "\n",
    "# change `became_member_on` to datetime\n",
    "profile['became_member_on'] = pd.to_datetime(profile['became_member_on'], format='%Y%m%d')\n",
    "\n",
    "# count number of unique users\n",
    "n_users = profile.index.unique().__len__()\n",
    "print(f'We found {n_users} unique participants in the profile dataset')"
   ]
  },
  {
   "cell_type": "code",
   "execution_count": 13,
   "metadata": {},
   "outputs": [
    {
     "data": {
      "text/html": [
       "<div>\n",
       "<style scoped>\n",
       "    .dataframe tbody tr th:only-of-type {\n",
       "        vertical-align: middle;\n",
       "    }\n",
       "\n",
       "    .dataframe tbody tr th {\n",
       "        vertical-align: top;\n",
       "    }\n",
       "\n",
       "    .dataframe thead th {\n",
       "        text-align: right;\n",
       "    }\n",
       "</style>\n",
       "<table border=\"1\" class=\"dataframe\">\n",
       "  <thead>\n",
       "    <tr style=\"text-align: right;\">\n",
       "      <th></th>\n",
       "      <th>gender</th>\n",
       "      <th>age</th>\n",
       "      <th>became_member_on</th>\n",
       "      <th>income</th>\n",
       "    </tr>\n",
       "    <tr>\n",
       "      <th>id</th>\n",
       "      <th></th>\n",
       "      <th></th>\n",
       "      <th></th>\n",
       "      <th></th>\n",
       "    </tr>\n",
       "  </thead>\n",
       "  <tbody>\n",
       "    <tr>\n",
       "      <th>0610b486422d4921ae7d2bf64640c50b</th>\n",
       "      <td>F</td>\n",
       "      <td>55</td>\n",
       "      <td>2017-07-15</td>\n",
       "      <td>112000.0</td>\n",
       "    </tr>\n",
       "    <tr>\n",
       "      <th>78afa995795e4d85b5d9ceeca43f5fef</th>\n",
       "      <td>F</td>\n",
       "      <td>75</td>\n",
       "      <td>2017-05-09</td>\n",
       "      <td>100000.0</td>\n",
       "    </tr>\n",
       "    <tr>\n",
       "      <th>e2127556f4f64592b11af22de27a7932</th>\n",
       "      <td>M</td>\n",
       "      <td>68</td>\n",
       "      <td>2018-04-26</td>\n",
       "      <td>70000.0</td>\n",
       "    </tr>\n",
       "    <tr>\n",
       "      <th>389bc3fa690240e798340f5a15918d5c</th>\n",
       "      <td>M</td>\n",
       "      <td>65</td>\n",
       "      <td>2018-02-09</td>\n",
       "      <td>53000.0</td>\n",
       "    </tr>\n",
       "    <tr>\n",
       "      <th>2eeac8d8feae4a8cad5a6af0499a211d</th>\n",
       "      <td>M</td>\n",
       "      <td>58</td>\n",
       "      <td>2017-11-11</td>\n",
       "      <td>51000.0</td>\n",
       "    </tr>\n",
       "  </tbody>\n",
       "</table>\n",
       "</div>"
      ],
      "text/plain": [
       "                                 gender  age became_member_on    income\n",
       "id                                                                     \n",
       "0610b486422d4921ae7d2bf64640c50b      F   55       2017-07-15  112000.0\n",
       "78afa995795e4d85b5d9ceeca43f5fef      F   75       2017-05-09  100000.0\n",
       "e2127556f4f64592b11af22de27a7932      M   68       2018-04-26   70000.0\n",
       "389bc3fa690240e798340f5a15918d5c      M   65       2018-02-09   53000.0\n",
       "2eeac8d8feae4a8cad5a6af0499a211d      M   58       2017-11-11   51000.0"
      ]
     },
     "execution_count": 13,
     "metadata": {},
     "output_type": "execute_result"
    }
   ],
   "source": [
    "profile.head()"
   ]
  },
  {
   "cell_type": "markdown",
   "metadata": {},
   "source": [
    "## 3.2 Preparing `portfolio`"
   ]
  },
  {
   "cell_type": "code",
   "execution_count": 14,
   "metadata": {},
   "outputs": [],
   "source": [
    "# we will be using id as the index \n",
    "portfolio.set_index('id', inplace=True)"
   ]
  },
  {
   "cell_type": "code",
   "execution_count": 15,
   "metadata": {},
   "outputs": [
    {
     "data": {
      "text/html": [
       "<div>\n",
       "<style scoped>\n",
       "    .dataframe tbody tr th:only-of-type {\n",
       "        vertical-align: middle;\n",
       "    }\n",
       "\n",
       "    .dataframe tbody tr th {\n",
       "        vertical-align: top;\n",
       "    }\n",
       "\n",
       "    .dataframe thead th {\n",
       "        text-align: right;\n",
       "    }\n",
       "</style>\n",
       "<table border=\"1\" class=\"dataframe\">\n",
       "  <thead>\n",
       "    <tr style=\"text-align: right;\">\n",
       "      <th></th>\n",
       "      <th>reward</th>\n",
       "      <th>channels</th>\n",
       "      <th>difficulty</th>\n",
       "      <th>duration</th>\n",
       "      <th>offer_type</th>\n",
       "      <th>code</th>\n",
       "    </tr>\n",
       "    <tr>\n",
       "      <th>id</th>\n",
       "      <th></th>\n",
       "      <th></th>\n",
       "      <th></th>\n",
       "      <th></th>\n",
       "      <th></th>\n",
       "      <th></th>\n",
       "    </tr>\n",
       "  </thead>\n",
       "  <tbody>\n",
       "    <tr>\n",
       "      <th>f19421c1d4aa40978ebb69ca19b0e20d</th>\n",
       "      <td>5</td>\n",
       "      <td>[web, email, mobile, social]</td>\n",
       "      <td>5</td>\n",
       "      <td>5</td>\n",
       "      <td>bogo</td>\n",
       "      <td>B.05.05</td>\n",
       "    </tr>\n",
       "    <tr>\n",
       "      <th>9b98b8c7a33c4b65b9aebfe6a799e6d9</th>\n",
       "      <td>5</td>\n",
       "      <td>[web, email, mobile]</td>\n",
       "      <td>5</td>\n",
       "      <td>7</td>\n",
       "      <td>bogo</td>\n",
       "      <td>B.07.05</td>\n",
       "    </tr>\n",
       "    <tr>\n",
       "      <th>4d5c57ea9a6940dd891ad53e9dbe8da0</th>\n",
       "      <td>10</td>\n",
       "      <td>[web, email, mobile, social]</td>\n",
       "      <td>10</td>\n",
       "      <td>5</td>\n",
       "      <td>bogo</td>\n",
       "      <td>B.05.10</td>\n",
       "    </tr>\n",
       "    <tr>\n",
       "      <th>ae264e3637204a6fb9bb56bc8210ddfd</th>\n",
       "      <td>10</td>\n",
       "      <td>[email, mobile, social]</td>\n",
       "      <td>10</td>\n",
       "      <td>7</td>\n",
       "      <td>bogo</td>\n",
       "      <td>B.07.10</td>\n",
       "    </tr>\n",
       "    <tr>\n",
       "      <th>2298d6c36e964ae4a3e7e9706d1fb8c2</th>\n",
       "      <td>3</td>\n",
       "      <td>[web, email, mobile, social]</td>\n",
       "      <td>7</td>\n",
       "      <td>7</td>\n",
       "      <td>discount</td>\n",
       "      <td>D.07.07</td>\n",
       "    </tr>\n",
       "    <tr>\n",
       "      <th>2906b810c7d4411798c6938adc9daaa5</th>\n",
       "      <td>2</td>\n",
       "      <td>[web, email, mobile]</td>\n",
       "      <td>10</td>\n",
       "      <td>7</td>\n",
       "      <td>discount</td>\n",
       "      <td>D.07.10</td>\n",
       "    </tr>\n",
       "    <tr>\n",
       "      <th>fafdcd668e3743c1bb461111dcafc2a4</th>\n",
       "      <td>2</td>\n",
       "      <td>[web, email, mobile, social]</td>\n",
       "      <td>10</td>\n",
       "      <td>10</td>\n",
       "      <td>discount</td>\n",
       "      <td>D.10.10</td>\n",
       "    </tr>\n",
       "    <tr>\n",
       "      <th>0b1e1539f2cc45b7b9fa7c272da2e1d7</th>\n",
       "      <td>5</td>\n",
       "      <td>[web, email]</td>\n",
       "      <td>20</td>\n",
       "      <td>10</td>\n",
       "      <td>discount</td>\n",
       "      <td>D.10.20</td>\n",
       "    </tr>\n",
       "    <tr>\n",
       "      <th>5a8bc65990b245e5a138643cd4eb9837</th>\n",
       "      <td>0</td>\n",
       "      <td>[email, mobile, social]</td>\n",
       "      <td>0</td>\n",
       "      <td>3</td>\n",
       "      <td>informational</td>\n",
       "      <td>I.03.00</td>\n",
       "    </tr>\n",
       "    <tr>\n",
       "      <th>3f207df678b143eea3cee63160fa8bed</th>\n",
       "      <td>0</td>\n",
       "      <td>[web, email, mobile]</td>\n",
       "      <td>0</td>\n",
       "      <td>4</td>\n",
       "      <td>informational</td>\n",
       "      <td>I.04.00</td>\n",
       "    </tr>\n",
       "  </tbody>\n",
       "</table>\n",
       "</div>"
      ],
      "text/plain": [
       "                                  reward                      channels  \\\n",
       "id                                                                       \n",
       "f19421c1d4aa40978ebb69ca19b0e20d       5  [web, email, mobile, social]   \n",
       "9b98b8c7a33c4b65b9aebfe6a799e6d9       5          [web, email, mobile]   \n",
       "4d5c57ea9a6940dd891ad53e9dbe8da0      10  [web, email, mobile, social]   \n",
       "ae264e3637204a6fb9bb56bc8210ddfd      10       [email, mobile, social]   \n",
       "2298d6c36e964ae4a3e7e9706d1fb8c2       3  [web, email, mobile, social]   \n",
       "2906b810c7d4411798c6938adc9daaa5       2          [web, email, mobile]   \n",
       "fafdcd668e3743c1bb461111dcafc2a4       2  [web, email, mobile, social]   \n",
       "0b1e1539f2cc45b7b9fa7c272da2e1d7       5                  [web, email]   \n",
       "5a8bc65990b245e5a138643cd4eb9837       0       [email, mobile, social]   \n",
       "3f207df678b143eea3cee63160fa8bed       0          [web, email, mobile]   \n",
       "\n",
       "                                  difficulty  duration     offer_type     code  \n",
       "id                                                                              \n",
       "f19421c1d4aa40978ebb69ca19b0e20d           5         5           bogo  B.05.05  \n",
       "9b98b8c7a33c4b65b9aebfe6a799e6d9           5         7           bogo  B.07.05  \n",
       "4d5c57ea9a6940dd891ad53e9dbe8da0          10         5           bogo  B.05.10  \n",
       "ae264e3637204a6fb9bb56bc8210ddfd          10         7           bogo  B.07.10  \n",
       "2298d6c36e964ae4a3e7e9706d1fb8c2           7         7       discount  D.07.07  \n",
       "2906b810c7d4411798c6938adc9daaa5          10         7       discount  D.07.10  \n",
       "fafdcd668e3743c1bb461111dcafc2a4          10        10       discount  D.10.10  \n",
       "0b1e1539f2cc45b7b9fa7c272da2e1d7          20        10       discount  D.10.20  \n",
       "5a8bc65990b245e5a138643cd4eb9837           0         3  informational  I.03.00  \n",
       "3f207df678b143eea3cee63160fa8bed           0         4  informational  I.04.00  "
      ]
     },
     "execution_count": 15,
     "metadata": {},
     "output_type": "execute_result"
    }
   ],
   "source": [
    "# Creating code for each offer\n",
    "portfolio['code'] = portfolio.apply(lambda x: x['offer_type'][0].capitalize()+'.'+str(x['duration']).zfill(2) +'.'+str(x['difficulty']).zfill(2), axis=1)\n",
    "portfolio.sort_values(by=['offer_type', 'difficulty', 'duration'])"
   ]
  },
  {
   "cell_type": "markdown",
   "metadata": {},
   "source": [
    "## 3.3 Preparing `transcript`"
   ]
  },
  {
   "cell_type": "markdown",
   "metadata": {},
   "source": [
    "__1. We are fitering out `transcript` according to the participants available in the `profile` dataset__"
   ]
  },
  {
   "cell_type": "code",
   "execution_count": 16,
   "metadata": {},
   "outputs": [
    {
     "data": {
      "text/html": [
       "<div>\n",
       "<style scoped>\n",
       "    .dataframe tbody tr th:only-of-type {\n",
       "        vertical-align: middle;\n",
       "    }\n",
       "\n",
       "    .dataframe tbody tr th {\n",
       "        vertical-align: top;\n",
       "    }\n",
       "\n",
       "    .dataframe thead th {\n",
       "        text-align: right;\n",
       "    }\n",
       "</style>\n",
       "<table border=\"1\" class=\"dataframe\">\n",
       "  <thead>\n",
       "    <tr style=\"text-align: right;\">\n",
       "      <th></th>\n",
       "      <th>person</th>\n",
       "      <th>event</th>\n",
       "      <th>value</th>\n",
       "      <th>time</th>\n",
       "    </tr>\n",
       "  </thead>\n",
       "  <tbody>\n",
       "    <tr>\n",
       "      <th>0</th>\n",
       "      <td>78afa995795e4d85b5d9ceeca43f5fef</td>\n",
       "      <td>offer received</td>\n",
       "      <td>{'offer id': '9b98b8c7a33c4b65b9aebfe6a799e6d9'}</td>\n",
       "      <td>0</td>\n",
       "    </tr>\n",
       "    <tr>\n",
       "      <th>2</th>\n",
       "      <td>e2127556f4f64592b11af22de27a7932</td>\n",
       "      <td>offer received</td>\n",
       "      <td>{'offer id': '2906b810c7d4411798c6938adc9daaa5'}</td>\n",
       "      <td>0</td>\n",
       "    </tr>\n",
       "    <tr>\n",
       "      <th>5</th>\n",
       "      <td>389bc3fa690240e798340f5a15918d5c</td>\n",
       "      <td>offer received</td>\n",
       "      <td>{'offer id': 'f19421c1d4aa40978ebb69ca19b0e20d'}</td>\n",
       "      <td>0</td>\n",
       "    </tr>\n",
       "    <tr>\n",
       "      <th>7</th>\n",
       "      <td>2eeac8d8feae4a8cad5a6af0499a211d</td>\n",
       "      <td>offer received</td>\n",
       "      <td>{'offer id': '3f207df678b143eea3cee63160fa8bed'}</td>\n",
       "      <td>0</td>\n",
       "    </tr>\n",
       "    <tr>\n",
       "      <th>8</th>\n",
       "      <td>aa4862eba776480b8bb9c68455b8c2e1</td>\n",
       "      <td>offer received</td>\n",
       "      <td>{'offer id': '0b1e1539f2cc45b7b9fa7c272da2e1d7'}</td>\n",
       "      <td>0</td>\n",
       "    </tr>\n",
       "  </tbody>\n",
       "</table>\n",
       "</div>"
      ],
      "text/plain": [
       "                             person           event  \\\n",
       "0  78afa995795e4d85b5d9ceeca43f5fef  offer received   \n",
       "2  e2127556f4f64592b11af22de27a7932  offer received   \n",
       "5  389bc3fa690240e798340f5a15918d5c  offer received   \n",
       "7  2eeac8d8feae4a8cad5a6af0499a211d  offer received   \n",
       "8  aa4862eba776480b8bb9c68455b8c2e1  offer received   \n",
       "\n",
       "                                              value  time  \n",
       "0  {'offer id': '9b98b8c7a33c4b65b9aebfe6a799e6d9'}     0  \n",
       "2  {'offer id': '2906b810c7d4411798c6938adc9daaa5'}     0  \n",
       "5  {'offer id': 'f19421c1d4aa40978ebb69ca19b0e20d'}     0  \n",
       "7  {'offer id': '3f207df678b143eea3cee63160fa8bed'}     0  \n",
       "8  {'offer id': '0b1e1539f2cc45b7b9fa7c272da2e1d7'}     0  "
      ]
     },
     "execution_count": 16,
     "metadata": {},
     "output_type": "execute_result"
    }
   ],
   "source": [
    "user_list = list(profile.index)\n",
    "transcript = transcript.query('person in @user_list')\n",
    "transcript.head()"
   ]
  },
  {
   "cell_type": "code",
   "execution_count": 17,
   "metadata": {},
   "outputs": [
    {
     "name": "stdout",
     "output_type": "stream",
     "text": [
      "We found 14825 unique participants in the transcript dataset\n"
     ]
    }
   ],
   "source": [
    "n_users_trans = transcript.person.unique().__len__()\n",
    "print(f'We found {n_users_trans} unique participants in the transcript dataset')"
   ]
  },
  {
   "cell_type": "markdown",
   "metadata": {},
   "source": [
    "__2. We are filtering out participants that did not receive any offer__\n",
    "\n",
    "Since we will look at the offer received to measure the impact of each other we will check if all participants received at least 1 offer."
   ]
  },
  {
   "cell_type": "code",
   "execution_count": 18,
   "metadata": {},
   "outputs": [
    {
     "name": "stdout",
     "output_type": "stream",
     "text": [
      "5 participants did not received any offer\n"
     ]
    },
    {
     "data": {
      "text/html": [
       "<div>\n",
       "<style scoped>\n",
       "    .dataframe tbody tr th:only-of-type {\n",
       "        vertical-align: middle;\n",
       "    }\n",
       "\n",
       "    .dataframe tbody tr th {\n",
       "        vertical-align: top;\n",
       "    }\n",
       "\n",
       "    .dataframe thead th {\n",
       "        text-align: right;\n",
       "    }\n",
       "</style>\n",
       "<table border=\"1\" class=\"dataframe\">\n",
       "  <thead>\n",
       "    <tr style=\"text-align: right;\">\n",
       "      <th></th>\n",
       "      <th>person</th>\n",
       "      <th>event</th>\n",
       "      <th>value</th>\n",
       "      <th>time</th>\n",
       "    </tr>\n",
       "  </thead>\n",
       "  <tbody>\n",
       "    <tr>\n",
       "      <th>16379</th>\n",
       "      <td>eb540099db834cf59001f83a4561aef3</td>\n",
       "      <td>transaction</td>\n",
       "      <td>{'amount': 4.74}</td>\n",
       "      <td>6</td>\n",
       "    </tr>\n",
       "    <tr>\n",
       "      <th>22092</th>\n",
       "      <td>12ede229379747bd8d74ccdc20097ca3</td>\n",
       "      <td>transaction</td>\n",
       "      <td>{'amount': 16.62}</td>\n",
       "      <td>18</td>\n",
       "    </tr>\n",
       "    <tr>\n",
       "      <th>69477</th>\n",
       "      <td>c6e579c6821c41d1a7a6a9cf936e91bb</td>\n",
       "      <td>transaction</td>\n",
       "      <td>{'amount': 0.65}</td>\n",
       "      <td>174</td>\n",
       "    </tr>\n",
       "    <tr>\n",
       "      <th>87239</th>\n",
       "      <td>c6e579c6821c41d1a7a6a9cf936e91bb</td>\n",
       "      <td>transaction</td>\n",
       "      <td>{'amount': 1.9100000000000001}</td>\n",
       "      <td>222</td>\n",
       "    </tr>\n",
       "    <tr>\n",
       "      <th>106812</th>\n",
       "      <td>ae8111e7e8cd4b60a8d35c42c1110555</td>\n",
       "      <td>transaction</td>\n",
       "      <td>{'amount': 17.51}</td>\n",
       "      <td>306</td>\n",
       "    </tr>\n",
       "    <tr>\n",
       "      <th>108268</th>\n",
       "      <td>eb540099db834cf59001f83a4561aef3</td>\n",
       "      <td>transaction</td>\n",
       "      <td>{'amount': 5.09}</td>\n",
       "      <td>318</td>\n",
       "    </tr>\n",
       "    <tr>\n",
       "      <th>109340</th>\n",
       "      <td>3a4874d8f0ef42b9a1b72294902afea9</td>\n",
       "      <td>transaction</td>\n",
       "      <td>{'amount': 22.75}</td>\n",
       "      <td>324</td>\n",
       "    </tr>\n",
       "    <tr>\n",
       "      <th>109815</th>\n",
       "      <td>12ede229379747bd8d74ccdc20097ca3</td>\n",
       "      <td>transaction</td>\n",
       "      <td>{'amount': 27.6}</td>\n",
       "      <td>324</td>\n",
       "    </tr>\n",
       "    <tr>\n",
       "      <th>110707</th>\n",
       "      <td>ae8111e7e8cd4b60a8d35c42c1110555</td>\n",
       "      <td>transaction</td>\n",
       "      <td>{'amount': 28.7}</td>\n",
       "      <td>330</td>\n",
       "    </tr>\n",
       "    <tr>\n",
       "      <th>142347</th>\n",
       "      <td>3a4874d8f0ef42b9a1b72294902afea9</td>\n",
       "      <td>transaction</td>\n",
       "      <td>{'amount': 27.2}</td>\n",
       "      <td>378</td>\n",
       "    </tr>\n",
       "    <tr>\n",
       "      <th>163610</th>\n",
       "      <td>c6e579c6821c41d1a7a6a9cf936e91bb</td>\n",
       "      <td>transaction</td>\n",
       "      <td>{'amount': 1.25}</td>\n",
       "      <td>408</td>\n",
       "    </tr>\n",
       "    <tr>\n",
       "      <th>184609</th>\n",
       "      <td>ae8111e7e8cd4b60a8d35c42c1110555</td>\n",
       "      <td>transaction</td>\n",
       "      <td>{'amount': 11.53}</td>\n",
       "      <td>444</td>\n",
       "    </tr>\n",
       "    <tr>\n",
       "      <th>228700</th>\n",
       "      <td>eb540099db834cf59001f83a4561aef3</td>\n",
       "      <td>transaction</td>\n",
       "      <td>{'amount': 7.4}</td>\n",
       "      <td>528</td>\n",
       "    </tr>\n",
       "    <tr>\n",
       "      <th>243317</th>\n",
       "      <td>c6e579c6821c41d1a7a6a9cf936e91bb</td>\n",
       "      <td>transaction</td>\n",
       "      <td>{'amount': 3.14}</td>\n",
       "      <td>570</td>\n",
       "    </tr>\n",
       "    <tr>\n",
       "      <th>259644</th>\n",
       "      <td>3a4874d8f0ef42b9a1b72294902afea9</td>\n",
       "      <td>transaction</td>\n",
       "      <td>{'amount': 17.67}</td>\n",
       "      <td>576</td>\n",
       "    </tr>\n",
       "    <tr>\n",
       "      <th>269818</th>\n",
       "      <td>eb540099db834cf59001f83a4561aef3</td>\n",
       "      <td>transaction</td>\n",
       "      <td>{'amount': 8.78}</td>\n",
       "      <td>594</td>\n",
       "    </tr>\n",
       "    <tr>\n",
       "      <th>287598</th>\n",
       "      <td>ae8111e7e8cd4b60a8d35c42c1110555</td>\n",
       "      <td>transaction</td>\n",
       "      <td>{'amount': 9.72}</td>\n",
       "      <td>636</td>\n",
       "    </tr>\n",
       "    <tr>\n",
       "      <th>292894</th>\n",
       "      <td>ae8111e7e8cd4b60a8d35c42c1110555</td>\n",
       "      <td>transaction</td>\n",
       "      <td>{'amount': 18.97}</td>\n",
       "      <td>654</td>\n",
       "    </tr>\n",
       "    <tr>\n",
       "      <th>292962</th>\n",
       "      <td>12ede229379747bd8d74ccdc20097ca3</td>\n",
       "      <td>transaction</td>\n",
       "      <td>{'amount': 19.03}</td>\n",
       "      <td>654</td>\n",
       "    </tr>\n",
       "  </tbody>\n",
       "</table>\n",
       "</div>"
      ],
      "text/plain": [
       "                                  person        event  \\\n",
       "16379   eb540099db834cf59001f83a4561aef3  transaction   \n",
       "22092   12ede229379747bd8d74ccdc20097ca3  transaction   \n",
       "69477   c6e579c6821c41d1a7a6a9cf936e91bb  transaction   \n",
       "87239   c6e579c6821c41d1a7a6a9cf936e91bb  transaction   \n",
       "106812  ae8111e7e8cd4b60a8d35c42c1110555  transaction   \n",
       "108268  eb540099db834cf59001f83a4561aef3  transaction   \n",
       "109340  3a4874d8f0ef42b9a1b72294902afea9  transaction   \n",
       "109815  12ede229379747bd8d74ccdc20097ca3  transaction   \n",
       "110707  ae8111e7e8cd4b60a8d35c42c1110555  transaction   \n",
       "142347  3a4874d8f0ef42b9a1b72294902afea9  transaction   \n",
       "163610  c6e579c6821c41d1a7a6a9cf936e91bb  transaction   \n",
       "184609  ae8111e7e8cd4b60a8d35c42c1110555  transaction   \n",
       "228700  eb540099db834cf59001f83a4561aef3  transaction   \n",
       "243317  c6e579c6821c41d1a7a6a9cf936e91bb  transaction   \n",
       "259644  3a4874d8f0ef42b9a1b72294902afea9  transaction   \n",
       "269818  eb540099db834cf59001f83a4561aef3  transaction   \n",
       "287598  ae8111e7e8cd4b60a8d35c42c1110555  transaction   \n",
       "292894  ae8111e7e8cd4b60a8d35c42c1110555  transaction   \n",
       "292962  12ede229379747bd8d74ccdc20097ca3  transaction   \n",
       "\n",
       "                                 value  time  \n",
       "16379                 {'amount': 4.74}     6  \n",
       "22092                {'amount': 16.62}    18  \n",
       "69477                 {'amount': 0.65}   174  \n",
       "87239   {'amount': 1.9100000000000001}   222  \n",
       "106812               {'amount': 17.51}   306  \n",
       "108268                {'amount': 5.09}   318  \n",
       "109340               {'amount': 22.75}   324  \n",
       "109815                {'amount': 27.6}   324  \n",
       "110707                {'amount': 28.7}   330  \n",
       "142347                {'amount': 27.2}   378  \n",
       "163610                {'amount': 1.25}   408  \n",
       "184609               {'amount': 11.53}   444  \n",
       "228700                 {'amount': 7.4}   528  \n",
       "243317                {'amount': 3.14}   570  \n",
       "259644               {'amount': 17.67}   576  \n",
       "269818                {'amount': 8.78}   594  \n",
       "287598                {'amount': 9.72}   636  \n",
       "292894               {'amount': 18.97}   654  \n",
       "292962               {'amount': 19.03}   654  "
      ]
     },
     "execution_count": 18,
     "metadata": {},
     "output_type": "execute_result"
    }
   ],
   "source": [
    "user_received = transcript.query('event == \"offer received\"')['person'].unique()\n",
    "no_offer_list = list(set(profile.index).difference(set(user_received))) # TO BE FILTERED OUT\n",
    "print(f'{len(no_offer_list)} participants did not received any offer')\n",
    "transcript.query('person in @no_offer_list')"
   ]
  },
  {
   "cell_type": "markdown",
   "metadata": {},
   "source": [
    "__3. We are filtering out participants with no transactions__\n",
    "\n",
    "Since we will measure the impact of each other with the transactions that occured we will check if all participants achieve at least 1 transaction."
   ]
  },
  {
   "cell_type": "code",
   "execution_count": 19,
   "metadata": {},
   "outputs": [
    {
     "name": "stdout",
     "output_type": "stream",
     "text": [
      "333 participants did not make any transactions\n"
     ]
    },
    {
     "data": {
      "text/html": [
       "<div>\n",
       "<style scoped>\n",
       "    .dataframe tbody tr th:only-of-type {\n",
       "        vertical-align: middle;\n",
       "    }\n",
       "\n",
       "    .dataframe tbody tr th {\n",
       "        vertical-align: top;\n",
       "    }\n",
       "\n",
       "    .dataframe thead th {\n",
       "        text-align: right;\n",
       "    }\n",
       "</style>\n",
       "<table border=\"1\" class=\"dataframe\">\n",
       "  <thead>\n",
       "    <tr style=\"text-align: right;\">\n",
       "      <th></th>\n",
       "      <th>person</th>\n",
       "      <th>event</th>\n",
       "      <th>value</th>\n",
       "      <th>time</th>\n",
       "    </tr>\n",
       "  </thead>\n",
       "  <tbody>\n",
       "    <tr>\n",
       "      <th>60</th>\n",
       "      <td>13b7b2eccf664a329d83d2a238a9a11d</td>\n",
       "      <td>offer received</td>\n",
       "      <td>{'offer id': 'f19421c1d4aa40978ebb69ca19b0e20d'}</td>\n",
       "      <td>0</td>\n",
       "    </tr>\n",
       "    <tr>\n",
       "      <th>85</th>\n",
       "      <td>d41fa9b8c2e24a1d94caa890c53bbcf6</td>\n",
       "      <td>offer received</td>\n",
       "      <td>{'offer id': '9b98b8c7a33c4b65b9aebfe6a799e6d9'}</td>\n",
       "      <td>0</td>\n",
       "    </tr>\n",
       "    <tr>\n",
       "      <th>141</th>\n",
       "      <td>accec36a10704e1fbaeb9b28b8bc5da8</td>\n",
       "      <td>offer received</td>\n",
       "      <td>{'offer id': 'fafdcd668e3743c1bb461111dcafc2a4'}</td>\n",
       "      <td>0</td>\n",
       "    </tr>\n",
       "    <tr>\n",
       "      <th>155</th>\n",
       "      <td>688e4f2487d44ad8bbcc0f96936f42d6</td>\n",
       "      <td>offer received</td>\n",
       "      <td>{'offer id': '5a8bc65990b245e5a138643cd4eb9837'}</td>\n",
       "      <td>0</td>\n",
       "    </tr>\n",
       "    <tr>\n",
       "      <th>160</th>\n",
       "      <td>4e5923e5deab4d5cb1624a0b1cc9909c</td>\n",
       "      <td>offer received</td>\n",
       "      <td>{'offer id': '2298d6c36e964ae4a3e7e9706d1fb8c2'}</td>\n",
       "      <td>0</td>\n",
       "    </tr>\n",
       "    <tr>\n",
       "      <th>...</th>\n",
       "      <td>...</td>\n",
       "      <td>...</td>\n",
       "      <td>...</td>\n",
       "      <td>...</td>\n",
       "    </tr>\n",
       "    <tr>\n",
       "      <th>302780</th>\n",
       "      <td>17360c8e66a840fb82441f6c0eb8bf47</td>\n",
       "      <td>offer viewed</td>\n",
       "      <td>{'offer id': '0b1e1539f2cc45b7b9fa7c272da2e1d7'}</td>\n",
       "      <td>696</td>\n",
       "    </tr>\n",
       "    <tr>\n",
       "      <th>303730</th>\n",
       "      <td>e9980e136f9e4f00a2e2c895907b0d82</td>\n",
       "      <td>offer viewed</td>\n",
       "      <td>{'offer id': 'ae264e3637204a6fb9bb56bc8210ddfd'}</td>\n",
       "      <td>702</td>\n",
       "    </tr>\n",
       "    <tr>\n",
       "      <th>304010</th>\n",
       "      <td>456f5d7fe4f14732b01a85b3a584ab82</td>\n",
       "      <td>offer viewed</td>\n",
       "      <td>{'offer id': 'ae264e3637204a6fb9bb56bc8210ddfd'}</td>\n",
       "      <td>702</td>\n",
       "    </tr>\n",
       "    <tr>\n",
       "      <th>304457</th>\n",
       "      <td>1aa4e69892454c308421ad7dacac366a</td>\n",
       "      <td>offer viewed</td>\n",
       "      <td>{'offer id': '3f207df678b143eea3cee63160fa8bed'}</td>\n",
       "      <td>708</td>\n",
       "    </tr>\n",
       "    <tr>\n",
       "      <th>306450</th>\n",
       "      <td>9b51e8797290403b90d09d864dec4b94</td>\n",
       "      <td>offer viewed</td>\n",
       "      <td>{'offer id': '3f207df678b143eea3cee63160fa8bed'}</td>\n",
       "      <td>714</td>\n",
       "    </tr>\n",
       "  </tbody>\n",
       "</table>\n",
       "<p>2617 rows × 4 columns</p>\n",
       "</div>"
      ],
      "text/plain": [
       "                                  person           event  \\\n",
       "60      13b7b2eccf664a329d83d2a238a9a11d  offer received   \n",
       "85      d41fa9b8c2e24a1d94caa890c53bbcf6  offer received   \n",
       "141     accec36a10704e1fbaeb9b28b8bc5da8  offer received   \n",
       "155     688e4f2487d44ad8bbcc0f96936f42d6  offer received   \n",
       "160     4e5923e5deab4d5cb1624a0b1cc9909c  offer received   \n",
       "...                                  ...             ...   \n",
       "302780  17360c8e66a840fb82441f6c0eb8bf47    offer viewed   \n",
       "303730  e9980e136f9e4f00a2e2c895907b0d82    offer viewed   \n",
       "304010  456f5d7fe4f14732b01a85b3a584ab82    offer viewed   \n",
       "304457  1aa4e69892454c308421ad7dacac366a    offer viewed   \n",
       "306450  9b51e8797290403b90d09d864dec4b94    offer viewed   \n",
       "\n",
       "                                                   value  time  \n",
       "60      {'offer id': 'f19421c1d4aa40978ebb69ca19b0e20d'}     0  \n",
       "85      {'offer id': '9b98b8c7a33c4b65b9aebfe6a799e6d9'}     0  \n",
       "141     {'offer id': 'fafdcd668e3743c1bb461111dcafc2a4'}     0  \n",
       "155     {'offer id': '5a8bc65990b245e5a138643cd4eb9837'}     0  \n",
       "160     {'offer id': '2298d6c36e964ae4a3e7e9706d1fb8c2'}     0  \n",
       "...                                                  ...   ...  \n",
       "302780  {'offer id': '0b1e1539f2cc45b7b9fa7c272da2e1d7'}   696  \n",
       "303730  {'offer id': 'ae264e3637204a6fb9bb56bc8210ddfd'}   702  \n",
       "304010  {'offer id': 'ae264e3637204a6fb9bb56bc8210ddfd'}   702  \n",
       "304457  {'offer id': '3f207df678b143eea3cee63160fa8bed'}   708  \n",
       "306450  {'offer id': '3f207df678b143eea3cee63160fa8bed'}   714  \n",
       "\n",
       "[2617 rows x 4 columns]"
      ]
     },
     "execution_count": 19,
     "metadata": {},
     "output_type": "execute_result"
    }
   ],
   "source": [
    "user_transactions = transcript.query('event == \"transaction\"')['person'].unique()\n",
    "no_transaction_list = list(set(profile.index).difference(set(user_transactions))) # TO BE FILTERED OUT \n",
    "print(f'{len(no_transaction_list)} participants did not make any transactions')\n",
    "transcript.query('person in @no_transaction_list')"
   ]
  },
  {
   "cell_type": "markdown",
   "metadata": {},
   "source": [
    "__4. Filtering out participants with no `offer received` or no `transactions` made__"
   ]
  },
  {
   "cell_type": "code",
   "execution_count": 20,
   "metadata": {},
   "outputs": [],
   "source": [
    "participant_filter = list(set(no_offer_list + no_transaction_list))\n",
    "transcript = transcript.query('person not in @participant_filter')"
   ]
  },
  {
   "cell_type": "code",
   "execution_count": 21,
   "metadata": {},
   "outputs": [
    {
     "data": {
      "text/plain": [
       "14487"
      ]
     },
     "execution_count": 21,
     "metadata": {},
     "output_type": "execute_result"
    }
   ],
   "source": [
    "user_profile = set(profile.index)\n",
    "user_received = set(transcript.query('event == \"offer received\"')['person'])\n",
    "user_trans = set(transcript.query('event == \"transaction\"')['person'])\n",
    "\n",
    "# user_list = list(user_received.intersection(user_trans).intersection(user_profile))\n",
    "user_profile.intersection_update(user_received, user_trans)\n",
    "len(user_profile)"
   ]
  },
  {
   "cell_type": "markdown",
   "metadata": {},
   "source": [
    "__5. Extract information from `value` dictionary and split it into `amount`, `offer_id`, and `reward`__"
   ]
  },
  {
   "cell_type": "code",
   "execution_count": 22,
   "metadata": {},
   "outputs": [
    {
     "data": {
      "text/html": [
       "<div>\n",
       "<style scoped>\n",
       "    .dataframe tbody tr th:only-of-type {\n",
       "        vertical-align: middle;\n",
       "    }\n",
       "\n",
       "    .dataframe tbody tr th {\n",
       "        vertical-align: top;\n",
       "    }\n",
       "\n",
       "    .dataframe thead th {\n",
       "        text-align: right;\n",
       "    }\n",
       "</style>\n",
       "<table border=\"1\" class=\"dataframe\">\n",
       "  <thead>\n",
       "    <tr style=\"text-align: right;\">\n",
       "      <th></th>\n",
       "      <th>person</th>\n",
       "      <th>event</th>\n",
       "      <th>time</th>\n",
       "      <th>offer_id</th>\n",
       "      <th>amount</th>\n",
       "      <th>reward</th>\n",
       "    </tr>\n",
       "  </thead>\n",
       "  <tbody>\n",
       "    <tr>\n",
       "      <th>0</th>\n",
       "      <td>78afa995795e4d85b5d9ceeca43f5fef</td>\n",
       "      <td>offer received</td>\n",
       "      <td>0</td>\n",
       "      <td>9b98b8c7a33c4b65b9aebfe6a799e6d9</td>\n",
       "      <td>NaN</td>\n",
       "      <td>NaN</td>\n",
       "    </tr>\n",
       "    <tr>\n",
       "      <th>2</th>\n",
       "      <td>e2127556f4f64592b11af22de27a7932</td>\n",
       "      <td>offer received</td>\n",
       "      <td>0</td>\n",
       "      <td>f19421c1d4aa40978ebb69ca19b0e20d</td>\n",
       "      <td>NaN</td>\n",
       "      <td>NaN</td>\n",
       "    </tr>\n",
       "    <tr>\n",
       "      <th>5</th>\n",
       "      <td>389bc3fa690240e798340f5a15918d5c</td>\n",
       "      <td>offer received</td>\n",
       "      <td>0</td>\n",
       "      <td>0b1e1539f2cc45b7b9fa7c272da2e1d7</td>\n",
       "      <td>NaN</td>\n",
       "      <td>NaN</td>\n",
       "    </tr>\n",
       "    <tr>\n",
       "      <th>7</th>\n",
       "      <td>2eeac8d8feae4a8cad5a6af0499a211d</td>\n",
       "      <td>offer received</td>\n",
       "      <td>0</td>\n",
       "      <td>3f207df678b143eea3cee63160fa8bed</td>\n",
       "      <td>NaN</td>\n",
       "      <td>NaN</td>\n",
       "    </tr>\n",
       "    <tr>\n",
       "      <th>8</th>\n",
       "      <td>aa4862eba776480b8bb9c68455b8c2e1</td>\n",
       "      <td>offer received</td>\n",
       "      <td>0</td>\n",
       "      <td>0b1e1539f2cc45b7b9fa7c272da2e1d7</td>\n",
       "      <td>NaN</td>\n",
       "      <td>NaN</td>\n",
       "    </tr>\n",
       "  </tbody>\n",
       "</table>\n",
       "</div>"
      ],
      "text/plain": [
       "                             person           event  time  \\\n",
       "0  78afa995795e4d85b5d9ceeca43f5fef  offer received     0   \n",
       "2  e2127556f4f64592b11af22de27a7932  offer received     0   \n",
       "5  389bc3fa690240e798340f5a15918d5c  offer received     0   \n",
       "7  2eeac8d8feae4a8cad5a6af0499a211d  offer received     0   \n",
       "8  aa4862eba776480b8bb9c68455b8c2e1  offer received     0   \n",
       "\n",
       "                           offer_id  amount  reward  \n",
       "0  9b98b8c7a33c4b65b9aebfe6a799e6d9     NaN     NaN  \n",
       "2  f19421c1d4aa40978ebb69ca19b0e20d     NaN     NaN  \n",
       "5  0b1e1539f2cc45b7b9fa7c272da2e1d7     NaN     NaN  \n",
       "7  3f207df678b143eea3cee63160fa8bed     NaN     NaN  \n",
       "8  0b1e1539f2cc45b7b9fa7c272da2e1d7     NaN     NaN  "
      ]
     },
     "execution_count": 22,
     "metadata": {},
     "output_type": "execute_result"
    }
   ],
   "source": [
    "def expand_trasncript(transcript):\n",
    "    \n",
    "    #change 'offer id' in 'offer_id'\n",
    "    value = transcript['value'].\\\n",
    "        apply(lambda x:{('offer_id' if k=='offer id' else k): v for k, v in x.items()})\n",
    "    \n",
    "    #expand dictionary into 3 columns and add to transcript\n",
    "    n_trans = transcript.join(pd.json_normalize(value))\n",
    "    \n",
    "    return n_trans.drop(columns=['value']) # drop obsolete columns\n",
    "\n",
    "n_trans = expand_trasncript(transcript)\n",
    "n_trans.head()"
   ]
  },
  {
   "cell_type": "markdown",
   "metadata": {},
   "source": [
    "# __4. Data Analysis & Modeling__"
   ]
  },
  {
   "cell_type": "markdown",
   "metadata": {},
   "source": [
    "In order to analyze the data we created to classes (see `lib.starbucks_class`):\n",
    "- `Person`: participant object:\n",
    "    - attributes: \n",
    "        - `_id`: participant id as found in TRANSCRIPT (`person`) and PROFILE (`id`)\n",
    "        - `data`: all data contain in TRANSCRIPT\n",
    "        - `offers`: offers ids from received offers\n",
    "        - `total_spending`: cumulative sum of all transactions\n",
    "    - methods: `get_transaction()` and `get_reward()` to collect all transactions or reward between 2 timestamps.\n",
    "\n",
    "\n",
    "- `Event`: object for received offer:\n",
    "    - attributes:\n",
    "        - `_id`: index of the received offer in TRANSCRIPT\n",
    "        - `offer_id`: offer id as found in PROFILE\n",
    "        - `details`: all details of the specific offer id as found in PROFILE (duration, difficulty, ...)\n",
    "        - `offer_type`: offer type (bogo, discount, or informational)\n",
    "        - `start`: time (in hours) where the offer was received\n",
    "        - `end`: time (in hours) where the offer is supposed to end (based on offer duration)\n",
    "        - `events`: subset of TRANSCRIPT from start to end\n",
    "        - `viewed`: timestamp (hours) if this offer was viewed, np.nan if not\n",
    "        - `completed`: timestamp (hours) if this offer was completed, np.nan if not\n",
    "        "
   ]
  },
  {
   "cell_type": "code",
   "execution_count": 4,
   "metadata": {},
   "outputs": [
    {
     "name": "stderr",
     "output_type": "stream",
     "text": [
      "/Users/sebastienvillard/Documents/Perso/2020_DataScience_Class/Udacity_nanoDegree/Projects/Project4_CapstoneProject/lib/data_wrangling.py:24: SettingWithCopyWarning: \n",
      "A value is trying to be set on a copy of a slice from a DataFrame.\n",
      "Try using .loc[row_indexer,col_indexer] = value instead\n",
      "\n",
      "See the caveats in the documentation: https://pandas.pydata.org/pandas-docs/stable/user_guide/indexing.html#returning-a-view-versus-a-copy\n",
      "  PROFILE['became_member_on'] = pd.to_datetime(PROFILE['became_member_on'], format='%Y%m%d')\n"
     ]
    }
   ],
   "source": [
    "import numpy as np\n",
    "import pandas as pd\n",
    "from lib.starbucks_class import Person, Event, PORTFOLIO, PROFILE, TRANSCRIPT"
   ]
  },
  {
   "cell_type": "markdown",
   "metadata": {},
   "source": [
    "## 4.1. Data Analysis"
   ]
  },
  {
   "cell_type": "markdown",
   "metadata": {},
   "source": [
    "### 4.1.1. Visualizing the time-line of events for one individual"
   ]
  },
  {
   "cell_type": "code",
   "execution_count": 4,
   "metadata": {},
   "outputs": [
    {
     "data": {
      "text/html": [
       "<div>\n",
       "<style scoped>\n",
       "    .dataframe tbody tr th:only-of-type {\n",
       "        vertical-align: middle;\n",
       "    }\n",
       "\n",
       "    .dataframe tbody tr th {\n",
       "        vertical-align: top;\n",
       "    }\n",
       "\n",
       "    .dataframe thead th {\n",
       "        text-align: right;\n",
       "    }\n",
       "</style>\n",
       "<table border=\"1\" class=\"dataframe\">\n",
       "  <thead>\n",
       "    <tr style=\"text-align: right;\">\n",
       "      <th></th>\n",
       "      <th>person</th>\n",
       "      <th>event</th>\n",
       "      <th>time</th>\n",
       "      <th>offer_id</th>\n",
       "      <th>amount</th>\n",
       "      <th>reward</th>\n",
       "    </tr>\n",
       "  </thead>\n",
       "  <tbody>\n",
       "    <tr>\n",
       "      <th>0</th>\n",
       "      <td>78afa995795e4d85b5d9ceeca43f5fef</td>\n",
       "      <td>offer received</td>\n",
       "      <td>0</td>\n",
       "      <td>9b98b8c7a33c4b65b9aebfe6a799e6d9</td>\n",
       "      <td>NaN</td>\n",
       "      <td>NaN</td>\n",
       "    </tr>\n",
       "    <tr>\n",
       "      <th>13251</th>\n",
       "      <td>78afa995795e4d85b5d9ceeca43f5fef</td>\n",
       "      <td>offer viewed</td>\n",
       "      <td>6</td>\n",
       "      <td>9b98b8c7a33c4b65b9aebfe6a799e6d9</td>\n",
       "      <td>NaN</td>\n",
       "      <td>NaN</td>\n",
       "    </tr>\n",
       "    <tr>\n",
       "      <th>41870</th>\n",
       "      <td>78afa995795e4d85b5d9ceeca43f5fef</td>\n",
       "      <td>transaction</td>\n",
       "      <td>132</td>\n",
       "      <td>NaN</td>\n",
       "      <td>19.89</td>\n",
       "      <td>NaN</td>\n",
       "    </tr>\n",
       "    <tr>\n",
       "      <th>41871</th>\n",
       "      <td>78afa995795e4d85b5d9ceeca43f5fef</td>\n",
       "      <td>offer completed</td>\n",
       "      <td>132</td>\n",
       "      <td>9b98b8c7a33c4b65b9aebfe6a799e6d9</td>\n",
       "      <td>NaN</td>\n",
       "      <td>5.0</td>\n",
       "    </tr>\n",
       "    <tr>\n",
       "      <th>43605</th>\n",
       "      <td>78afa995795e4d85b5d9ceeca43f5fef</td>\n",
       "      <td>transaction</td>\n",
       "      <td>144</td>\n",
       "      <td>NaN</td>\n",
       "      <td>17.78</td>\n",
       "      <td>NaN</td>\n",
       "    </tr>\n",
       "    <tr>\n",
       "      <th>46921</th>\n",
       "      <td>78afa995795e4d85b5d9ceeca43f5fef</td>\n",
       "      <td>offer received</td>\n",
       "      <td>168</td>\n",
       "      <td>5a8bc65990b245e5a138643cd4eb9837</td>\n",
       "      <td>NaN</td>\n",
       "      <td>NaN</td>\n",
       "    </tr>\n",
       "    <tr>\n",
       "      <th>74922</th>\n",
       "      <td>78afa995795e4d85b5d9ceeca43f5fef</td>\n",
       "      <td>offer viewed</td>\n",
       "      <td>216</td>\n",
       "      <td>5a8bc65990b245e5a138643cd4eb9837</td>\n",
       "      <td>NaN</td>\n",
       "      <td>NaN</td>\n",
       "    </tr>\n",
       "    <tr>\n",
       "      <th>76569</th>\n",
       "      <td>78afa995795e4d85b5d9ceeca43f5fef</td>\n",
       "      <td>transaction</td>\n",
       "      <td>222</td>\n",
       "      <td>NaN</td>\n",
       "      <td>19.67</td>\n",
       "      <td>NaN</td>\n",
       "    </tr>\n",
       "    <tr>\n",
       "      <th>81042</th>\n",
       "      <td>78afa995795e4d85b5d9ceeca43f5fef</td>\n",
       "      <td>transaction</td>\n",
       "      <td>240</td>\n",
       "      <td>NaN</td>\n",
       "      <td>29.72</td>\n",
       "      <td>NaN</td>\n",
       "    </tr>\n",
       "    <tr>\n",
       "      <th>124503</th>\n",
       "      <td>78afa995795e4d85b5d9ceeca43f5fef</td>\n",
       "      <td>transaction</td>\n",
       "      <td>378</td>\n",
       "      <td>NaN</td>\n",
       "      <td>23.93</td>\n",
       "      <td>NaN</td>\n",
       "    </tr>\n",
       "    <tr>\n",
       "      <th>132620</th>\n",
       "      <td>78afa995795e4d85b5d9ceeca43f5fef</td>\n",
       "      <td>offer received</td>\n",
       "      <td>408</td>\n",
       "      <td>ae264e3637204a6fb9bb56bc8210ddfd</td>\n",
       "      <td>NaN</td>\n",
       "      <td>NaN</td>\n",
       "    </tr>\n",
       "    <tr>\n",
       "      <th>143489</th>\n",
       "      <td>78afa995795e4d85b5d9ceeca43f5fef</td>\n",
       "      <td>offer viewed</td>\n",
       "      <td>408</td>\n",
       "      <td>ae264e3637204a6fb9bb56bc8210ddfd</td>\n",
       "      <td>NaN</td>\n",
       "      <td>NaN</td>\n",
       "    </tr>\n",
       "    <tr>\n",
       "      <th>177579</th>\n",
       "      <td>78afa995795e4d85b5d9ceeca43f5fef</td>\n",
       "      <td>offer received</td>\n",
       "      <td>504</td>\n",
       "      <td>f19421c1d4aa40978ebb69ca19b0e20d</td>\n",
       "      <td>NaN</td>\n",
       "      <td>NaN</td>\n",
       "    </tr>\n",
       "    <tr>\n",
       "      <th>191964</th>\n",
       "      <td>78afa995795e4d85b5d9ceeca43f5fef</td>\n",
       "      <td>transaction</td>\n",
       "      <td>510</td>\n",
       "      <td>NaN</td>\n",
       "      <td>21.72</td>\n",
       "      <td>NaN</td>\n",
       "    </tr>\n",
       "    <tr>\n",
       "      <th>191965</th>\n",
       "      <td>78afa995795e4d85b5d9ceeca43f5fef</td>\n",
       "      <td>offer completed</td>\n",
       "      <td>510</td>\n",
       "      <td>ae264e3637204a6fb9bb56bc8210ddfd</td>\n",
       "      <td>NaN</td>\n",
       "      <td>10.0</td>\n",
       "    </tr>\n",
       "    <tr>\n",
       "      <th>191966</th>\n",
       "      <td>78afa995795e4d85b5d9ceeca43f5fef</td>\n",
       "      <td>offer completed</td>\n",
       "      <td>510</td>\n",
       "      <td>f19421c1d4aa40978ebb69ca19b0e20d</td>\n",
       "      <td>NaN</td>\n",
       "      <td>5.0</td>\n",
       "    </tr>\n",
       "    <tr>\n",
       "      <th>202610</th>\n",
       "      <td>78afa995795e4d85b5d9ceeca43f5fef</td>\n",
       "      <td>transaction</td>\n",
       "      <td>534</td>\n",
       "      <td>NaN</td>\n",
       "      <td>26.56</td>\n",
       "      <td>NaN</td>\n",
       "    </tr>\n",
       "    <tr>\n",
       "      <th>230394</th>\n",
       "      <td>78afa995795e4d85b5d9ceeca43f5fef</td>\n",
       "      <td>offer viewed</td>\n",
       "      <td>582</td>\n",
       "      <td>f19421c1d4aa40978ebb69ca19b0e20d</td>\n",
       "      <td>NaN</td>\n",
       "      <td>NaN</td>\n",
       "    </tr>\n",
       "  </tbody>\n",
       "</table>\n",
       "</div>"
      ],
      "text/plain": [
       "                                  person            event  time  \\\n",
       "0       78afa995795e4d85b5d9ceeca43f5fef   offer received     0   \n",
       "13251   78afa995795e4d85b5d9ceeca43f5fef     offer viewed     6   \n",
       "41870   78afa995795e4d85b5d9ceeca43f5fef      transaction   132   \n",
       "41871   78afa995795e4d85b5d9ceeca43f5fef  offer completed   132   \n",
       "43605   78afa995795e4d85b5d9ceeca43f5fef      transaction   144   \n",
       "46921   78afa995795e4d85b5d9ceeca43f5fef   offer received   168   \n",
       "74922   78afa995795e4d85b5d9ceeca43f5fef     offer viewed   216   \n",
       "76569   78afa995795e4d85b5d9ceeca43f5fef      transaction   222   \n",
       "81042   78afa995795e4d85b5d9ceeca43f5fef      transaction   240   \n",
       "124503  78afa995795e4d85b5d9ceeca43f5fef      transaction   378   \n",
       "132620  78afa995795e4d85b5d9ceeca43f5fef   offer received   408   \n",
       "143489  78afa995795e4d85b5d9ceeca43f5fef     offer viewed   408   \n",
       "177579  78afa995795e4d85b5d9ceeca43f5fef   offer received   504   \n",
       "191964  78afa995795e4d85b5d9ceeca43f5fef      transaction   510   \n",
       "191965  78afa995795e4d85b5d9ceeca43f5fef  offer completed   510   \n",
       "191966  78afa995795e4d85b5d9ceeca43f5fef  offer completed   510   \n",
       "202610  78afa995795e4d85b5d9ceeca43f5fef      transaction   534   \n",
       "230394  78afa995795e4d85b5d9ceeca43f5fef     offer viewed   582   \n",
       "\n",
       "                                offer_id  amount  reward  \n",
       "0       9b98b8c7a33c4b65b9aebfe6a799e6d9     NaN     NaN  \n",
       "13251   9b98b8c7a33c4b65b9aebfe6a799e6d9     NaN     NaN  \n",
       "41870                                NaN   19.89     NaN  \n",
       "41871   9b98b8c7a33c4b65b9aebfe6a799e6d9     NaN     5.0  \n",
       "43605                                NaN   17.78     NaN  \n",
       "46921   5a8bc65990b245e5a138643cd4eb9837     NaN     NaN  \n",
       "74922   5a8bc65990b245e5a138643cd4eb9837     NaN     NaN  \n",
       "76569                                NaN   19.67     NaN  \n",
       "81042                                NaN   29.72     NaN  \n",
       "124503                               NaN   23.93     NaN  \n",
       "132620  ae264e3637204a6fb9bb56bc8210ddfd     NaN     NaN  \n",
       "143489  ae264e3637204a6fb9bb56bc8210ddfd     NaN     NaN  \n",
       "177579  f19421c1d4aa40978ebb69ca19b0e20d     NaN     NaN  \n",
       "191964                               NaN   21.72     NaN  \n",
       "191965  ae264e3637204a6fb9bb56bc8210ddfd     NaN    10.0  \n",
       "191966  f19421c1d4aa40978ebb69ca19b0e20d     NaN     5.0  \n",
       "202610                               NaN   26.56     NaN  \n",
       "230394  f19421c1d4aa40978ebb69ca19b0e20d     NaN     NaN  "
      ]
     },
     "execution_count": 4,
     "metadata": {},
     "output_type": "execute_result"
    }
   ],
   "source": [
    "# gathering information from a participant included in TRANSCRIPT\n",
    "user_list = TRANSCRIPT.person.unique()\n",
    "user_id = user_list[0]\n",
    "User = Person(user_id)\n",
    "User.data"
   ]
  },
  {
   "cell_type": "code",
   "execution_count": 5,
   "metadata": {},
   "outputs": [
    {
     "data": {
      "text/html": [
       "<div>\n",
       "<style scoped>\n",
       "    .dataframe tbody tr th:only-of-type {\n",
       "        vertical-align: middle;\n",
       "    }\n",
       "\n",
       "    .dataframe tbody tr th {\n",
       "        vertical-align: top;\n",
       "    }\n",
       "\n",
       "    .dataframe thead th {\n",
       "        text-align: right;\n",
       "    }\n",
       "</style>\n",
       "<table border=\"1\" class=\"dataframe\">\n",
       "  <thead>\n",
       "    <tr style=\"text-align: right;\">\n",
       "      <th></th>\n",
       "      <th>person</th>\n",
       "      <th>event</th>\n",
       "      <th>time</th>\n",
       "      <th>offer_id</th>\n",
       "      <th>amount</th>\n",
       "      <th>reward</th>\n",
       "    </tr>\n",
       "  </thead>\n",
       "  <tbody>\n",
       "    <tr>\n",
       "      <th>0</th>\n",
       "      <td>78afa995795e4d85b5d9ceeca43f5fef</td>\n",
       "      <td>offer received</td>\n",
       "      <td>0</td>\n",
       "      <td>9b98b8c7a33c4b65b9aebfe6a799e6d9</td>\n",
       "      <td>NaN</td>\n",
       "      <td>NaN</td>\n",
       "    </tr>\n",
       "    <tr>\n",
       "      <th>13251</th>\n",
       "      <td>78afa995795e4d85b5d9ceeca43f5fef</td>\n",
       "      <td>offer viewed</td>\n",
       "      <td>6</td>\n",
       "      <td>9b98b8c7a33c4b65b9aebfe6a799e6d9</td>\n",
       "      <td>NaN</td>\n",
       "      <td>NaN</td>\n",
       "    </tr>\n",
       "    <tr>\n",
       "      <th>41870</th>\n",
       "      <td>78afa995795e4d85b5d9ceeca43f5fef</td>\n",
       "      <td>transaction</td>\n",
       "      <td>132</td>\n",
       "      <td>NaN</td>\n",
       "      <td>19.89</td>\n",
       "      <td>NaN</td>\n",
       "    </tr>\n",
       "    <tr>\n",
       "      <th>41871</th>\n",
       "      <td>78afa995795e4d85b5d9ceeca43f5fef</td>\n",
       "      <td>offer completed</td>\n",
       "      <td>132</td>\n",
       "      <td>9b98b8c7a33c4b65b9aebfe6a799e6d9</td>\n",
       "      <td>NaN</td>\n",
       "      <td>5.0</td>\n",
       "    </tr>\n",
       "    <tr>\n",
       "      <th>43605</th>\n",
       "      <td>78afa995795e4d85b5d9ceeca43f5fef</td>\n",
       "      <td>transaction</td>\n",
       "      <td>144</td>\n",
       "      <td>NaN</td>\n",
       "      <td>17.78</td>\n",
       "      <td>NaN</td>\n",
       "    </tr>\n",
       "    <tr>\n",
       "      <th>46921</th>\n",
       "      <td>78afa995795e4d85b5d9ceeca43f5fef</td>\n",
       "      <td>offer received</td>\n",
       "      <td>168</td>\n",
       "      <td>5a8bc65990b245e5a138643cd4eb9837</td>\n",
       "      <td>NaN</td>\n",
       "      <td>NaN</td>\n",
       "    </tr>\n",
       "  </tbody>\n",
       "</table>\n",
       "</div>"
      ],
      "text/plain": [
       "                                 person            event  time  \\\n",
       "0      78afa995795e4d85b5d9ceeca43f5fef   offer received     0   \n",
       "13251  78afa995795e4d85b5d9ceeca43f5fef     offer viewed     6   \n",
       "41870  78afa995795e4d85b5d9ceeca43f5fef      transaction   132   \n",
       "41871  78afa995795e4d85b5d9ceeca43f5fef  offer completed   132   \n",
       "43605  78afa995795e4d85b5d9ceeca43f5fef      transaction   144   \n",
       "46921  78afa995795e4d85b5d9ceeca43f5fef   offer received   168   \n",
       "\n",
       "                               offer_id  amount  reward  \n",
       "0      9b98b8c7a33c4b65b9aebfe6a799e6d9     NaN     NaN  \n",
       "13251  9b98b8c7a33c4b65b9aebfe6a799e6d9     NaN     NaN  \n",
       "41870                               NaN   19.89     NaN  \n",
       "41871  9b98b8c7a33c4b65b9aebfe6a799e6d9     NaN     5.0  \n",
       "43605                               NaN   17.78     NaN  \n",
       "46921  5a8bc65990b245e5a138643cd4eb9837     NaN     NaN  "
      ]
     },
     "execution_count": 5,
     "metadata": {},
     "output_type": "execute_result"
    }
   ],
   "source": [
    "# gathering information about a received offer from User\n",
    "Offer = Event(User.offers[0], User.data)\n",
    "Offer.events"
   ]
  },
  {
   "cell_type": "code",
   "execution_count": 109,
   "metadata": {},
   "outputs": [],
   "source": [
    "from lib.data_visualization import time_line"
   ]
  },
  {
   "cell_type": "code",
   "execution_count": 112,
   "metadata": {},
   "outputs": [
    {
     "data": {
      "image/png": "[encoded data removed]",
      "text/plain": [
       "<Figure size 1152x864 with 4 Axes>"
      ]
     },
     "metadata": {},
     "output_type": "display_data"
    }
   ],
   "source": [
    "if True:\n",
    "    User = Person('78afa995795e4d85b5d9ceeca43f5fef')\n",
    "    Offer = Event(User.offers[0], User.data)\n",
    "\n",
    "f, ax = plt.subplots(len(User.offers),1, sharex=True, figsize=[16,12])\n",
    "plt.subplots_adjust(hspace=0.1)\n",
    "cnt=0\n",
    "\n",
    "all_trans = User.get_transaction(0, User.data['time'].values[-1])\n",
    "\n",
    "for idx in User.offers:\n",
    "    plt.sca(ax[cnt])\n",
    "    legend = True if cnt == 0 else False\n",
    "    xlabel = True if cnt == len(ax)-1 else False\n",
    "    Offer = Event(idx, User.data)\n",
    "    trans = User.get_transaction(Offer.start, Offer.end)\n",
    "    time_line(Offer, trans, legend=legend, xlabel=xlabel, text='#'+str(cnt+1)+' ')\n",
    "        \n",
    "    cnt +=1\n",
    "    \n",
    "for ax_n in ax:\n",
    "    ymax = ax_n.get_ylim()[1]*.9\n",
    "    ax_n.vlines(\n",
    "        x=all_trans.time, \n",
    "        ymax=ymax, ymin=0, \n",
    "        color='k', \n",
    "        linestyle='dotted', \n",
    "        lw=2,\n",
    "        zorder=0\n",
    "    )\n",
    "\n",
    "offset=2\n",
    "for n, x in enumerate(all_trans.time):\n",
    "    ax[-1].text(\n",
    "        x+offset, 0.01,\n",
    "        str(n+1),\n",
    "        weight='bold',\n",
    "        ha='left'\n",
    "    )\n",
    "\n",
    "plt.show()\n",
    "\n",
    "if False:\n",
    "    f.savefig('./assets/Timeline.png', dpi=300)"
   ]
  },
  {
   "cell_type": "markdown",
   "metadata": {},
   "source": [
    "This visualization represents all the events that occured over 30 days (720 hours) of data collection for one participant. \n",
    "\n",
    "Each row represents an offer received by this individual. The light blue block represents the duration of the offer. In this example, the participants received 4 offers: 3 `bogo` and 1 `informational`.\n",
    "\n",
    "For each offer, 4 different events are marked:\n",
    " - offer received (red): When an offer was received. \n",
    " - offer viewed (blue): When an offer is viewed\n",
    " - transacton (black): When a transaction is made\n",
    " - offer completed (yellow): When an offer is completed\n",
    "\n",
    "The 7 transactions for this individual are shown accross the offers as black dotted lines. The transactions are not specific to an offer, and a difficulty of this analysis was to assign transactions to specific offers.\n",
    " \n",
    "Few considerations:\n",
    "> offer can overlap each other: the offer #4 starts during offer #3. In this situation the transaction 6 and 7 could be assigned to both offer #3 and offer #4.\n",
    "\n",
    "> in this example, all offers have been viewed. This is not always the case. Moreover, transactions can be made before the offer is viewed (see transactions 6 and 7 for offer #4)\n",
    "\n",
    "> transactions can be made before, during, or after an offer. We can find transactions between 2 offers (see transaction 5)\n",
    "\n",
    "> not all offer types are presented to all participants. This will lead to differences in overall number of offers in each category.\n",
    "\n",
    "> the number of offers presented to an individual is not always 4 (see further analysis for details).\n",
    "\n",
    "We decided to assign a transaction to an offer (marked with white dot) if:\n",
    " - the transaction was made during the duration of the offer\n",
    " - the transaction was made after the offer was viewed\n",
    " \n"
   ]
  },
  {
   "cell_type": "markdown",
   "metadata": {},
   "source": [
    "### 4.1.2 Creating metrics for analysis\n",
    "\n",
    "___\n",
    "DEPENDENT VARIABLE\n",
    "\n",
    "- What determine the best response to an offer ?\n",
    "- What is a sign of Engagement ?\n",
    "- Effect on transactions ?\n",
    "\n",
    "1. For an offer to have a real impact on a participant, the offer must be viewed. We will then consider the total amount of transaction for each offer received after the offer is viewed: $Trans_{viewed}$\n",
    "\n",
    "2. Since the number of offer ($n$) and the type of offer is different for each participants, the total spending ($Spending_{tot}$) cannot be a reliable factor as is! We will compute a theoretical neutral spending amount per offer for each participants: \n",
    "    \n",
    "    $Spending_{avg} = \\frac{Spending_{tot}}{n}$\n",
    "\n",
    "3. We will consider the impact of each offer recieved as the ratio:\n",
    "\n",
    "    $Trans_{ratio} = \\frac{Trans_{viewed}}{Spending_{avg}}$\n",
    "\n",
    "This ratio will consider how a transaction performs against other offers for an individual but also against transactions outside of the viewing period. If we consider an invidual that would spend a lot outside of the offer period or that woud spend without viewing an offer, this invidual would not require specific offers."
   ]
  },
  {
   "cell_type": "code",
   "execution_count": 93,
   "metadata": {},
   "outputs": [],
   "source": [
    "import numpy as np\n",
    "import pandas as pd\n",
    "from lib.starbucks_class import Person, Event, PORTFOLIO, PROFILE, TRANSCRIPT"
   ]
  },
  {
   "cell_type": "code",
   "execution_count": 96,
   "metadata": {},
   "outputs": [],
   "source": [
    "result = []\n",
    "\n",
    "for user_id in set(TRANSCRIPT.person):\n",
    "    User = Person(user_id)\n",
    "    PROFILE.loc[User._id,'total_spending'] = User.total_spending\n",
    "    PROFILE.loc[User._id,'total_offers'] = len(User.offers)\n",
    "    \n",
    "    spending_avg = User.total_spending / len(User.offers)\n",
    "\n",
    "    for _id in User.offers:\n",
    "        evt = Event(_id, User.data)    \n",
    "        trans = User.get_transaction(evt.viewed, evt.end) # transcations after offer is viewed\n",
    "        trans_all = User.get_transaction(evt.start, evt.end) # all trasnsactions\n",
    "        reward = User.get_reward(evt.viewed, evt.end) # reward after offer is viewed\n",
    "        reward_all = User.get_reward(evt.start, evt.end) # all reward\n",
    "        \n",
    "        # results\n",
    "        res_trans = np.sum(trans.amount) if len(trans) > 0 else 0 # total spent when offer viewed\n",
    "        res_reward = np.sum(reward.reward) if len(reward) > 0 else 0\n",
    "        res_trans_all = np.sum(trans_all.amount) if len(trans_all) > 0 else 0\n",
    "        res_reward_all = np.sum(reward_all.reward) if len(reward_all) > 0 else 0\n",
    "        res_tag_viewed = 1 if evt.viewed else 0 # tag offer viewed\n",
    "        \n",
    "        res_ratio = res_trans / spending_avg # spending ratio\n",
    "                \n",
    "        result.append([\n",
    "            user_id,\n",
    "            PORTFOLIO.loc[evt.offer_id,'code'],\n",
    "            evt.offer_type,\n",
    "            res_trans_all,\n",
    "            res_trans,\n",
    "            res_reward_all,\n",
    "            res_reward,\n",
    "            res_tag_viewed,\n",
    "            res_ratio\n",
    "        ])\n",
    "\n",
    "# results\n",
    "RES = pd.DataFrame(result, columns=[\n",
    "    'profile_id', \n",
    "    'portfolio_code',\n",
    "    'portfolio_type',\n",
    "    'amount_received',\n",
    "    'amount_viewed',\n",
    "    'reward_received',\n",
    "    'reward_viewed',\n",
    "    'view_tag',\n",
    "    'spending_ratio'\n",
    "])\n",
    "\n"
   ]
  },
  {
   "cell_type": "code",
   "execution_count": 98,
   "metadata": {},
   "outputs": [
    {
     "data": {
      "text/plain": [
       "65020"
      ]
     },
     "execution_count": 98,
     "metadata": {},
     "output_type": "execute_result"
    }
   ],
   "source": [
    "len(RES)"
   ]
  },
  {
   "cell_type": "markdown",
   "metadata": {},
   "source": [
    "---\n",
    "SAVE RESULTS & UPDATED PROFILE"
   ]
  },
  {
   "cell_type": "code",
   "execution_count": 99,
   "metadata": {},
   "outputs": [],
   "source": [
    "# save results and modified PROFILE to avoid running the analysis\n",
    "from sqlalchemy import create_engine\n",
    "    \n",
    "if True:\n",
    "    database_filename = './data/db_results.db'\n",
    "    engine = create_engine('sqlite:///'+database_filename)\n",
    "    RES.to_sql('Variables', engine, if_exists='replace', index=False)\n",
    "    PROFILE.to_sql('Profile', con=engine, index=True, index_label='id', if_exists='replace')"
   ]
  },
  {
   "cell_type": "markdown",
   "metadata": {},
   "source": [
    "___\n",
    "<a name=\"load\"></a>LOADING RESULTS\n",
    "\n",
    "[back to import](#2.-Data-Understanding)"
   ]
  },
  {
   "cell_type": "code",
   "execution_count": 176,
   "metadata": {},
   "outputs": [],
   "source": [
    "from sqlalchemy import create_engine\n",
    "\n",
    "database_filename = './data/db_results.db'\n",
    "engine = create_engine('sqlite:///'+database_filename)\n",
    "\n",
    "RES = pd.read_sql_table('Variables', con=engine)\n",
    "PROFILE = pd.read_sql_table('Profile', con=engine, index_col='id', parse_dates=['became_member_on'])"
   ]
  },
  {
   "cell_type": "markdown",
   "metadata": {},
   "source": [
    "---\n",
    "TARGET & FEATURES\n",
    "\n",
    "TARGETS: We will focus the rest of our analysis on 2 dependant variables:\n",
    "`spending_ratio` & `amount_viewed`"
   ]
  },
  {
   "cell_type": "code",
   "execution_count": 223,
   "metadata": {},
   "outputs": [],
   "source": [
    "Y = RES.groupby(by=['profile_id','portfolio_type'])[['amount_viewed', 'spending_ratio']].mean().unstack()\n",
    "Y.columns = ['_'.join(x) for x in Y.columns]"
   ]
  },
  {
   "cell_type": "code",
   "execution_count": 179,
   "metadata": {},
   "outputs": [
    {
     "data": {
      "text/html": [
       "<div>\n",
       "<style scoped>\n",
       "    .dataframe tbody tr th:only-of-type {\n",
       "        vertical-align: middle;\n",
       "    }\n",
       "\n",
       "    .dataframe tbody tr th {\n",
       "        vertical-align: top;\n",
       "    }\n",
       "\n",
       "    .dataframe thead th {\n",
       "        text-align: right;\n",
       "    }\n",
       "</style>\n",
       "<table border=\"1\" class=\"dataframe\">\n",
       "  <thead>\n",
       "    <tr style=\"text-align: right;\">\n",
       "      <th></th>\n",
       "      <th>amount_viewed_bogo</th>\n",
       "      <th>amount_viewed_discount</th>\n",
       "      <th>amount_viewed_informational</th>\n",
       "      <th>spending_ratio_bogo</th>\n",
       "      <th>spending_ratio_discount</th>\n",
       "      <th>spending_ratio_informational</th>\n",
       "    </tr>\n",
       "    <tr>\n",
       "      <th>profile_id</th>\n",
       "      <th></th>\n",
       "      <th></th>\n",
       "      <th></th>\n",
       "      <th></th>\n",
       "      <th></th>\n",
       "      <th></th>\n",
       "    </tr>\n",
       "  </thead>\n",
       "  <tbody>\n",
       "    <tr>\n",
       "      <th>0009655768c64bdeb2e877511632db8f</th>\n",
       "      <td>14.110</td>\n",
       "      <td>41.380</td>\n",
       "      <td>15.365</td>\n",
       "      <td>0.552900</td>\n",
       "      <td>1.621473</td>\n",
       "      <td>0.602077</td>\n",
       "    </tr>\n",
       "    <tr>\n",
       "      <th>0011e0d4e6b944f998e987f904e8c1e5</th>\n",
       "      <td>54.040</td>\n",
       "      <td>28.505</td>\n",
       "      <td>0.000</td>\n",
       "      <td>3.400453</td>\n",
       "      <td>1.793670</td>\n",
       "      <td>0.000000</td>\n",
       "    </tr>\n",
       "    <tr>\n",
       "      <th>0020c2b971eb4e9188eac86d93036a77</th>\n",
       "      <td>8.620</td>\n",
       "      <td>49.165</td>\n",
       "      <td>0.000</td>\n",
       "      <td>0.218937</td>\n",
       "      <td>1.248730</td>\n",
       "      <td>0.000000</td>\n",
       "    </tr>\n",
       "    <tr>\n",
       "      <th>0020ccbbb6d84e358d3414a3ff76cffd</th>\n",
       "      <td>36.045</td>\n",
       "      <td>46.590</td>\n",
       "      <td>58.870</td>\n",
       "      <td>0.935930</td>\n",
       "      <td>1.209737</td>\n",
       "      <td>1.528595</td>\n",
       "    </tr>\n",
       "    <tr>\n",
       "      <th>003d66b6608740288d6cc97a6903f4f0</th>\n",
       "      <td>NaN</td>\n",
       "      <td>13.140</td>\n",
       "      <td>6.295</td>\n",
       "      <td>NaN</td>\n",
       "      <td>1.359123</td>\n",
       "      <td>0.651117</td>\n",
       "    </tr>\n",
       "  </tbody>\n",
       "</table>\n",
       "</div>"
      ],
      "text/plain": [
       "                                  amount_viewed_bogo  amount_viewed_discount  \\\n",
       "profile_id                                                                     \n",
       "0009655768c64bdeb2e877511632db8f              14.110                  41.380   \n",
       "0011e0d4e6b944f998e987f904e8c1e5              54.040                  28.505   \n",
       "0020c2b971eb4e9188eac86d93036a77               8.620                  49.165   \n",
       "0020ccbbb6d84e358d3414a3ff76cffd              36.045                  46.590   \n",
       "003d66b6608740288d6cc97a6903f4f0                 NaN                  13.140   \n",
       "\n",
       "                                  amount_viewed_informational  \\\n",
       "profile_id                                                      \n",
       "0009655768c64bdeb2e877511632db8f                       15.365   \n",
       "0011e0d4e6b944f998e987f904e8c1e5                        0.000   \n",
       "0020c2b971eb4e9188eac86d93036a77                        0.000   \n",
       "0020ccbbb6d84e358d3414a3ff76cffd                       58.870   \n",
       "003d66b6608740288d6cc97a6903f4f0                        6.295   \n",
       "\n",
       "                                  spending_ratio_bogo  \\\n",
       "profile_id                                              \n",
       "0009655768c64bdeb2e877511632db8f             0.552900   \n",
       "0011e0d4e6b944f998e987f904e8c1e5             3.400453   \n",
       "0020c2b971eb4e9188eac86d93036a77             0.218937   \n",
       "0020ccbbb6d84e358d3414a3ff76cffd             0.935930   \n",
       "003d66b6608740288d6cc97a6903f4f0                  NaN   \n",
       "\n",
       "                                  spending_ratio_discount  \\\n",
       "profile_id                                                  \n",
       "0009655768c64bdeb2e877511632db8f                 1.621473   \n",
       "0011e0d4e6b944f998e987f904e8c1e5                 1.793670   \n",
       "0020c2b971eb4e9188eac86d93036a77                 1.248730   \n",
       "0020ccbbb6d84e358d3414a3ff76cffd                 1.209737   \n",
       "003d66b6608740288d6cc97a6903f4f0                 1.359123   \n",
       "\n",
       "                                  spending_ratio_informational  \n",
       "profile_id                                                      \n",
       "0009655768c64bdeb2e877511632db8f                      0.602077  \n",
       "0011e0d4e6b944f998e987f904e8c1e5                      0.000000  \n",
       "0020c2b971eb4e9188eac86d93036a77                      0.000000  \n",
       "0020ccbbb6d84e358d3414a3ff76cffd                      1.528595  \n",
       "003d66b6608740288d6cc97a6903f4f0                      0.651117  "
      ]
     },
     "execution_count": 179,
     "metadata": {},
     "output_type": "execute_result"
    }
   ],
   "source": [
    "Y.head()"
   ]
  },
  {
   "cell_type": "markdown",
   "metadata": {},
   "source": [
    "___\n",
    "DESCRIPTIVE STATISTICS"
   ]
  },
  {
   "cell_type": "code",
   "execution_count": 8,
   "metadata": {},
   "outputs": [
    {
     "data": {
      "text/html": [
       "<div>\n",
       "<style scoped>\n",
       "    .dataframe tbody tr th:only-of-type {\n",
       "        vertical-align: middle;\n",
       "    }\n",
       "\n",
       "    .dataframe tbody tr th {\n",
       "        vertical-align: top;\n",
       "    }\n",
       "\n",
       "    .dataframe thead th {\n",
       "        text-align: right;\n",
       "    }\n",
       "</style>\n",
       "<table border=\"1\" class=\"dataframe\">\n",
       "  <thead>\n",
       "    <tr style=\"text-align: right;\">\n",
       "      <th></th>\n",
       "      <th>amount_viewed_bogo</th>\n",
       "      <th>amount_viewed_discount</th>\n",
       "      <th>amount_viewed_informational</th>\n",
       "      <th>spending_ratio_bogo</th>\n",
       "      <th>spending_ratio_discount</th>\n",
       "      <th>spending_ratio_informational</th>\n",
       "    </tr>\n",
       "  </thead>\n",
       "  <tbody>\n",
       "    <tr>\n",
       "      <th>count</th>\n",
       "      <td>12795.000000</td>\n",
       "      <td>12738.00000</td>\n",
       "      <td>9005.000000</td>\n",
       "      <td>12795.000000</td>\n",
       "      <td>12738.000000</td>\n",
       "      <td>9005.000000</td>\n",
       "    </tr>\n",
       "    <tr>\n",
       "      <th>mean</th>\n",
       "      <td>24.568040</td>\n",
       "      <td>30.49310</td>\n",
       "      <td>9.914584</td>\n",
       "      <td>0.882773</td>\n",
       "      <td>1.009371</td>\n",
       "      <td>0.370305</td>\n",
       "    </tr>\n",
       "    <tr>\n",
       "      <th>std</th>\n",
       "      <td>43.396733</td>\n",
       "      <td>53.56511</td>\n",
       "      <td>24.077951</td>\n",
       "      <td>0.725368</td>\n",
       "      <td>0.838361</td>\n",
       "      <td>0.548388</td>\n",
       "    </tr>\n",
       "    <tr>\n",
       "      <th>min</th>\n",
       "      <td>0.000000</td>\n",
       "      <td>0.00000</td>\n",
       "      <td>0.000000</td>\n",
       "      <td>0.000000</td>\n",
       "      <td>0.000000</td>\n",
       "      <td>0.000000</td>\n",
       "    </tr>\n",
       "    <tr>\n",
       "      <th>25%</th>\n",
       "      <td>2.600000</td>\n",
       "      <td>1.51000</td>\n",
       "      <td>0.000000</td>\n",
       "      <td>0.331560</td>\n",
       "      <td>0.263839</td>\n",
       "      <td>0.000000</td>\n",
       "    </tr>\n",
       "    <tr>\n",
       "      <th>50%</th>\n",
       "      <td>13.460000</td>\n",
       "      <td>15.21000</td>\n",
       "      <td>0.000000</td>\n",
       "      <td>0.839123</td>\n",
       "      <td>0.971341</td>\n",
       "      <td>0.000000</td>\n",
       "    </tr>\n",
       "    <tr>\n",
       "      <th>75%</th>\n",
       "      <td>33.022500</td>\n",
       "      <td>42.83875</td>\n",
       "      <td>13.360000</td>\n",
       "      <td>1.276240</td>\n",
       "      <td>1.507806</td>\n",
       "      <td>0.631579</td>\n",
       "    </tr>\n",
       "    <tr>\n",
       "      <th>max</th>\n",
       "      <td>1015.730000</td>\n",
       "      <td>1121.73000</td>\n",
       "      <td>644.850000</td>\n",
       "      <td>6.000000</td>\n",
       "      <td>6.000000</td>\n",
       "      <td>5.000000</td>\n",
       "    </tr>\n",
       "  </tbody>\n",
       "</table>\n",
       "</div>"
      ],
      "text/plain": [
       "       amount_viewed_bogo  amount_viewed_discount  \\\n",
       "count        12795.000000             12738.00000   \n",
       "mean            24.568040                30.49310   \n",
       "std             43.396733                53.56511   \n",
       "min              0.000000                 0.00000   \n",
       "25%              2.600000                 1.51000   \n",
       "50%             13.460000                15.21000   \n",
       "75%             33.022500                42.83875   \n",
       "max           1015.730000              1121.73000   \n",
       "\n",
       "       amount_viewed_informational  spending_ratio_bogo  \\\n",
       "count                  9005.000000         12795.000000   \n",
       "mean                      9.914584             0.882773   \n",
       "std                      24.077951             0.725368   \n",
       "min                       0.000000             0.000000   \n",
       "25%                       0.000000             0.331560   \n",
       "50%                       0.000000             0.839123   \n",
       "75%                      13.360000             1.276240   \n",
       "max                     644.850000             6.000000   \n",
       "\n",
       "       spending_ratio_discount  spending_ratio_informational  \n",
       "count             12738.000000                   9005.000000  \n",
       "mean                  1.009371                      0.370305  \n",
       "std                   0.838361                      0.548388  \n",
       "min                   0.000000                      0.000000  \n",
       "25%                   0.263839                      0.000000  \n",
       "50%                   0.971341                      0.000000  \n",
       "75%                   1.507806                      0.631579  \n",
       "max                   6.000000                      5.000000  "
      ]
     },
     "execution_count": 8,
     "metadata": {},
     "output_type": "execute_result"
    }
   ],
   "source": [
    "Y_stats = Y.describe()\n",
    "Y_stats"
   ]
  },
  {
   "cell_type": "markdown",
   "metadata": {},
   "source": [
    "FEATURES"
   ]
  },
  {
   "cell_type": "code",
   "execution_count": 224,
   "metadata": {},
   "outputs": [
    {
     "data": {
      "text/html": [
       "<div>\n",
       "<style scoped>\n",
       "    .dataframe tbody tr th:only-of-type {\n",
       "        vertical-align: middle;\n",
       "    }\n",
       "\n",
       "    .dataframe tbody tr th {\n",
       "        vertical-align: top;\n",
       "    }\n",
       "\n",
       "    .dataframe thead th {\n",
       "        text-align: right;\n",
       "    }\n",
       "</style>\n",
       "<table border=\"1\" class=\"dataframe\">\n",
       "  <thead>\n",
       "    <tr style=\"text-align: right;\">\n",
       "      <th></th>\n",
       "      <th>gender</th>\n",
       "      <th>age</th>\n",
       "      <th>became_member_on</th>\n",
       "      <th>income</th>\n",
       "      <th>total_spending</th>\n",
       "      <th>total_offers</th>\n",
       "    </tr>\n",
       "    <tr>\n",
       "      <th>profile_id</th>\n",
       "      <th></th>\n",
       "      <th></th>\n",
       "      <th></th>\n",
       "      <th></th>\n",
       "      <th></th>\n",
       "      <th></th>\n",
       "    </tr>\n",
       "  </thead>\n",
       "  <tbody>\n",
       "    <tr>\n",
       "      <th>0009655768c64bdeb2e877511632db8f</th>\n",
       "      <td>M</td>\n",
       "      <td>33</td>\n",
       "      <td>2017-04-21</td>\n",
       "      <td>72000.0</td>\n",
       "      <td>127.60</td>\n",
       "      <td>5.0</td>\n",
       "    </tr>\n",
       "    <tr>\n",
       "      <th>0011e0d4e6b944f998e987f904e8c1e5</th>\n",
       "      <td>O</td>\n",
       "      <td>40</td>\n",
       "      <td>2018-01-09</td>\n",
       "      <td>57000.0</td>\n",
       "      <td>79.46</td>\n",
       "      <td>5.0</td>\n",
       "    </tr>\n",
       "    <tr>\n",
       "      <th>0020c2b971eb4e9188eac86d93036a77</th>\n",
       "      <td>F</td>\n",
       "      <td>59</td>\n",
       "      <td>2016-03-04</td>\n",
       "      <td>90000.0</td>\n",
       "      <td>196.86</td>\n",
       "      <td>5.0</td>\n",
       "    </tr>\n",
       "    <tr>\n",
       "      <th>0020ccbbb6d84e358d3414a3ff76cffd</th>\n",
       "      <td>F</td>\n",
       "      <td>24</td>\n",
       "      <td>2016-11-11</td>\n",
       "      <td>60000.0</td>\n",
       "      <td>154.05</td>\n",
       "      <td>4.0</td>\n",
       "    </tr>\n",
       "    <tr>\n",
       "      <th>003d66b6608740288d6cc97a6903f4f0</th>\n",
       "      <td>F</td>\n",
       "      <td>26</td>\n",
       "      <td>2017-06-21</td>\n",
       "      <td>73000.0</td>\n",
       "      <td>48.34</td>\n",
       "      <td>5.0</td>\n",
       "    </tr>\n",
       "  </tbody>\n",
       "</table>\n",
       "</div>"
      ],
      "text/plain": [
       "                                 gender  age became_member_on   income  \\\n",
       "profile_id                                                               \n",
       "0009655768c64bdeb2e877511632db8f      M   33       2017-04-21  72000.0   \n",
       "0011e0d4e6b944f998e987f904e8c1e5      O   40       2018-01-09  57000.0   \n",
       "0020c2b971eb4e9188eac86d93036a77      F   59       2016-03-04  90000.0   \n",
       "0020ccbbb6d84e358d3414a3ff76cffd      F   24       2016-11-11  60000.0   \n",
       "003d66b6608740288d6cc97a6903f4f0      F   26       2017-06-21  73000.0   \n",
       "\n",
       "                                  total_spending  total_offers  \n",
       "profile_id                                                      \n",
       "0009655768c64bdeb2e877511632db8f          127.60           5.0  \n",
       "0011e0d4e6b944f998e987f904e8c1e5           79.46           5.0  \n",
       "0020c2b971eb4e9188eac86d93036a77          196.86           5.0  \n",
       "0020ccbbb6d84e358d3414a3ff76cffd          154.05           4.0  \n",
       "003d66b6608740288d6cc97a6903f4f0           48.34           5.0  "
      ]
     },
     "execution_count": 224,
     "metadata": {},
     "output_type": "execute_result"
    }
   ],
   "source": [
    "X = PROFILE.loc[Y.index,:]\n",
    "X.head()"
   ]
  },
  {
   "cell_type": "code",
   "execution_count": 225,
   "metadata": {},
   "outputs": [
    {
     "data": {
      "text/plain": [
       "<AxesSubplot:xlabel='gender', ylabel='total_spending'>"
      ]
     },
     "execution_count": 225,
     "metadata": {},
     "output_type": "execute_result"
    },
    {
     "data": {
      "image/png": "[encoded data removed]",
      "text/plain": [
       "<Figure size 1440x576 with 4 Axes>"
      ]
     },
     "metadata": {},
     "output_type": "display_data"
    }
   ],
   "source": [
    "f, ax = plt.subplots(nrows=1, ncols=4, figsize=(20, 8))\n",
    "f.suptitle(\"Original dataset\", fontsize=14, fontweight='bold')\n",
    "plt.subplots_adjust(wspace=0.3)\n",
    "win=0\n",
    "var = ['amount_viewed', 'spending_ratio']\n",
    "offer = ['bogo', 'discount', 'informational']\n",
    "cols = [var[0]+'_'+x for x in offer]\n",
    "\n",
    "for i in cols:\n",
    "    sns.boxplot(data=Y, x=X['gender'], y=i, ax=ax[win], palette='colorblind')\n",
    "    win += 1\n",
    "\n",
    "sns.boxplot(data=X, x='gender', y='total_spending', ax=ax[win])\n"
   ]
  },
  {
   "cell_type": "markdown",
   "metadata": {},
   "source": [
    "___\n",
    "FILTERING RESULTS\n",
    "\n",
    "- __participants should have a minimum level of interaction with the app:__ we will consider the participants that have a `total_spending` > to a minimum threshold (TO BE DETERMINED).\n",
    "\n",
    "- __remove outliers with widely differents spending habits:__"
   ]
  },
  {
   "cell_type": "code",
   "execution_count": 200,
   "metadata": {},
   "outputs": [],
   "source": [
    "X = X.query('total_spending > 5')\n",
    "Y = Y.loc[X.index, :]"
   ]
  },
  {
   "cell_type": "code",
   "execution_count": 216,
   "metadata": {},
   "outputs": [
    {
     "data": {
      "text/html": [
       "<div>\n",
       "<style scoped>\n",
       "    .dataframe tbody tr th:only-of-type {\n",
       "        vertical-align: middle;\n",
       "    }\n",
       "\n",
       "    .dataframe tbody tr th {\n",
       "        vertical-align: top;\n",
       "    }\n",
       "\n",
       "    .dataframe thead th {\n",
       "        text-align: right;\n",
       "    }\n",
       "</style>\n",
       "<table border=\"1\" class=\"dataframe\">\n",
       "  <thead>\n",
       "    <tr style=\"text-align: right;\">\n",
       "      <th></th>\n",
       "      <th>gender</th>\n",
       "      <th>age</th>\n",
       "      <th>became_member_on</th>\n",
       "      <th>income</th>\n",
       "      <th>total_spending</th>\n",
       "      <th>total_offers</th>\n",
       "      <th>member_ts</th>\n",
       "      <th>gender_M</th>\n",
       "      <th>gender_O</th>\n",
       "    </tr>\n",
       "    <tr>\n",
       "      <th>profile_id</th>\n",
       "      <th></th>\n",
       "      <th></th>\n",
       "      <th></th>\n",
       "      <th></th>\n",
       "      <th></th>\n",
       "      <th></th>\n",
       "      <th></th>\n",
       "      <th></th>\n",
       "      <th></th>\n",
       "    </tr>\n",
       "  </thead>\n",
       "  <tbody>\n",
       "    <tr>\n",
       "      <th>0009655768c64bdeb2e877511632db8f</th>\n",
       "      <td>M</td>\n",
       "      <td>33</td>\n",
       "      <td>2017-04-21</td>\n",
       "      <td>72000.0</td>\n",
       "      <td>127.60</td>\n",
       "      <td>5.0</td>\n",
       "      <td>1.492747e+09</td>\n",
       "      <td>1</td>\n",
       "      <td>0</td>\n",
       "    </tr>\n",
       "    <tr>\n",
       "      <th>0011e0d4e6b944f998e987f904e8c1e5</th>\n",
       "      <td>O</td>\n",
       "      <td>40</td>\n",
       "      <td>2018-01-09</td>\n",
       "      <td>57000.0</td>\n",
       "      <td>79.46</td>\n",
       "      <td>5.0</td>\n",
       "      <td>1.515474e+09</td>\n",
       "      <td>0</td>\n",
       "      <td>1</td>\n",
       "    </tr>\n",
       "    <tr>\n",
       "      <th>0020c2b971eb4e9188eac86d93036a77</th>\n",
       "      <td>F</td>\n",
       "      <td>59</td>\n",
       "      <td>2016-03-04</td>\n",
       "      <td>90000.0</td>\n",
       "      <td>196.86</td>\n",
       "      <td>5.0</td>\n",
       "      <td>1.457068e+09</td>\n",
       "      <td>0</td>\n",
       "      <td>0</td>\n",
       "    </tr>\n",
       "    <tr>\n",
       "      <th>0020ccbbb6d84e358d3414a3ff76cffd</th>\n",
       "      <td>F</td>\n",
       "      <td>24</td>\n",
       "      <td>2016-11-11</td>\n",
       "      <td>60000.0</td>\n",
       "      <td>154.05</td>\n",
       "      <td>4.0</td>\n",
       "      <td>1.478840e+09</td>\n",
       "      <td>0</td>\n",
       "      <td>0</td>\n",
       "    </tr>\n",
       "    <tr>\n",
       "      <th>003d66b6608740288d6cc97a6903f4f0</th>\n",
       "      <td>F</td>\n",
       "      <td>26</td>\n",
       "      <td>2017-06-21</td>\n",
       "      <td>73000.0</td>\n",
       "      <td>48.34</td>\n",
       "      <td>5.0</td>\n",
       "      <td>1.498018e+09</td>\n",
       "      <td>0</td>\n",
       "      <td>0</td>\n",
       "    </tr>\n",
       "  </tbody>\n",
       "</table>\n",
       "</div>"
      ],
      "text/plain": [
       "                                 gender  age became_member_on   income  \\\n",
       "profile_id                                                               \n",
       "0009655768c64bdeb2e877511632db8f      M   33       2017-04-21  72000.0   \n",
       "0011e0d4e6b944f998e987f904e8c1e5      O   40       2018-01-09  57000.0   \n",
       "0020c2b971eb4e9188eac86d93036a77      F   59       2016-03-04  90000.0   \n",
       "0020ccbbb6d84e358d3414a3ff76cffd      F   24       2016-11-11  60000.0   \n",
       "003d66b6608740288d6cc97a6903f4f0      F   26       2017-06-21  73000.0   \n",
       "\n",
       "                                  total_spending  total_offers     member_ts  \\\n",
       "profile_id                                                                     \n",
       "0009655768c64bdeb2e877511632db8f          127.60           5.0  1.492747e+09   \n",
       "0011e0d4e6b944f998e987f904e8c1e5           79.46           5.0  1.515474e+09   \n",
       "0020c2b971eb4e9188eac86d93036a77          196.86           5.0  1.457068e+09   \n",
       "0020ccbbb6d84e358d3414a3ff76cffd          154.05           4.0  1.478840e+09   \n",
       "003d66b6608740288d6cc97a6903f4f0           48.34           5.0  1.498018e+09   \n",
       "\n",
       "                                  gender_M  gender_O  \n",
       "profile_id                                            \n",
       "0009655768c64bdeb2e877511632db8f         1         0  \n",
       "0011e0d4e6b944f998e987f904e8c1e5         0         1  \n",
       "0020c2b971eb4e9188eac86d93036a77         0         0  \n",
       "0020ccbbb6d84e358d3414a3ff76cffd         0         0  \n",
       "003d66b6608740288d6cc97a6903f4f0         0         0  "
      ]
     },
     "execution_count": 216,
     "metadata": {},
     "output_type": "execute_result"
    }
   ],
   "source": [
    "from datetime import datetime\n",
    "X['member_ts'] = X['became_member_on'].apply(lambda x: datetime.timestamp(x))\n",
    "gender_dummy = pd.get_dummies(X['gender'], drop_first=True, prefix='gender')\n",
    "X = pd.concat([X, gender_dummy], axis=1)\n",
    "X.head()"
   ]
  },
  {
   "cell_type": "markdown",
   "metadata": {},
   "source": [
    "___\n",
    "SCALING DATA"
   ]
  },
  {
   "cell_type": "code",
   "execution_count": 203,
   "metadata": {},
   "outputs": [],
   "source": [
    "from sklearn.preprocessing import RobustScaler"
   ]
  },
  {
   "cell_type": "code",
   "execution_count": 217,
   "metadata": {},
   "outputs": [],
   "source": [
    "dropcols=['gender', 'became_member_on']\n",
    "X_filt = X.drop(dropcols, axis=1)\n",
    "\n",
    "scalerY = RobustScaler(quantile_range=(25.0, 75.0))\n",
    "Y_sc = scalerY.fit_transform(Y)\n",
    "\n",
    "scalerX = RobustScaler(quantile_range=(25.0, 75.0))\n",
    "X_sc = scalerX.fit_transform(X_filt)\n",
    "\n",
    "dfY = pd.DataFrame(Y_sc, columns=Y.columns, index=Y.index)\n",
    "dfX = pd.DataFrame(X_sc, columns=X_filt.columns, index=X_filt.index)"
   ]
  },
  {
   "cell_type": "code",
   "execution_count": 218,
   "metadata": {},
   "outputs": [
    {
     "data": {
      "text/plain": [
       "Text(0.5, 1.0, 'pearson correlation')"
      ]
     },
     "execution_count": 218,
     "metadata": {},
     "output_type": "execute_result"
    },
    {
     "data": {
      "image/png": "[encoded data removed]",
      "text/plain": [
       "<Figure size 720x576 with 2 Axes>"
      ]
     },
     "metadata": {},
     "output_type": "display_data"
    }
   ],
   "source": [
    "df = pd.concat([X_filt, Y['spending_ratio_discount']],axis=1)\n",
    "corr_matrix = df.corr(method=\"pearson\")\n",
    "\n",
    "f, ax =plt.subplots(1,1, figsize=[10,8])\n",
    "sns.heatmap(corr_matrix, vmin=-1., vmax=1., annot=True, fmt='.2f', cmap=\"YlGnBu\", cbar=True, linewidths=0.5)\n",
    "plt.title(\"pearson correlation\")"
   ]
  },
  {
   "cell_type": "code",
   "execution_count": null,
   "metadata": {},
   "outputs": [],
   "source": []
  },
  {
   "cell_type": "code",
   "execution_count": null,
   "metadata": {},
   "outputs": [],
   "source": []
  },
  {
   "cell_type": "code",
   "execution_count": null,
   "metadata": {},
   "outputs": [],
   "source": []
  },
  {
   "cell_type": "markdown",
   "metadata": {},
   "source": [
    "# __5. Model Evaluation & Results__"
   ]
  },
  {
   "cell_type": "markdown",
   "metadata": {},
   "source": [
    "___\n",
    "LINEAR MODEL"
   ]
  },
  {
   "cell_type": "code",
   "execution_count": 206,
   "metadata": {},
   "outputs": [],
   "source": [
    "from sklearn.model_selection import train_test_split\n",
    "from sklearn.ensemble import GradientBoostingRegressor\n",
    "from sklearn.metrics import r2_score"
   ]
  },
  {
   "cell_type": "code",
   "execution_count": 219,
   "metadata": {},
   "outputs": [],
   "source": [
    "col = Y.columns.tolist().index('amount_viewed_bogo')\n",
    "mask = np.isnan(Y_sc[:,col])"
   ]
  },
  {
   "cell_type": "code",
   "execution_count": 220,
   "metadata": {},
   "outputs": [
    {
     "data": {
      "text/plain": [
       "['age',\n",
       " 'income',\n",
       " 'total_spending',\n",
       " 'total_offers',\n",
       " 'member_ts',\n",
       " 'gender_M',\n",
       " 'gender_O']"
      ]
     },
     "execution_count": 220,
     "metadata": {},
     "output_type": "execute_result"
    }
   ],
   "source": [
    "# X_train, X_test, y_train, y_test = train_test_split(scalerX.inverse_transform(X_sc)[~mask,:], scalerY.inverse_transform(Y_sc)[~mask,col], test_size=.2)\n",
    "X_train, X_test, y_train, y_test = train_test_split(X_sc[~mask,:], Y_sc[~mask,col], test_size=.2)\n",
    "feature_names = X_filt.columns.tolist()\n",
    "feature_names"
   ]
  },
  {
   "cell_type": "code",
   "execution_count": 221,
   "metadata": {},
   "outputs": [],
   "source": [
    "model = GradientBoostingRegressor()"
   ]
  },
  {
   "cell_type": "code",
   "execution_count": 222,
   "metadata": {},
   "outputs": [
    {
     "data": {
      "text/plain": [
       "0.41235691582092937"
      ]
     },
     "execution_count": 222,
     "metadata": {},
     "output_type": "execute_result"
    }
   ],
   "source": [
    "model.fit(X_train, y_train)\n",
    "importances = model.feature_importances_\n",
    "\n",
    "prediction = model.predict(X_test)\n",
    "score = r2_score(y_test, prediction)\n",
    "score"
   ]
  },
  {
   "cell_type": "code",
   "execution_count": 170,
   "metadata": {},
   "outputs": [],
   "source": [
    "df_importances = pd.DataFrame(\n",
    "    {\n",
    "        'IMPORTANCES': importances,\n",
    "        'VARIABLES': feature_names\n",
    "    }\n",
    ")\n",
    "\n",
    "df_importances.set_index('VARIABLES', inplace=True)\n",
    "\n",
    "df_importances = df_importances.sort_values('IMPORTANCES', ascending=False)\n",
    "df_importances['cumsum'] = df_importances['IMPORTANCES'].cumsum()"
   ]
  },
  {
   "cell_type": "code",
   "execution_count": 165,
   "metadata": {},
   "outputs": [
    {
     "data": {
      "image/png": "[encoded data removed]",
      "text/plain": [
       "<Figure size 720x576 with 2 Axes>"
      ]
     },
     "metadata": {},
     "output_type": "display_data"
    }
   ],
   "source": [
    "f, ax = plt.subplots(1,2,figsize=[10,8])\n",
    "\n",
    "df_importances['IMPORTANCES'].sort_values().plot(kind='barh', ax=ax[0])\n",
    "ax[0].set_ylabel(\"\")\n",
    "\n",
    "df_importances['cumsum'].plot(kind='line', marker='o',ax=ax[1])\n",
    "plt.xticks(rotation='vertical')\n",
    "plt.show()"
   ]
  },
  {
   "cell_type": "markdown",
   "metadata": {},
   "source": [
    "___\n",
    "NONLINEAR MODEL"
   ]
  },
  {
   "cell_type": "code",
   "execution_count": 226,
   "metadata": {},
   "outputs": [],
   "source": [
    "from sklearn.svm import SVR"
   ]
  },
  {
   "cell_type": "code",
   "execution_count": null,
   "metadata": {},
   "outputs": [],
   "source": [
    "svr_rbf = SVR(kernel='rbf', C=100, gamma=0.1, epsilon=.1)\n",
    "svr_poly = SVR(\n",
    "    kernel='poly', \n",
    "    C=100, gamma='auto', \n",
    "    degree=3, \n",
    "    epsilon=.1,\n",
    "    coef0=1\n",
    ")"
   ]
  },
  {
   "cell_type": "markdown",
   "metadata": {},
   "source": [
    "# __6. Conclusion & Deployment__"
   ]
  },
  {
   "cell_type": "code",
   "execution_count": null,
   "metadata": {},
   "outputs": [],
   "source": []
  },
  {
   "cell_type": "code",
   "execution_count": null,
   "metadata": {},
   "outputs": [],
   "source": []
  },
  {
   "cell_type": "code",
   "execution_count": null,
   "metadata": {},
   "outputs": [],
   "source": []
  },
  {
   "cell_type": "code",
   "execution_count": null,
   "metadata": {},
   "outputs": [],
   "source": []
  },
  {
   "cell_type": "markdown",
   "metadata": {},
   "source": [
    "___\n",
    "___\n",
    "PREVOUS WORK - TO BE REVIEWED"
   ]
  },
  {
   "cell_type": "markdown",
   "metadata": {},
   "source": [
    "### 1.5 Distribution of Offer type in `transcript`"
   ]
  },
  {
   "cell_type": "code",
   "execution_count": null,
   "metadata": {},
   "outputs": [],
   "source": [
    "TRANSCRIPT =  expand_trasncript(pd.read_json('data/transcript.json', orient='records', lines=True))\n",
    "offer_distribution = TRANSCRIPT.query('event == \"offer received\"')['offer_id'].value_counts(normalize=True)\n",
    "offer_distributaion = offer_distribution.to_frame(name=\"received ratio\")\n",
    "offer_distribution['type'] = portfolio.loc[offer_distribution.index, 'offer_type']\n",
    "offer_distribution.sort_values('type')"
   ]
  },
  {
   "cell_type": "markdown",
   "metadata": {},
   "source": [
    "### 1.6 Analysis of events time-line\n",
    "\n",
    "- `offer received` should trigger the offer duration (`portfolio`)\n",
    "- `offer viewed` should tag this event in success metrics\n",
    "- `transaction` & `reward` should build the succes metrics"
   ]
  },
  {
   "cell_type": "code",
   "execution_count": null,
   "metadata": {},
   "outputs": [],
   "source": [
    "#reset variable\n",
    "del transcript, portfolio, profile"
   ]
  },
  {
   "cell_type": "code",
   "execution_count": null,
   "metadata": {},
   "outputs": [],
   "source": [
    "plt.rcParams['figure.figsize']=[10,10]\n",
    "\n",
    "style_evt = {\n",
    "    'offer received':'red',\n",
    "    'offer viewed':'blue',\n",
    "    'transaction':'black',\n",
    "    'offer completed':'yellow'\n",
    "}\n",
    "\n",
    "from matplotlib.patches import Patch\n",
    "\n",
    "\n",
    "legend_elements = [\n",
    "    Patch(facecolor='red', label='offer received'),\n",
    "    Patch(facecolor='blue', label='offer viewed'),\n",
    "    Patch(facecolor='black', label='transaction'),\n",
    "    Patch(facecolor='yellow', label='offer completed')\n",
    "]\n",
    "\n",
    "def time_line(event, transactions=[], legend=False):\n",
    "    ax = plt.gca()\n",
    "    ymax = 10\n",
    "    tag = 'VIEWED' if event.viewed > 0 else 'not viewed'\n",
    "    text = event.details['offer_type'].values[0] + ' / ' +tag\n",
    "    evt_list = evt.events['event'].tolist()\n",
    "    color_list = [style_evt[k] for k in evt_list]\n",
    "    \n",
    "    \n",
    "    if len(transactions) > 0:\n",
    "        ymax = transactions.amount.max()\n",
    "        ax.plot(transactions.time, transactions.amount, 'ko')\n",
    "        \n",
    "    ax.vlines(x=event.events['time'], ymax=ymax, ymin=0, color=color_list)\n",
    "    ax.fill_between(x=[event.start,event.end], y1=[0,0], y2=[ymax,ymax], alpha=.2)\n",
    "    ax.set_title(text, ma='right')\n",
    "    ax.set_xlabel('time (hours)')\n",
    "    ax.set_ylabel('transaction $')\n",
    "    \n",
    "    if legend:\n",
    "        ax.legend(handles=legend_elements, loc='best')\n",
    "    \n",
    "        "
   ]
  },
  {
   "cell_type": "code",
   "execution_count": null,
   "metadata": {},
   "outputs": [],
   "source": [
    "PROFILE.total_offers.hist(bins=6)"
   ]
  },
  {
   "cell_type": "markdown",
   "metadata": {},
   "source": [
    "### __Descriptive statistics__\n",
    "\n",
    "We are using this table of descriptive statisctis to filter out the dataset to the most relevant subset of data."
   ]
  },
  {
   "cell_type": "code",
   "execution_count": null,
   "metadata": {},
   "outputs": [],
   "source": [
    "descriptive_stats = df.describe()\n",
    "descriptive_stats"
   ]
  },
  {
   "cell_type": "code",
   "execution_count": null,
   "metadata": {},
   "outputs": [],
   "source": [
    "subdf.describe()"
   ]
  },
  {
   "cell_type": "markdown",
   "metadata": {},
   "source": [
    "To filter out outliers values we are following the traditional definition of values outside of the Inter Quartile Range. We are setting an order of priority in the filtering process:\n",
    "1. `total_spending`\n",
    "2. `bogo` and `discount`\n",
    "3. `informational`\n",
    "\n",
    "In order to keep the maximum amount of data we decided to stop the filtering if the number of participants decrease below 80% of the original dataset."
   ]
  },
  {
   "cell_type": "code",
   "execution_count": null,
   "metadata": {},
   "outputs": [],
   "source": [
    "cols = [ 'total_spending', 'bogo', 'discount', 'informational']\n",
    "\n",
    "subdf = df.copy()\n",
    "\n",
    "# remove low total_spending at q1\n",
    "q1 = descriptive_stats['total_spending']['25%']\n",
    "q3 = descriptive_stats['total_spending']['75%']\n",
    "iqr = q3-q1\n",
    "low = 10\n",
    "up = q3 + (1.5 * iqr)\n",
    "subdf = subdf.query('@low < total_spending < @up')\n",
    "\n",
    "print(f'The new dataset has {len(subdf)} participants\\n')\n",
    "\n",
    "f, ax = plt.subplots(nrows=1, ncols=6, figsize=(20, 8))\n",
    "f.suptitle(\"Filtered dataset\", fontsize=14, fontweight='bold')\n",
    "plt.subplots_adjust(wspace=0.8)\n",
    "win=0\n",
    "cols = ['total_spending', 'bogo', 'discount', 'informational', 'income', 'age']\n",
    "\n",
    "for i in cols:\n",
    "    sns.boxplot(data=subdf, x='gender', y=i, ax=ax[win], palette='Blues')\n",
    "    if i in ['bogo', 'discount', 'informational']:\n",
    "        ax[win].set_ylim(top=300)\n",
    "    win += 1\n",
    "    "
   ]
  },
  {
   "cell_type": "markdown",
   "metadata": {},
   "source": [
    "## __REGRESSION__\n",
    "\n",
    " - What model?\n",
    " - Do we need categorical features?"
   ]
  },
  {
   "cell_type": "code",
   "execution_count": null,
   "metadata": {},
   "outputs": [],
   "source": [
    "from lib.data_wrangling import create_features\n",
    "features = create_features(PROFILE)\n",
    "features = features.loc[subdf.index, :]\n",
    "features"
   ]
  },
  {
   "cell_type": "code",
   "execution_count": null,
   "metadata": {},
   "outputs": [],
   "source": [
    "sns.boxplot(x=features.income_brackets, y=df_ratio.bogo, palette=\"Blues\")"
   ]
  },
  {
   "cell_type": "markdown",
   "metadata": {},
   "source": [
    " - computing spending ratio for each offer type (ratio spent after a type of offer is viewed over the total spending)"
   ]
  },
  {
   "cell_type": "code",
   "execution_count": null,
   "metadata": {},
   "outputs": [],
   "source": [
    "df_ratio = subdf[['bogo', 'discount', 'informational']].div(subdf.total_spending, axis='rows')\n",
    "df_ratio"
   ]
  },
  {
   "cell_type": "code",
   "execution_count": null,
   "metadata": {},
   "outputs": [],
   "source": [
    "df_response = subdf[['bogo', 'discount', 'informational']].gt(subdf.offer_avg, axis='rows').astype(int)\n",
    "df_response"
   ]
  },
  {
   "cell_type": "code",
   "execution_count": null,
   "metadata": {},
   "outputs": [],
   "source": [
    "toto = subdf[['bogo', 'discount', 'informational']].median()\n",
    "toto"
   ]
  },
  {
   "cell_type": "code",
   "execution_count": null,
   "metadata": {},
   "outputs": [],
   "source": [
    "subdf['bogo'].gt(toto.bogo, axis='rows').sum()"
   ]
  },
  {
   "cell_type": "code",
   "execution_count": null,
   "metadata": {},
   "outputs": [],
   "source": [
    "subdf = subdf.join(df_response, rsuffix='lab')"
   ]
  },
  {
   "cell_type": "code",
   "execution_count": null,
   "metadata": {},
   "outputs": [],
   "source": [
    "sns.pairplot(subdf, hue='bogolab',corner=True)"
   ]
  },
  {
   "cell_type": "code",
   "execution_count": null,
   "metadata": {},
   "outputs": [],
   "source": [
    "# Generate correlation matrix\n",
    "corr = df.corr()\n",
    "\n",
    "# Generate a mask for the upper triangle\n",
    "mask = np.triu(np.ones_like(corr, dtype=bool))\n",
    "\n",
    "# Set up the matplotlib figure\n",
    "f, ax = plt.subplots(figsize=(11, 9))\n",
    "\n",
    "# Generate a custom diverging colormap\n",
    "cmap = sns.diverging_palette(h_neg=10, h_pos=220, s=60,as_cmap=True)\n",
    "\n",
    "# Draw the heatmap with the mask and correct aspect ratio\n",
    "sns.heatmap(corr, mask=mask, cmap=cmap,vmax=.3, center=0,\n",
    "            square=True, linewidths=.5, cbar_kws={\"shrink\": .8}, annot=True)"
   ]
  },
  {
   "cell_type": "markdown",
   "metadata": {},
   "source": [
    "### 2.2. Offer Viewed:"
   ]
  },
  {
   "cell_type": "code",
   "execution_count": null,
   "metadata": {},
   "outputs": [],
   "source": [
    "viewed_stack = RES.query('profile_id in @subdf.index').groupby('portfolio_type')['view_tag'].value_counts()\n",
    "x_table = viewed_stack.unstack()\n",
    "x_table.columns = ['not viewed', 'viewed']\n",
    "x_table"
   ]
  },
  {
   "cell_type": "code",
   "execution_count": null,
   "metadata": {},
   "outputs": [],
   "source": [
    "from scipy.stats import chi2_contingency\n",
    "chi2, p, dof, expected = chi2_contingency(x_table)\n",
    "print(f'the probability of the distribution to be homogeneous is p = {p:.2}')\n",
    "if p < 0.5:\n",
    "    print('\\tWe can reject the null hypothesis')\n",
    "else:\n",
    "    print('\\tWe cannot reject the null hypothesis')"
   ]
  },
  {
   "cell_type": "code",
   "execution_count": null,
   "metadata": {},
   "outputs": [],
   "source": [
    "ax = x_table.subtract(expected).plot(kind='bar', y='viewed')\n",
    "ax.set_title('Difference to expected in number of viewed offer')\n",
    "plt.show()"
   ]
  },
  {
   "cell_type": "markdown",
   "metadata": {},
   "source": [
    "> we can conclude that the type of offer impact the number of viewed offer.\n",
    "It looks like `discount` and `informational` offers were more viewed that `bogo`"
   ]
  },
  {
   "cell_type": "code",
   "execution_count": null,
   "metadata": {},
   "outputs": [],
   "source": [
    "df_X = df_ratio\n",
    "cat = 'spending_brackets'\n",
    "list_cat = list(features[cat].cat.categories)\n",
    "col = sns.color_palette(\"colorblind\", len(list_cat))\n",
    "palette = [col[k] for k in features[cat].cat.codes]\n",
    "\n",
    "f = plt.figure()\n",
    "ax = Axes3D(f)\n",
    "sc = ax.scatter3D(\n",
    "    df_X.bogo,\n",
    "    df_X.discount, \n",
    "    df_X.informational,\n",
    "    marker='o',\n",
    "    edgecolor='k',\n",
    "    c=features[cat].cat.codes\n",
    ")\n",
    "\n",
    "plt.xlabel('Buy-One-Get-One')\n",
    "plt.ylabel('Discount')\n",
    "ax.set_zlabel('Informational')\n",
    "\n",
    "handles, _ = sc.legend_elements()\n",
    "labels = features[cat].cat.categories.tolist()\n",
    "ax.legend(handles, labels)"
   ]
  },
  {
   "cell_type": "code",
   "execution_count": null,
   "metadata": {},
   "outputs": [],
   "source": [
    "plt.figure()\n",
    "pie_gender = df.gender.value_counts(normalize=True).to_frame()\n",
    "pie_gender\n",
    "plt.pie(\n",
    "    data=pie_gender,\n",
    "    x='gender',\n",
    "    autopct='%.2f',\n",
    "    labels=pie_gender.index,\n",
    "    normalize=False\n",
    ")\n",
    "plt.show()"
   ]
  },
  {
   "cell_type": "markdown",
   "metadata": {},
   "source": [
    "---\n",
    "---\n",
    "# __APPENDIX - unsupervised Cluster Analysis__\n",
    "## __Clustering Analysis__"
   ]
  },
  {
   "cell_type": "markdown",
   "metadata": {},
   "source": [
    "__1. K_pod method to apply kmeans to dataset with missing data__\n",
    "\n",
    " - (reference)\n",
    " - (explanation)"
   ]
  },
  {
   "cell_type": "code",
   "execution_count": null,
   "metadata": {},
   "outputs": [],
   "source": [
    "from kPOD import k_pod"
   ]
  },
  {
   "cell_type": "code",
   "execution_count": null,
   "metadata": {},
   "outputs": [],
   "source": [
    "cluster_df = df_ratio\n",
    "cluster_df"
   ]
  },
  {
   "cell_type": "code",
   "execution_count": null,
   "metadata": {},
   "outputs": [],
   "source": [
    "#set the number of clusters\n",
    "k=4\n",
    "\n",
    "# use data with missing values to perform clustering\n",
    "clustered_data = k_pod(cluster_df.to_numpy(), k)"
   ]
  },
  {
   "cell_type": "code",
   "execution_count": null,
   "metadata": {},
   "outputs": [],
   "source": [
    "cluster_labels = clustered_data[0]"
   ]
  },
  {
   "cell_type": "code",
   "execution_count": null,
   "metadata": {},
   "outputs": [],
   "source": [
    "for offer in cluster_df:\n",
    "    sns.violinplot(\n",
    "        x=cluster_labels,\n",
    "        y=offer,\n",
    "        data=cluster_df,\n",
    "        scale_hue=False\n",
    "    )\n",
    "    plt.ylabel(f'{offer}')\n",
    "    plt.show()"
   ]
  },
  {
   "cell_type": "markdown",
   "metadata": {},
   "source": [
    "__2. Tradiational Kmeans clustering by changing missing values with median__\n",
    "\n",
    "We are replacing each missing values with the median from the related category: `bogo`, `discount`, or `informational` "
   ]
  },
  {
   "cell_type": "code",
   "execution_count": null,
   "metadata": {},
   "outputs": [],
   "source": [
    "# RES_median = RES_ratio.apply(lambda x: x.fillna(x.median()),axis=0)\n",
    "RES_median = cluster_df.apply(lambda x: x.fillna(x.median()),axis=0)"
   ]
  },
  {
   "cell_type": "code",
   "execution_count": null,
   "metadata": {},
   "outputs": [],
   "source": [
    "from sklearn.metrics import silhouette_samples, silhouette_score\n",
    "from sklearn.cluster import KMeans\n",
    "import matplotlib.cm as cm\n",
    "\n",
    "range_n_clusters = list(range(2,10))\n",
    "\n",
    "X = RES_median.to_numpy()\n",
    "\n",
    "\n",
    "for n_clusters in range_n_clusters:\n",
    "    # Create a subplot with 1 row and 1 column\n",
    "    fig, (ax1, ax2) = plt.subplots(1, 2)\n",
    "    fig.set_size_inches(18, 7)\n",
    "\n",
    "    # The 1st subplot is the silhouette plot\n",
    "    # The silhouette coefficient can range from -1, 1 but in this example all\n",
    "    # lie within [-0.1, 1]\n",
    "    ax1.set_xlim([-0.2, 1])\n",
    "    # The (n_clusters+1)*10 is for inserting blank space between silhouette\n",
    "    # plots of individual clusters, to demarcate them clearly.\n",
    "    ax1.set_ylim([0, len(X) + (n_clusters + 1) * 20])\n",
    "\n",
    "    # Initialize the clusterer with n_clusters value and a random generator\n",
    "    # seed of 10 for reproducibility.\n",
    "    clusterer = KMeans(n_clusters=n_clusters, random_state=10)\n",
    "    cluster_labels = clusterer.fit_predict(X)\n",
    "\n",
    "    # The silhouette_score gives the average value for all the samples.\n",
    "    # This gives a perspective into the density and separation of the formed\n",
    "    # clusters\n",
    "    silhouette_avg = silhouette_score(X, cluster_labels)\n",
    "    print(\"For n_clusters =\", n_clusters,\n",
    "          \"The average silhouette_score is :\", silhouette_avg)\n",
    "\n",
    "    # Compute the silhouette scores for each sample\n",
    "    sample_silhouette_values = silhouette_samples(X, cluster_labels)\n",
    "\n",
    "    if True:\n",
    "        y_lower = 10\n",
    "        for i in range(n_clusters):\n",
    "            # Aggregate the silhouette scores for samples belonging to\n",
    "            # cluster i, and sort them\n",
    "            ith_cluster_silhouette_values = \\\n",
    "                sample_silhouette_values[cluster_labels == i]\n",
    "\n",
    "            ith_cluster_silhouette_values.sort()\n",
    "\n",
    "            size_cluster_i = ith_cluster_silhouette_values.shape[0]\n",
    "            y_upper = y_lower + size_cluster_i\n",
    "\n",
    "            color = cm.nipy_spectral(float(i) / n_clusters)\n",
    "            ax1.fill_betweenx(np.arange(y_lower, y_upper),\n",
    "                              0, ith_cluster_silhouette_values,\n",
    "                              facecolor=color, edgecolor=color, alpha=0.7)\n",
    "\n",
    "            # Label the silhouette plots with their cluster numbers at the middle\n",
    "            ax1.text(-0.05, y_lower + 0.5 * size_cluster_i, str(i))\n",
    "\n",
    "            # Compute the new y_lower for next plot\n",
    "            y_lower = y_upper + 10  # 10 for the 0 samples\n",
    "\n",
    "        ax1.set_title(\"The silhouette plot for the various clusters.\")\n",
    "        ax1.set_xlabel(\"The silhouette coefficient values\")\n",
    "        ax1.set_ylabel(\"Cluster label\")\n",
    "\n",
    "        # The vertical line for average silhouette score of all the values\n",
    "        ax1.axvline(x=silhouette_avg, color=\"red\", linestyle=\"--\")\n",
    "\n",
    "        ax1.set_yticks([])  # Clear the yaxis labels / ticks\n",
    "        ax1.set_xticks([-0.1, 0, 0.2, 0.4, 0.6, 0.8, 1])\n",
    "\n",
    "        # 2nd Plot showing the actual clusters formed\n",
    "        colors = cm.nipy_spectral(cluster_labels.astype(float) / n_clusters)\n",
    "        ax2.scatter(X[:, 0], X[:, 1], marker='.', s=30, lw=0, alpha=0.7,\n",
    "                    c=colors, edgecolor='k')\n",
    "\n",
    "        # Labeling the clusters\n",
    "        centers = clusterer.cluster_centers_\n",
    "        # Draw white circles at cluster centers\n",
    "        ax2.scatter(centers[:, 0], centers[:, 1], marker='o',\n",
    "                    c=\"white\", alpha=1, s=200, edgecolor='k')\n",
    "\n",
    "        for i, c in enumerate(centers):\n",
    "            ax2.scatter(c[0], c[1], marker='$%d$' % i, alpha=1,\n",
    "                        s=50, edgecolor='k')\n",
    "\n",
    "        ax2.set_title(\"The visualization of the clustered data.\")\n",
    "        ax2.set_xlabel(\"Feature space for the 1st feature\")\n",
    "        ax2.set_ylabel(\"Feature space for the 2nd feature\")\n",
    "\n",
    "        plt.suptitle((\"Silhouette analysis for KMeans clustering on sample data \"\n",
    "                      \"with n_clusters = %d\" % n_clusters),\n",
    "                     fontsize=14, fontweight='bold')\n",
    "\n",
    "plt.show()"
   ]
  },
  {
   "cell_type": "markdown",
   "metadata": {},
   "source": [
    "__3. Implementing silhouette analysis to k-pod__"
   ]
  },
  {
   "cell_type": "code",
   "execution_count": null,
   "metadata": {},
   "outputs": [],
   "source": [
    "%matplotlib inline"
   ]
  },
  {
   "cell_type": "markdown",
   "metadata": {},
   "source": []
  },
  {
   "cell_type": "code",
   "execution_count": null,
   "metadata": {},
   "outputs": [],
   "source": [
    "from sklearn.metrics import silhouette_samples, silhouette_score\n",
    "from kPOD import k_pod\n",
    "import matplotlib.cm as cm\n",
    "\n",
    "range_n_clusters = list(range(2,9))\n",
    "\n",
    "X = cluster_df.copy().to_numpy()\n",
    "\n",
    "def replace_by_centroids(data, labels, centers):\n",
    "    #locate missing data\n",
    "    locs = np.argwhere(np.isnan(data))\n",
    "    for i in locs:\n",
    "        row=i[0]\n",
    "        col=i[1]\n",
    "        lab = int(labels[row])\n",
    "        center = centers[lab][col]\n",
    "        \n",
    "        data[row,col] = center\n",
    "    \n",
    "    return data\n",
    "\n",
    "\n",
    "for n_clusters in range_n_clusters:\n",
    "    # Create a subplot with 1 row and 1 column\n",
    "    fig, (ax1, ax2) = plt.subplots(1, 2)\n",
    "    fig.set_size_inches(18, 7)\n",
    "\n",
    "    # The 1st subplot is the silhouette plot\n",
    "    # The silhouette coefficient can range from -1, 1 but in this example all\n",
    "    # lie within [-0.1, 1]\n",
    "    ax1.set_xlim([-0.2, 1])\n",
    "    # The (n_clusters+1)*10 is for inserting blank space between silhouette\n",
    "    # plots of individual clusters, to demarcate them clearly.\n",
    "    ax1.set_ylim([0, len(X) + (n_clusters + 1) * 20])\n",
    "\n",
    "    # Initialize the clusterer with n_clusters value and a random generator\n",
    "    # seed of 10 for reproducibility.\n",
    "    clusterer = k_pod(n_clusters=n_clusters, data=X)\n",
    "    cluster_labels = clusterer[0]\n",
    "    centers = clusterer[1]\n",
    "    \n",
    "    # replace missing data with centroids\n",
    "    X = replace_by_centroids(X, cluster_labels, centers)\n",
    "    \n",
    "    # The silhouette_score gives the average value for all the samples.\n",
    "    # This gives a perspective into the density and separation of the formed\n",
    "    # clusters\n",
    "    silhouette_avg = silhouette_score(X, cluster_labels)\n",
    "    print(\"For n_clusters =\", n_clusters,\n",
    "          \"The average silhouette_score is :\", silhouette_avg)\n",
    "\n",
    "    # Compute the silhouette scores for each sample\n",
    "    sample_silhouette_values = silhouette_samples(X, cluster_labels)\n",
    "\n",
    "    y_lower = 10\n",
    "    for i in range(n_clusters):\n",
    "        # Aggregate the silhouette scores for samples belonging to\n",
    "        # cluster i, and sort them\n",
    "        ith_cluster_silhouette_values = \\\n",
    "            sample_silhouette_values[cluster_labels == i]\n",
    "\n",
    "        ith_cluster_silhouette_values.sort()\n",
    "\n",
    "        size_cluster_i = ith_cluster_silhouette_values.shape[0]\n",
    "        y_upper = y_lower + size_cluster_i\n",
    "\n",
    "        color = cm.nipy_spectral(float(i) / n_clusters)\n",
    "        ax1.fill_betweenx(np.arange(y_lower, y_upper),\n",
    "                          0, ith_cluster_silhouette_values,\n",
    "                          facecolor=color, edgecolor=color, alpha=0.7)\n",
    "\n",
    "        # Label the silhouette plots with their cluster numbers at the middle\n",
    "        ax1.text(-0.05, y_lower + 0.5 * size_cluster_i, str(i))\n",
    "\n",
    "        # Compute the new y_lower for next plot\n",
    "        y_lower = y_upper + 10  # 10 for the 0 samples\n",
    "\n",
    "    ax1.set_title(\"The silhouette plot for the various clusters.\")\n",
    "    ax1.set_xlabel(\"The silhouette coefficient values\")\n",
    "    ax1.set_ylabel(\"Cluster label\")\n",
    "\n",
    "    # The vertical line for average silhouette score of all the values\n",
    "    ax1.axvline(x=silhouette_avg, color=\"red\", linestyle=\"--\")\n",
    "\n",
    "    ax1.set_yticks([])  # Clear the yaxis labels / ticks\n",
    "    ax1.set_xticks([-0.1, 0, 0.2, 0.4, 0.6, 0.8, 1])\n",
    "\n",
    "    # 2nd Plot showing the actual clusters formed\n",
    "    colors = cm.nipy_spectral(cluster_labels.astype(float) / n_clusters)\n",
    "    ax2.scatter(X[:, 0], X[:, 1], marker='.', s=30, lw=0, alpha=0.7,\n",
    "                c=colors, edgecolor='k')\n",
    "\n",
    "    \n",
    "    # Draw white circles at cluster centers\n",
    "    centers = np.vstack(centers)\n",
    "    ax2.scatter(centers[:,0], centers[:,1], marker='o',\n",
    "                c=\"white\", alpha=1, s=200, edgecolor='k')\n",
    "\n",
    "    for i, c in enumerate(centers):\n",
    "        ax2.scatter(c[0], c[1], marker='$%d$' % i, alpha=1,\n",
    "                    s=50, edgecolor='k')\n",
    "\n",
    "    ax2.set_title(\"The visualization of the clustered data.\")\n",
    "    ax2.set_xlabel(\"Feature space for the 1st feature\")\n",
    "    ax2.set_ylabel(\"Feature space for the 2nd feature\")\n",
    "\n",
    "    plt.suptitle((\"Silhouette analysis for KMeans clustering on sample data \"\n",
    "                  \"with n_clusters = %d\" % n_clusters),\n",
    "                 fontsize=14, fontweight='bold')\n",
    "\n",
    "plt.show()"
   ]
  },
  {
   "cell_type": "code",
   "execution_count": null,
   "metadata": {},
   "outputs": [],
   "source": [
    "plt.plot(df_X['total_spending'])"
   ]
  },
  {
   "cell_type": "markdown",
   "metadata": {},
   "source": [
    "### __3D Graphical representation__"
   ]
  },
  {
   "cell_type": "code",
   "execution_count": null,
   "metadata": {},
   "outputs": [],
   "source": [
    "from mpl_toolkits.mplot3d import Axes3D"
   ]
  },
  {
   "cell_type": "code",
   "execution_count": null,
   "metadata": {},
   "outputs": [],
   "source": [
    "%matplotlib auto"
   ]
  },
  {
   "cell_type": "code",
   "execution_count": null,
   "metadata": {},
   "outputs": [],
   "source": [
    "X = cluster_df.to_numpy()\n",
    "clusterer = k_pod(n_clusters=3, data=X)\n",
    "cluster_labels = clusterer[0]\n",
    "centers = clusterer[1]\n",
    "\n",
    "# replace missing data with centroids\n",
    "X = replace_by_centroids(X, cluster_labels, centers)"
   ]
  },
  {
   "cell_type": "code",
   "execution_count": null,
   "metadata": {},
   "outputs": [],
   "source": [
    "col = sns.color_palette(\"colorblind\", len(cluster_labels))\n",
    "palette = [col[int(x)] for x in cluster_labels]\n",
    "\n",
    "f = plt.figure(figsize=(6,6))\n",
    "ax = Axes3D(f)\n",
    "ax.scatter3D(\n",
    "    cluster_df.bogo, \n",
    "    cluster_df.discount, \n",
    "    cluster_df.informational,\n",
    "    marker='o',\n",
    "    edgecolor='k',\n",
    "    c=palette\n",
    ")\n",
    "\n",
    "plt.xlabel('Buy-One-Get-One')\n",
    "plt.ylabel('Discount')\n",
    "ax.set_zlabel('Informational')"
   ]
  },
  {
   "cell_type": "code",
   "execution_count": null,
   "metadata": {},
   "outputs": [],
   "source": [
    "X[0]"
   ]
  },
  {
   "cell_type": "markdown",
   "metadata": {},
   "source": [
    "## __Building ML model over multiple outputs__"
   ]
  },
  {
   "cell_type": "code",
   "execution_count": null,
   "metadata": {},
   "outputs": [],
   "source": [
    "from sklearn.model_selection import train_test_split"
   ]
  },
  {
   "cell_type": "code",
   "execution_count": null,
   "metadata": {},
   "outputs": [],
   "source": [
    "y = df.bogo.dropna()\n",
    "X = pd.get_dummies(features.loc[y.index,:])\n",
    "\n",
    "X_train, X_test, y_train, y_test = train_test_split(X.to_numpy(), y.to_numpy(), test_size=0.2)"
   ]
  },
  {
   "cell_type": "code",
   "execution_count": null,
   "metadata": {},
   "outputs": [],
   "source": [
    "from sklearn.linear_model import SGDRegressor\n",
    "from sklearn import svm"
   ]
  },
  {
   "cell_type": "code",
   "execution_count": null,
   "metadata": {},
   "outputs": [],
   "source": [
    "# model = SGDRegressor(loss='huber', penalty='elasticnet')\n",
    "model = svm.SVR()"
   ]
  },
  {
   "cell_type": "code",
   "execution_count": null,
   "metadata": {},
   "outputs": [],
   "source": [
    "model.fit(X_train, y_train)\n",
    "preds = model.predict(X_test)"
   ]
  },
  {
   "cell_type": "code",
   "execution_count": null,
   "metadata": {},
   "outputs": [],
   "source": [
    "model.score(X_test, y_test)"
   ]
  },
  {
   "cell_type": "code",
   "execution_count": null,
   "metadata": {},
   "outputs": [],
   "source": [
    "plt.plot(y_test, preds, 'o')"
   ]
  },
  {
   "cell_type": "code",
   "execution_count": null,
   "metadata": {},
   "outputs": [],
   "source": [
    "df.head()"
   ]
  },
  {
   "cell_type": "code",
   "execution_count": null,
   "metadata": {},
   "outputs": [],
   "source": [
    "from sklearn.preprocessing import OneHotEncoder"
   ]
  },
  {
   "cell_type": "code",
   "execution_count": null,
   "metadata": {},
   "outputs": [],
   "source": [
    "coder = OneHotEncoder()\n",
    "gender = coder.fit_transform(df['gender'].to_numpy().reshape(-1, 1))"
   ]
  },
  {
   "cell_type": "code",
   "execution_count": null,
   "metadata": {},
   "outputs": [],
   "source": [
    "gender.toarray()"
   ]
  },
  {
   "cell_type": "code",
   "execution_count": null,
   "metadata": {},
   "outputs": [],
   "source": []
  },
  {
   "cell_type": "markdown",
   "metadata": {},
   "source": [
    "### PROFILE (APPENDIX)\n",
    "Quick visualization of the PROFILE dataset"
   ]
  },
  {
   "cell_type": "code",
   "execution_count": null,
   "metadata": {},
   "outputs": [],
   "source": [
    "PROFILE.head()"
   ]
  },
  {
   "cell_type": "code",
   "execution_count": null,
   "metadata": {},
   "outputs": [],
   "source": [
    "f1, ax1 = plt.subplots(1,1, figsize=[16,8])\n",
    "gender = PROFILE\n",
    "\n",
    "f2, ax2 = plt.subplots(1,3, figsize=[16,8])\n",
    "plt.subplots_adjust(wspace=0.3)\n",
    "\n",
    "\n",
    "sns.violinplot(\n",
    "    data=PROFILE,\n",
    "    x='income',\n",
    "    y='gender',\n",
    "    ax=ax[0],\n",
    "    inner='box',\n",
    "    scale='area',\n",
    "    orient='h'\n",
    ")\n",
    "ax2[0].set_title('Ditribution of INCOME by gender')\n",
    "\n",
    "sns.violinplot(\n",
    "    data=PROFILE,\n",
    "    x='age',\n",
    "    y='gender',\n",
    "    ax=ax2[1],\n",
    "    orient='h'\n",
    ")\n",
    "ax2[1].set_title('Ditribution of AGE by gender')\n",
    "\n",
    "PROFILE.groupby('gender')['became_member_on'].value_counts().unstack(0).cumsum()[::20].plot(ax=ax[2],marker='o')\n",
    "ax2[2].set_title('Cumulative Sum of MEMBERSHIP from 2014 to 2019')\n",
    "plt.show()"
   ]
  },
  {
   "cell_type": "markdown",
   "metadata": {},
   "source": [
    "__1. Are all offers distributed equally among `TRANSCRIPT` ?__"
   ]
  },
  {
   "cell_type": "code",
   "execution_count": null,
   "metadata": {},
   "outputs": [],
   "source": [
    "offer_distribution = TRANSCRIPT.query('event == \"offer received\"')['offer_id'].value_counts(normalize=True)\n",
    "offer_distribution = offer_distribution.to_frame(name=\"received ratio\")\n",
    "offer_distribution['type'] = PORTFOLIO.loc[offer_distribution.index, 'offer_type']\n",
    "offer_distribution = offer_distribution.sort_values('type')\n",
    "offer_distribution.style.format({'received ratio':\"{:.2%}\"})"
   ]
  },
  {
   "cell_type": "markdown",
   "metadata": {},
   "source": [
    "To filter out outliers values we are following the traditional definition of values outside of the $1.5 * IQR$, where IQR is the distance between first and the third quartile.\n",
    "\n",
    "(TO BE EDITED)\n",
    "We are setting an order of priority in the filtering process:\n",
    "1. `total_spending`\n",
    "2. `bogo` and `discount`\n",
    "3. `informational`\n",
    "\n",
    "In order to keep the maximum amount of data we decided to stop the filtering if the number of participants decrease below 80% of the original dataset."
   ]
  },
  {
   "cell_type": "code",
   "execution_count": 78,
   "metadata": {},
   "outputs": [
    {
     "name": "stdout",
     "output_type": "stream",
     "text": [
      "The new dataset has 36526 observations\n",
      "\n"
     ]
    },
    {
     "data": {
      "image/png": "[encoded data removed]",
      "text/plain": [
       "<Figure size 1440x576 with 2 Axes>"
      ]
     },
     "metadata": {},
     "output_type": "display_data"
    }
   ],
   "source": [
    "cols = ['amount_received', 'amount_viewed']\n",
    "\n",
    "subdf = RES.copy()\n",
    "\n",
    "# remove low total_spending at q1\n",
    "q1 = des_stats[cols[0]]['25%']\n",
    "q3 = des_stats[cols[0]]['75%']\n",
    "iqr = q3-q1\n",
    "low = 10\n",
    "up = q3 + (1.5 * iqr)\n",
    "str_expr = f'@low < {cols[0]} < @up'\n",
    "subdf = subdf.query(str_expr)\n",
    "\n",
    "print(f'The new dataset has {len(subdf)} observations\\n')\n",
    "\n",
    "f, ax = plt.subplots(nrows=1, ncols=2, figsize=(20, 8))\n",
    "f.suptitle(\"Filtered dataset\", fontsize=14, fontweight='bold')\n",
    "plt.subplots_adjust(wspace=0.3)\n",
    "win=0\n",
    "\n",
    "for i in cols:\n",
    "    sns.boxplot(\n",
    "        data=subdf, \n",
    "        x='portfolio_type', \n",
    "        y=i, \n",
    "        ax=ax[win], \n",
    "        palette='Blues',\n",
    "        hue='view_tag',\n",
    "        order=['bogo', 'discount', 'informational']\n",
    "    )\n",
    "    win += 1\n",
    "    "
   ]
  },
  {
   "cell_type": "code",
   "execution_count": 91,
   "metadata": {},
   "outputs": [
    {
     "data": {
      "text/plain": [
       "65020"
      ]
     },
     "execution_count": 91,
     "metadata": {},
     "output_type": "execute_result"
    }
   ],
   "source": [
    "len(RES)"
   ]
  },
  {
   "cell_type": "markdown",
   "metadata": {},
   "source": [
    "___\n",
    "OFFER TYPE DISTRIBUTION"
   ]
  },
  {
   "cell_type": "code",
   "execution_count": 52,
   "metadata": {},
   "outputs": [
    {
     "data": {
      "text/html": [
       "<style  type=\"text/css\" >\n",
       "</style><table id=\"T_01c22_\" ><thead>    <tr>        <th class=\"blank level0\" ></th>        <th class=\"col_heading level0 col0\" >received ratio</th>    </tr></thead><tbody>\n",
       "                <tr>\n",
       "                        <th id=\"T_01c22_level0_row0\" class=\"row_heading level0 row0\" >discount</th>\n",
       "                        <td id=\"T_01c22_row0_col0\" class=\"data row0 col0\" >40.04%</td>\n",
       "            </tr>\n",
       "            <tr>\n",
       "                        <th id=\"T_01c22_level0_row1\" class=\"row_heading level0 row1\" >bogo</th>\n",
       "                        <td id=\"T_01c22_row1_col0\" class=\"data row1 col0\" >39.94%</td>\n",
       "            </tr>\n",
       "            <tr>\n",
       "                        <th id=\"T_01c22_level0_row2\" class=\"row_heading level0 row2\" >informational</th>\n",
       "                        <td id=\"T_01c22_row2_col0\" class=\"data row2 col0\" >20.02%</td>\n",
       "            </tr>\n",
       "    </tbody></table>"
      ],
      "text/plain": [
       "<pandas.io.formats.style.Styler at 0x7fdab52f9fd0>"
      ]
     },
     "execution_count": 52,
     "metadata": {},
     "output_type": "execute_result"
    }
   ],
   "source": [
    "offer_distribution = RES['portfolio_type'].value_counts(normalize=True)\n",
    "offer_distribution = offer_distribution.to_frame(name=\"received ratio\")\n",
    "offer_distribution.style.format({'received ratio':\"{:.2%}\"})"
   ]
  },
  {
   "cell_type": "code",
   "execution_count": 55,
   "metadata": {},
   "outputs": [
    {
     "data": {
      "image/png": "[encoded data removed]",
      "text/plain": [
       "<Figure size 576x576 with 1 Axes>"
      ]
     },
     "metadata": {},
     "output_type": "display_data"
    }
   ],
   "source": [
    "f, ax = plt.subplots(1,1, figsize=[8,8])\n",
    "pie_data = offer_distribution\n",
    "\n",
    "plt.pie(\n",
    "    data=pie_data, \n",
    "    x='received ratio', \n",
    "    labels= pie_data.index, \n",
    "    autopct='%.2f'\n",
    ")\n",
    "plt.title('Distribution of each offer type in transcript')\n",
    "plt.show()"
   ]
  },
  {
   "cell_type": "markdown",
   "metadata": {},
   "source": [
    "## 4.2. Modeling"
   ]
  },
  {
   "cell_type": "markdown",
   "metadata": {},
   "source": [
    "(TO BE UPDATED)\\\n",
    "In order to use `PROFILE` later on as features we are going to categorize all `profile` columns:\n",
    " - `age` is being splitted into 8 age brackets\n",
    " - only the year is kept from `became_member_on`. These values are being transformed into category\n",
    " - `income` is being splitted into 8 income brackets"
   ]
  },
  {
   "cell_type": "code",
   "execution_count": null,
   "metadata": {},
   "outputs": [],
   "source": [
    "feat_profile = pd.DataFrame()\n",
    "\n",
    "#age brackets\n",
    "'''divide age in 8 brackets'''\n",
    "bins_age = [0, 25, 35, 45, 55, 65, 75, 85, 110]\n",
    "lab_age = ['<25', '25-34', '35-44', '45-54', '55-64', '65-74', '75-84', '>85']\n",
    "feat_profile['age_brackets'] = pd.cut(profile['age'], bins=bins_age, labels=lab_age, right=False)\n",
    "\n",
    "#membership year\n",
    "'''keep only the year of membership'''\n",
    "feat_profile['year_member'] = profile['became_member_on'].apply(lambda x:x.year)\n",
    "feat_profile['year_member'] = feat_profile['year_member'].astype('category')\n",
    "\n",
    "#income brackets\n",
    "'''divide income in 8 brackets'''\n",
    "bins_income = [30000, 40000, 50000, 60000, 70000, 80000, 90000, 100000, 120000]\n",
    "lab_income = ['<40k', '40k-49k', '50k-59k', '60k-69k', '70k-79k', '80k-89k', '90k-99k', '>100k']\n",
    "feat_profile['income_brackets'] = pd.cut(profile['income'], bins=bins_income, labels=lab_income, right=False)\n",
    "\n",
    "feat_profile = feat_profile.join(profile['gender'])\n",
    "feat_profile.head()"
   ]
  }
 ],
 "metadata": {
  "kernelspec": {
   "display_name": "Python 3",
   "language": "python",
   "name": "python3"
  },
  "language_info": {
   "codemirror_mode": {
    "name": "ipython",
    "version": 3
   },
   "file_extension": ".py",
   "mimetype": "text/x-python",
   "name": "python",
   "nbconvert_exporter": "python",
   "pygments_lexer": "ipython3",
   "version": "3.7.6"
  },
  "toc-autonumbering": false,
  "toc-showcode": false,
  "toc-showmarkdowntxt": false,
  "toc-showtags": false
 },
 "nbformat": 4,
 "nbformat_minor": 4
}
