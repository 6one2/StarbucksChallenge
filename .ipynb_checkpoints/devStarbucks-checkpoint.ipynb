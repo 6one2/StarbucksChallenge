{
 "cells": [
  {
   "cell_type": "markdown",
   "metadata": {},
   "source": [
    "# __Starbucks Capstone Challenge:__\n",
    "\n",
    "__Combine transaction, demographic and offer data to determine which demographic groups respond best to which offer type__\n"
   ]
  },
  {
   "cell_type": "markdown",
   "metadata": {},
   "source": [
    "# __1. Business Understanding__\n",
    "\n",
    "This data set contains simulated data that mimics customer behavior on the Starbucks rewards mobile app. The program used to create the data simulates how people make purchasing decisions and how those decisions are influenced by promotional offers. Once every few days, Starbucks sends out an offer to users of the mobile app. \n",
    "\n",
    "This data set is a simplified version of the real Starbucks app because the underlying simulator only has one product whereas Starbucks actually sells dozens of products. Only the amounts of each transaction or offer are recorded.\n",
    "\n",
    "There are three types of offers that can be sent: \n",
    " 1. __buy-one-get-one (BOGO)__: In a BOGO offer, a user needs to spend a certain amount to get a reward equal to that threshold amount\n",
    " 2. __discount__: In a discount, a user gains a reward equal to a fraction of the amount spent.\n",
    " 3. __informational__: In an informational offer, there is no reward, but neither is there a requisite amount that the user is expected to spend.\n",
    " \n",
    "Some users might not receive any offer during certain weeks, and not all users receive the same offer, and that is the challenge to solve with this data set.\n",
    "\n",
    "Each person in the simulation has some hidden traits that influence their purchasing patterns and are associated with their observable traits. People produce various events, including receiving offers, opening offers, and making purchases.\n",
    "\n",
    "The goal is to combine transaction, demographic and offer data to: \n",
    "> __determine which demographic groups respond best to which offer type__\n"
   ]
  },
  {
   "cell_type": "markdown",
   "metadata": {},
   "source": [
    "___\n",
    "__Table of Contents:__\n",
    "\n",
    "[1. Data exploration and cleaning](#1.-Data-exploration-and-Cleaning)\n",
    "\n",
    "[APPENDIX - Cluster Analysis](#APPENDIX---unsupervised-Cluster-Analysis)"
   ]
  },
  {
   "cell_type": "markdown",
   "metadata": {},
   "source": [
    "# __2. Data Understanding__"
   ]
  },
  {
   "cell_type": "code",
   "execution_count": 1,
   "metadata": {},
   "outputs": [],
   "source": [
    "%reset -f\n",
    "# must be called before importing matplotlib!!!\n",
    "# %matplotlib widget"
   ]
  },
  {
   "cell_type": "code",
   "execution_count": 2,
   "metadata": {},
   "outputs": [],
   "source": [
    "import pandas as pd\n",
    "import numpy as np\n",
    "import math\n",
    "import json\n",
    "import matplotlib.pyplot as plt\n",
    "from mpl_toolkits.mplot3d import Axes3D\n",
    "import seaborn as sns\n",
    "sns.set(style='whitegrid')\n",
    "plt.rcParams['font.family'] = 'monospace'\n",
    "plt.rcParams['font.weight'] = 'bold'"
   ]
  },
  {
   "cell_type": "markdown",
   "metadata": {},
   "source": [
    "> __load [cleaned data](#clean)__\n",
    "\n",
    "> __to go directly to [ANALYSIS](#load)__"
   ]
  },
  {
   "cell_type": "code",
   "execution_count": null,
   "metadata": {},
   "outputs": [],
   "source": [
    "# read in the json files\n",
    "portfolio = pd.read_json('data/portfolio.json', orient='records', lines=True)\n",
    "profile = pd.read_json('data/profile.json', orient='records', lines=True)\n",
    "transcript = pd.read_json('data/transcript.json', orient='records', lines=True)"
   ]
  },
  {
   "cell_type": "markdown",
   "metadata": {},
   "source": [
    "## 2.1 Exploring `profile`\n",
    "\n",
    "`profile.json` : Rewards program users (17000 users x 5 fields)\n",
    "- gender: (categorical) M, F, O, or null\n",
    "- age: (numeric) missing value encoded as 118\n",
    "- id: (string/hash)\n",
    "- became_member_on: (date) format YYYYMMDD\n",
    "- income: (numeric)"
   ]
  },
  {
   "cell_type": "code",
   "execution_count": null,
   "metadata": {},
   "outputs": [],
   "source": [
    "profile.info()"
   ]
  },
  {
   "cell_type": "code",
   "execution_count": null,
   "metadata": {},
   "outputs": [],
   "source": [
    "profile.head()"
   ]
  },
  {
   "cell_type": "markdown",
   "metadata": {},
   "source": [
    "## 2.1 Exploring `portfolio`\n",
    "\n",
    "`portfolio.json`: Offers sent during 30-day test period (10 offers x 6 fields)\n",
    "- reward: (numeric) money awarded for the amount spent\n",
    "- channels: (list) web, email, mobile, social\n",
    "- difficulty: (numeric) money required to be spent to receive reward\n",
    "- duration: (numeric) time for offer to be open, in days\n",
    "- offer_type: (string) bogo, discount, informational\n",
    "- id: (string/hash)"
   ]
  },
  {
   "cell_type": "code",
   "execution_count": null,
   "metadata": {},
   "outputs": [],
   "source": [
    "portfolio.info()"
   ]
  },
  {
   "cell_type": "markdown",
   "metadata": {},
   "source": [
    "Every offer has a validity period before the offer expires:\n",
    "- As an example, a `bogo` offer might be valid for only 5 days or 7 days. \n",
    "- `informational` offers have a validity period even though these ads are merely providing information about a product; for example, if an informational offer has 7 days of validity, you can assume the customer is feeling the influence of the offer for 7 days after receiving the advertisement."
   ]
  },
  {
   "cell_type": "code",
   "execution_count": null,
   "metadata": {},
   "outputs": [],
   "source": [
    "portfolio"
   ]
  },
  {
   "cell_type": "markdown",
   "metadata": {},
   "source": [
    "## 2.3 Exploring `transcript`\n",
    "\n",
    "Transactional data showing user purchases made on the app including the timestamp of purchase and the amount of money spent on a purchase. This transactional data also has a record for each offer that a user receives as well as a record for when a user actually views the offer. There are also records for when a user completes an offer. \n",
    "\n",
    "Keep in mind as well that someone using the app might make a purchase through the app without having received an offer or seen an offer.\n",
    "\n",
    "`transcript.json`: Event log (306648 events x 4 fields)\n",
    "- person: (string/hash)\n",
    "- event: (string) offer received, offer viewed, transaction, offer completed\n",
    "- value: (dictionary) different values depending on event type\n",
    "    - offer id: (string/hash) not associated with any \"transaction\"\n",
    "    - amount: (numeric) money spent in \"transaction\"\n",
    "    - reward: (numeric) money gained from \"offer completed\"\n",
    "- time: (numeric) hours after start of test"
   ]
  },
  {
   "cell_type": "code",
   "execution_count": null,
   "metadata": {},
   "outputs": [],
   "source": [
    "transcript.info()"
   ]
  },
  {
   "cell_type": "code",
   "execution_count": null,
   "metadata": {},
   "outputs": [],
   "source": [
    "transcript.head()"
   ]
  },
  {
   "cell_type": "code",
   "execution_count": null,
   "metadata": {},
   "outputs": [],
   "source": [
    "event_type = transcript['event'].unique()\n",
    "print(f'we found {len(event_type)} types of offers:\\n')\n",
    "for evt in event_type:\n",
    "    print(f'\\t\"{evt}\"')"
   ]
  },
  {
   "cell_type": "markdown",
   "metadata": {},
   "source": [
    "# __3. Data Preparation__\n",
    "\n",
    "> All the steps taken in this section are implemented in the `lib.load_data()`\n",
    "\n",
    "> __load [cleaned data](#clean)__\n",
    "\n",
    "> __to go directly to [ANALYSIS](#2.-Data-Analysis)__"
   ]
  },
  {
   "cell_type": "markdown",
   "metadata": {},
   "source": [
    "## 3.1 Preparing `profile` \n",
    "fitering out participants with missing values:\n",
    " - missing `age` = 118\n",
    " - missing `income` = NaN\n",
    " - missing `gender` = None"
   ]
  },
  {
   "cell_type": "code",
   "execution_count": null,
   "metadata": {},
   "outputs": [],
   "source": [
    "profile = profile.query('age != 118')\n",
    "profile.isnull().sum()"
   ]
  },
  {
   "cell_type": "markdown",
   "metadata": {},
   "source": [
    "> by filtering out the `age` we removed all missing values "
   ]
  },
  {
   "cell_type": "code",
   "execution_count": null,
   "metadata": {},
   "outputs": [],
   "source": [
    "# we will be using id as the index \n",
    "profile.set_index('id', inplace=True)\n",
    "\n",
    "# change `became_member_on` to datetime\n",
    "profile['became_member_on'] = pd.to_datetime(profile['became_member_on'], format='%Y%m%d')\n",
    "\n",
    "# count number of unique users\n",
    "n_users = profile.index.unique().__len__()\n",
    "print(f'We found {n_users} unique participants in the profile dataset')"
   ]
  },
  {
   "cell_type": "code",
   "execution_count": null,
   "metadata": {},
   "outputs": [],
   "source": [
    "profile.head()"
   ]
  },
  {
   "cell_type": "markdown",
   "metadata": {},
   "source": [
    "## 3.2 Preparing `portfolio`"
   ]
  },
  {
   "cell_type": "code",
   "execution_count": null,
   "metadata": {},
   "outputs": [],
   "source": [
    "# we will be using id as the index \n",
    "portfolio.set_index('id', inplace=True)"
   ]
  },
  {
   "cell_type": "code",
   "execution_count": null,
   "metadata": {},
   "outputs": [],
   "source": [
    "# Creating code for each offer\n",
    "portfolio['code'] = portfolio.apply(lambda x: x['offer_type'][0].capitalize()+'.'+str(x['duration']).zfill(2) +'.'+str(x['difficulty']).zfill(2), axis=1)\n",
    "portfolio.sort_values(by=['offer_type', 'difficulty', 'duration'])"
   ]
  },
  {
   "cell_type": "code",
   "execution_count": null,
   "metadata": {},
   "outputs": [],
   "source": [
    "# create dummy varibale per channels\n",
    "channels = pd.DataFrame(index=portfolio.index)\n",
    "\n",
    "for col in ['web', 'email', 'mobile', 'social']:\n",
    "    channels[col] = portfolio['channels'].apply(lambda x: int(col in x))\n",
    "\n",
    "channels"
   ]
  },
  {
   "cell_type": "code",
   "execution_count": null,
   "metadata": {},
   "outputs": [],
   "source": [
    "portfolio = portfolio.drop('channels', axis=1).join(channels.drop('email', axis=1))"
   ]
  },
  {
   "cell_type": "markdown",
   "metadata": {},
   "source": [
    "## 3.3 Preparing `transcript`"
   ]
  },
  {
   "cell_type": "markdown",
   "metadata": {},
   "source": [
    "__1. We are fitering out `transcript` according to the participants available in the `profile` dataset__"
   ]
  },
  {
   "cell_type": "code",
   "execution_count": null,
   "metadata": {},
   "outputs": [],
   "source": [
    "user_list = list(profile.index)\n",
    "transcript = transcript.query('person in @user_list')\n",
    "transcript.head()"
   ]
  },
  {
   "cell_type": "code",
   "execution_count": null,
   "metadata": {},
   "outputs": [],
   "source": [
    "n_users_trans = transcript.person.unique().__len__()\n",
    "print(f'We found {n_users_trans} unique participants in the transcript dataset')"
   ]
  },
  {
   "cell_type": "markdown",
   "metadata": {},
   "source": [
    "__2. We are filtering out participants that did not receive any offer__\n",
    "\n",
    "Since we will look at the offer received to measure the impact of each other we will check if all participants received at least 1 offer."
   ]
  },
  {
   "cell_type": "code",
   "execution_count": null,
   "metadata": {},
   "outputs": [],
   "source": [
    "user_received = transcript.query('event == \"offer received\"')['person'].unique()\n",
    "no_offer_list = list(set(profile.index).difference(set(user_received))) # TO BE FILTERED OUT\n",
    "print(f'{len(no_offer_list)} participants did not received any offer')\n",
    "transcript.query('person in @no_offer_list')"
   ]
  },
  {
   "cell_type": "markdown",
   "metadata": {},
   "source": [
    "__3. We are filtering out participants with no transactions__\n",
    "\n",
    "Since we will measure the impact of each other with the transactions that occured we will check if all participants achieve at least 1 transaction."
   ]
  },
  {
   "cell_type": "code",
   "execution_count": null,
   "metadata": {},
   "outputs": [],
   "source": [
    "user_transactions = transcript.query('event == \"transaction\"')['person'].unique()\n",
    "no_transaction_list = list(set(profile.index).difference(set(user_transactions))) # TO BE FILTERED OUT \n",
    "print(f'{len(no_transaction_list)} participants did not make any transactions')\n",
    "transcript.query('person in @no_transaction_list')"
   ]
  },
  {
   "cell_type": "markdown",
   "metadata": {},
   "source": [
    "__4. Filtering out participants with no `offer received` or no `transactions` made__"
   ]
  },
  {
   "cell_type": "code",
   "execution_count": null,
   "metadata": {},
   "outputs": [],
   "source": [
    "participant_filter = list(set(no_offer_list + no_transaction_list))\n",
    "transcript = transcript.query('person not in @participant_filter')"
   ]
  },
  {
   "cell_type": "code",
   "execution_count": null,
   "metadata": {},
   "outputs": [],
   "source": [
    "user_profile = set(profile.index)\n",
    "user_received = set(transcript.query('event == \"offer received\"')['person'])\n",
    "user_trans = set(transcript.query('event == \"transaction\"')['person'])\n",
    "\n",
    "# user_list = list(user_received.intersection(user_trans).intersection(user_profile))\n",
    "user_profile.intersection_update(user_received, user_trans)\n",
    "len(user_profile)"
   ]
  },
  {
   "cell_type": "markdown",
   "metadata": {},
   "source": [
    "__5. Extract information from `value` dictionary and split it into `amount`, `offer_id`, and `reward`__"
   ]
  },
  {
   "cell_type": "code",
   "execution_count": null,
   "metadata": {},
   "outputs": [],
   "source": [
    "def expand_trasncript(transcript):\n",
    "    \n",
    "    #change 'offer id' in 'offer_id'\n",
    "    value = transcript['value'].\\\n",
    "        apply(lambda x:{('offer_id' if k=='offer id' else k): v for k, v in x.items()})\n",
    "    \n",
    "    #expand dictionary into 3 columns and add to transcript\n",
    "    n_trans = transcript.join(pd.json_normalize(value))\n",
    "    \n",
    "    return n_trans.drop(columns=['value']) # drop obsolete columns\n",
    "\n",
    "n_trans = expand_trasncript(transcript)\n",
    "n_trans.head()"
   ]
  },
  {
   "cell_type": "markdown",
   "metadata": {},
   "source": [
    "# __4. Data Analysis & Modeling__"
   ]
  },
  {
   "cell_type": "markdown",
   "metadata": {},
   "source": [
    "In order to analyze the data we created to classes (see `lib.starbucks_class`):\n",
    "- `Person`: participant object:\n",
    "    - attributes: \n",
    "        - `_id`: participant id as found in TRANSCRIPT (`person`) and PROFILE (`id`)\n",
    "        - `data`: all data contain in TRANSCRIPT\n",
    "        - `offers`: offers ids from received offers\n",
    "        - `total_spending`: cumulative sum of all transactions\n",
    "    - methods: `get_transaction()` and `get_reward()` to collect all transactions or reward between 2 timestamps.\n",
    "\n",
    "\n",
    "- `Event`: object for received offer:\n",
    "    - attributes:\n",
    "        - `_id`: index of the received offer in TRANSCRIPT\n",
    "        - `offer_id`: offer id as found in PROFILE\n",
    "        - `details`: all details of the specific offer id as found in PROFILE (duration, difficulty, ...)\n",
    "        - `offer_type`: offer type (bogo, discount, or informational)\n",
    "        - `start`: time (in hours) where the offer was received\n",
    "        - `end`: time (in hours) where the offer is supposed to end (based on offer duration)\n",
    "        - `events`: subset of TRANSCRIPT from start to end\n",
    "        - `viewed`: timestamp (hours) if this offer was viewed, np.nan if not\n",
    "        - `completed`: timestamp (hours) if this offer was completed, np.nan if not\n",
    "\n",
    "<a name='clean'></a>"
   ]
  },
  {
   "cell_type": "code",
   "execution_count": 3,
   "metadata": {},
   "outputs": [
    {
     "name": "stderr",
     "output_type": "stream",
     "text": [
      "/Users/sebastienvillard/Documents/Perso/2020_DataScience_Class/Udacity_nanoDegree/Projects/Project4_CapstoneProject/lib/data_wrangling.py:29: SettingWithCopyWarning: \n",
      "A value is trying to be set on a copy of a slice from a DataFrame.\n",
      "Try using .loc[row_indexer,col_indexer] = value instead\n",
      "\n",
      "See the caveats in the documentation: https://pandas.pydata.org/pandas-docs/stable/user_guide/indexing.html#returning-a-view-versus-a-copy\n",
      "  PROFILE['became_member_on'] = pd.to_datetime(PROFILE['became_member_on'], format='%Y%m%d')\n"
     ]
    }
   ],
   "source": [
    "import numpy as np\n",
    "import pandas as pd\n",
    "from lib.starbucks_class import Person, Event, PORTFOLIO, PROFILE, TRANSCRIPT"
   ]
  },
  {
   "cell_type": "markdown",
   "metadata": {},
   "source": [
    "## 4.1. Data Analysis"
   ]
  },
  {
   "cell_type": "markdown",
   "metadata": {},
   "source": [
    "### 4.1.1. Visualizing the time-line of events for one individual"
   ]
  },
  {
   "cell_type": "code",
   "execution_count": 4,
   "metadata": {},
   "outputs": [
    {
     "data": {
      "text/html": [
       "<div>\n",
       "<style scoped>\n",
       "    .dataframe tbody tr th:only-of-type {\n",
       "        vertical-align: middle;\n",
       "    }\n",
       "\n",
       "    .dataframe tbody tr th {\n",
       "        vertical-align: top;\n",
       "    }\n",
       "\n",
       "    .dataframe thead th {\n",
       "        text-align: right;\n",
       "    }\n",
       "</style>\n",
       "<table border=\"1\" class=\"dataframe\">\n",
       "  <thead>\n",
       "    <tr style=\"text-align: right;\">\n",
       "      <th></th>\n",
       "      <th>person</th>\n",
       "      <th>event</th>\n",
       "      <th>time</th>\n",
       "      <th>offer_id</th>\n",
       "      <th>amount</th>\n",
       "      <th>reward</th>\n",
       "    </tr>\n",
       "  </thead>\n",
       "  <tbody>\n",
       "    <tr>\n",
       "      <th>5</th>\n",
       "      <td>31dda685af34476cad5bc968bdb01c53</td>\n",
       "      <td>offer received</td>\n",
       "      <td>0</td>\n",
       "      <td>0b1e1539f2cc45b7b9fa7c272da2e1d7</td>\n",
       "      <td>NaN</td>\n",
       "      <td>NaN</td>\n",
       "    </tr>\n",
       "    <tr>\n",
       "      <th>44475</th>\n",
       "      <td>31dda685af34476cad5bc968bdb01c53</td>\n",
       "      <td>offer viewed</td>\n",
       "      <td>150</td>\n",
       "      <td>0b1e1539f2cc45b7b9fa7c272da2e1d7</td>\n",
       "      <td>NaN</td>\n",
       "      <td>NaN</td>\n",
       "    </tr>\n",
       "    <tr>\n",
       "      <th>46972</th>\n",
       "      <td>31dda685af34476cad5bc968bdb01c53</td>\n",
       "      <td>offer received</td>\n",
       "      <td>168</td>\n",
       "      <td>fafdcd668e3743c1bb461111dcafc2a4</td>\n",
       "      <td>NaN</td>\n",
       "      <td>NaN</td>\n",
       "    </tr>\n",
       "    <tr>\n",
       "      <th>57733</th>\n",
       "      <td>31dda685af34476cad5bc968bdb01c53</td>\n",
       "      <td>offer viewed</td>\n",
       "      <td>168</td>\n",
       "      <td>fafdcd668e3743c1bb461111dcafc2a4</td>\n",
       "      <td>NaN</td>\n",
       "      <td>NaN</td>\n",
       "    </tr>\n",
       "    <tr>\n",
       "      <th>84856</th>\n",
       "      <td>31dda685af34476cad5bc968bdb01c53</td>\n",
       "      <td>transaction</td>\n",
       "      <td>258</td>\n",
       "      <td>NaN</td>\n",
       "      <td>24.87</td>\n",
       "      <td>NaN</td>\n",
       "    </tr>\n",
       "    <tr>\n",
       "      <th>84857</th>\n",
       "      <td>31dda685af34476cad5bc968bdb01c53</td>\n",
       "      <td>offer completed</td>\n",
       "      <td>258</td>\n",
       "      <td>fafdcd668e3743c1bb461111dcafc2a4</td>\n",
       "      <td>NaN</td>\n",
       "      <td>2.0</td>\n",
       "    </tr>\n",
       "    <tr>\n",
       "      <th>90493</th>\n",
       "      <td>31dda685af34476cad5bc968bdb01c53</td>\n",
       "      <td>transaction</td>\n",
       "      <td>288</td>\n",
       "      <td>NaN</td>\n",
       "      <td>16.26</td>\n",
       "      <td>NaN</td>\n",
       "    </tr>\n",
       "    <tr>\n",
       "      <th>93431</th>\n",
       "      <td>31dda685af34476cad5bc968bdb01c53</td>\n",
       "      <td>transaction</td>\n",
       "      <td>306</td>\n",
       "      <td>NaN</td>\n",
       "      <td>15.80</td>\n",
       "      <td>NaN</td>\n",
       "    </tr>\n",
       "    <tr>\n",
       "      <th>97797</th>\n",
       "      <td>31dda685af34476cad5bc968bdb01c53</td>\n",
       "      <td>offer received</td>\n",
       "      <td>336</td>\n",
       "      <td>2298d6c36e964ae4a3e7e9706d1fb8c2</td>\n",
       "      <td>NaN</td>\n",
       "      <td>NaN</td>\n",
       "    </tr>\n",
       "    <tr>\n",
       "      <th>108633</th>\n",
       "      <td>31dda685af34476cad5bc968bdb01c53</td>\n",
       "      <td>offer viewed</td>\n",
       "      <td>336</td>\n",
       "      <td>2298d6c36e964ae4a3e7e9706d1fb8c2</td>\n",
       "      <td>NaN</td>\n",
       "      <td>NaN</td>\n",
       "    </tr>\n",
       "    <tr>\n",
       "      <th>126311</th>\n",
       "      <td>31dda685af34476cad5bc968bdb01c53</td>\n",
       "      <td>transaction</td>\n",
       "      <td>384</td>\n",
       "      <td>NaN</td>\n",
       "      <td>12.57</td>\n",
       "      <td>NaN</td>\n",
       "    </tr>\n",
       "    <tr>\n",
       "      <th>126312</th>\n",
       "      <td>31dda685af34476cad5bc968bdb01c53</td>\n",
       "      <td>offer completed</td>\n",
       "      <td>384</td>\n",
       "      <td>2298d6c36e964ae4a3e7e9706d1fb8c2</td>\n",
       "      <td>NaN</td>\n",
       "      <td>3.0</td>\n",
       "    </tr>\n",
       "    <tr>\n",
       "      <th>132624</th>\n",
       "      <td>31dda685af34476cad5bc968bdb01c53</td>\n",
       "      <td>offer received</td>\n",
       "      <td>408</td>\n",
       "      <td>2298d6c36e964ae4a3e7e9706d1fb8c2</td>\n",
       "      <td>NaN</td>\n",
       "      <td>NaN</td>\n",
       "    </tr>\n",
       "    <tr>\n",
       "      <th>153141</th>\n",
       "      <td>31dda685af34476cad5bc968bdb01c53</td>\n",
       "      <td>offer viewed</td>\n",
       "      <td>426</td>\n",
       "      <td>2298d6c36e964ae4a3e7e9706d1fb8c2</td>\n",
       "      <td>NaN</td>\n",
       "      <td>NaN</td>\n",
       "    </tr>\n",
       "    <tr>\n",
       "      <th>153142</th>\n",
       "      <td>31dda685af34476cad5bc968bdb01c53</td>\n",
       "      <td>transaction</td>\n",
       "      <td>426</td>\n",
       "      <td>NaN</td>\n",
       "      <td>15.01</td>\n",
       "      <td>NaN</td>\n",
       "    </tr>\n",
       "    <tr>\n",
       "      <th>153143</th>\n",
       "      <td>31dda685af34476cad5bc968bdb01c53</td>\n",
       "      <td>offer completed</td>\n",
       "      <td>426</td>\n",
       "      <td>2298d6c36e964ae4a3e7e9706d1fb8c2</td>\n",
       "      <td>NaN</td>\n",
       "      <td>3.0</td>\n",
       "    </tr>\n",
       "    <tr>\n",
       "      <th>160509</th>\n",
       "      <td>31dda685af34476cad5bc968bdb01c53</td>\n",
       "      <td>transaction</td>\n",
       "      <td>444</td>\n",
       "      <td>NaN</td>\n",
       "      <td>23.18</td>\n",
       "      <td>NaN</td>\n",
       "    </tr>\n",
       "    <tr>\n",
       "      <th>177582</th>\n",
       "      <td>31dda685af34476cad5bc968bdb01c53</td>\n",
       "      <td>offer received</td>\n",
       "      <td>504</td>\n",
       "      <td>2298d6c36e964ae4a3e7e9706d1fb8c2</td>\n",
       "      <td>NaN</td>\n",
       "      <td>NaN</td>\n",
       "    </tr>\n",
       "    <tr>\n",
       "      <th>202611</th>\n",
       "      <td>31dda685af34476cad5bc968bdb01c53</td>\n",
       "      <td>transaction</td>\n",
       "      <td>534</td>\n",
       "      <td>NaN</td>\n",
       "      <td>22.87</td>\n",
       "      <td>NaN</td>\n",
       "    </tr>\n",
       "    <tr>\n",
       "      <th>202612</th>\n",
       "      <td>31dda685af34476cad5bc968bdb01c53</td>\n",
       "      <td>offer completed</td>\n",
       "      <td>534</td>\n",
       "      <td>2298d6c36e964ae4a3e7e9706d1fb8c2</td>\n",
       "      <td>NaN</td>\n",
       "      <td>3.0</td>\n",
       "    </tr>\n",
       "    <tr>\n",
       "      <th>204783</th>\n",
       "      <td>31dda685af34476cad5bc968bdb01c53</td>\n",
       "      <td>transaction</td>\n",
       "      <td>540</td>\n",
       "      <td>NaN</td>\n",
       "      <td>29.69</td>\n",
       "      <td>NaN</td>\n",
       "    </tr>\n",
       "    <tr>\n",
       "      <th>215789</th>\n",
       "      <td>31dda685af34476cad5bc968bdb01c53</td>\n",
       "      <td>offer received</td>\n",
       "      <td>576</td>\n",
       "      <td>fafdcd668e3743c1bb461111dcafc2a4</td>\n",
       "      <td>NaN</td>\n",
       "      <td>NaN</td>\n",
       "    </tr>\n",
       "    <tr>\n",
       "      <th>230395</th>\n",
       "      <td>31dda685af34476cad5bc968bdb01c53</td>\n",
       "      <td>offer viewed</td>\n",
       "      <td>582</td>\n",
       "      <td>fafdcd668e3743c1bb461111dcafc2a4</td>\n",
       "      <td>NaN</td>\n",
       "      <td>NaN</td>\n",
       "    </tr>\n",
       "  </tbody>\n",
       "</table>\n",
       "</div>"
      ],
      "text/plain": [
       "                                  person            event  time  \\\n",
       "5       31dda685af34476cad5bc968bdb01c53   offer received     0   \n",
       "44475   31dda685af34476cad5bc968bdb01c53     offer viewed   150   \n",
       "46972   31dda685af34476cad5bc968bdb01c53   offer received   168   \n",
       "57733   31dda685af34476cad5bc968bdb01c53     offer viewed   168   \n",
       "84856   31dda685af34476cad5bc968bdb01c53      transaction   258   \n",
       "84857   31dda685af34476cad5bc968bdb01c53  offer completed   258   \n",
       "90493   31dda685af34476cad5bc968bdb01c53      transaction   288   \n",
       "93431   31dda685af34476cad5bc968bdb01c53      transaction   306   \n",
       "97797   31dda685af34476cad5bc968bdb01c53   offer received   336   \n",
       "108633  31dda685af34476cad5bc968bdb01c53     offer viewed   336   \n",
       "126311  31dda685af34476cad5bc968bdb01c53      transaction   384   \n",
       "126312  31dda685af34476cad5bc968bdb01c53  offer completed   384   \n",
       "132624  31dda685af34476cad5bc968bdb01c53   offer received   408   \n",
       "153141  31dda685af34476cad5bc968bdb01c53     offer viewed   426   \n",
       "153142  31dda685af34476cad5bc968bdb01c53      transaction   426   \n",
       "153143  31dda685af34476cad5bc968bdb01c53  offer completed   426   \n",
       "160509  31dda685af34476cad5bc968bdb01c53      transaction   444   \n",
       "177582  31dda685af34476cad5bc968bdb01c53   offer received   504   \n",
       "202611  31dda685af34476cad5bc968bdb01c53      transaction   534   \n",
       "202612  31dda685af34476cad5bc968bdb01c53  offer completed   534   \n",
       "204783  31dda685af34476cad5bc968bdb01c53      transaction   540   \n",
       "215789  31dda685af34476cad5bc968bdb01c53   offer received   576   \n",
       "230395  31dda685af34476cad5bc968bdb01c53     offer viewed   582   \n",
       "\n",
       "                                offer_id  amount  reward  \n",
       "5       0b1e1539f2cc45b7b9fa7c272da2e1d7     NaN     NaN  \n",
       "44475   0b1e1539f2cc45b7b9fa7c272da2e1d7     NaN     NaN  \n",
       "46972   fafdcd668e3743c1bb461111dcafc2a4     NaN     NaN  \n",
       "57733   fafdcd668e3743c1bb461111dcafc2a4     NaN     NaN  \n",
       "84856                                NaN   24.87     NaN  \n",
       "84857   fafdcd668e3743c1bb461111dcafc2a4     NaN     2.0  \n",
       "90493                                NaN   16.26     NaN  \n",
       "93431                                NaN   15.80     NaN  \n",
       "97797   2298d6c36e964ae4a3e7e9706d1fb8c2     NaN     NaN  \n",
       "108633  2298d6c36e964ae4a3e7e9706d1fb8c2     NaN     NaN  \n",
       "126311                               NaN   12.57     NaN  \n",
       "126312  2298d6c36e964ae4a3e7e9706d1fb8c2     NaN     3.0  \n",
       "132624  2298d6c36e964ae4a3e7e9706d1fb8c2     NaN     NaN  \n",
       "153141  2298d6c36e964ae4a3e7e9706d1fb8c2     NaN     NaN  \n",
       "153142                               NaN   15.01     NaN  \n",
       "153143  2298d6c36e964ae4a3e7e9706d1fb8c2     NaN     3.0  \n",
       "160509                               NaN   23.18     NaN  \n",
       "177582  2298d6c36e964ae4a3e7e9706d1fb8c2     NaN     NaN  \n",
       "202611                               NaN   22.87     NaN  \n",
       "202612  2298d6c36e964ae4a3e7e9706d1fb8c2     NaN     3.0  \n",
       "204783                               NaN   29.69     NaN  \n",
       "215789  fafdcd668e3743c1bb461111dcafc2a4     NaN     NaN  \n",
       "230395  fafdcd668e3743c1bb461111dcafc2a4     NaN     NaN  "
      ]
     },
     "execution_count": 4,
     "metadata": {},
     "output_type": "execute_result"
    }
   ],
   "source": [
    "# gathering information from a participant included in TRANSCRIPT\n",
    "user_list = TRANSCRIPT.person.unique()\n",
    "user_id = user_list[5]\n",
    "User = Person(user_id)\n",
    "User.data"
   ]
  },
  {
   "cell_type": "code",
   "execution_count": 5,
   "metadata": {},
   "outputs": [
    {
     "data": {
      "text/html": [
       "<div>\n",
       "<style scoped>\n",
       "    .dataframe tbody tr th:only-of-type {\n",
       "        vertical-align: middle;\n",
       "    }\n",
       "\n",
       "    .dataframe tbody tr th {\n",
       "        vertical-align: top;\n",
       "    }\n",
       "\n",
       "    .dataframe thead th {\n",
       "        text-align: right;\n",
       "    }\n",
       "</style>\n",
       "<table border=\"1\" class=\"dataframe\">\n",
       "  <thead>\n",
       "    <tr style=\"text-align: right;\">\n",
       "      <th></th>\n",
       "      <th>person</th>\n",
       "      <th>event</th>\n",
       "      <th>time</th>\n",
       "      <th>offer_id</th>\n",
       "      <th>amount</th>\n",
       "      <th>reward</th>\n",
       "    </tr>\n",
       "  </thead>\n",
       "  <tbody>\n",
       "    <tr>\n",
       "      <th>5</th>\n",
       "      <td>31dda685af34476cad5bc968bdb01c53</td>\n",
       "      <td>offer received</td>\n",
       "      <td>0</td>\n",
       "      <td>0b1e1539f2cc45b7b9fa7c272da2e1d7</td>\n",
       "      <td>NaN</td>\n",
       "      <td>NaN</td>\n",
       "    </tr>\n",
       "    <tr>\n",
       "      <th>44475</th>\n",
       "      <td>31dda685af34476cad5bc968bdb01c53</td>\n",
       "      <td>offer viewed</td>\n",
       "      <td>150</td>\n",
       "      <td>0b1e1539f2cc45b7b9fa7c272da2e1d7</td>\n",
       "      <td>NaN</td>\n",
       "      <td>NaN</td>\n",
       "    </tr>\n",
       "    <tr>\n",
       "      <th>46972</th>\n",
       "      <td>31dda685af34476cad5bc968bdb01c53</td>\n",
       "      <td>offer received</td>\n",
       "      <td>168</td>\n",
       "      <td>fafdcd668e3743c1bb461111dcafc2a4</td>\n",
       "      <td>NaN</td>\n",
       "      <td>NaN</td>\n",
       "    </tr>\n",
       "    <tr>\n",
       "      <th>57733</th>\n",
       "      <td>31dda685af34476cad5bc968bdb01c53</td>\n",
       "      <td>offer viewed</td>\n",
       "      <td>168</td>\n",
       "      <td>fafdcd668e3743c1bb461111dcafc2a4</td>\n",
       "      <td>NaN</td>\n",
       "      <td>NaN</td>\n",
       "    </tr>\n",
       "  </tbody>\n",
       "</table>\n",
       "</div>"
      ],
      "text/plain": [
       "                                 person           event  time  \\\n",
       "5      31dda685af34476cad5bc968bdb01c53  offer received     0   \n",
       "44475  31dda685af34476cad5bc968bdb01c53    offer viewed   150   \n",
       "46972  31dda685af34476cad5bc968bdb01c53  offer received   168   \n",
       "57733  31dda685af34476cad5bc968bdb01c53    offer viewed   168   \n",
       "\n",
       "                               offer_id  amount  reward  \n",
       "5      0b1e1539f2cc45b7b9fa7c272da2e1d7     NaN     NaN  \n",
       "44475  0b1e1539f2cc45b7b9fa7c272da2e1d7     NaN     NaN  \n",
       "46972  fafdcd668e3743c1bb461111dcafc2a4     NaN     NaN  \n",
       "57733  fafdcd668e3743c1bb461111dcafc2a4     NaN     NaN  "
      ]
     },
     "execution_count": 5,
     "metadata": {},
     "output_type": "execute_result"
    }
   ],
   "source": [
    "# gathering information about a received offer from User\n",
    "Offer = Event(User.offers[0], User.data)\n",
    "Offer.events"
   ]
  },
  {
   "cell_type": "code",
   "execution_count": 6,
   "metadata": {},
   "outputs": [],
   "source": [
    "from lib.data_visualization import time_line"
   ]
  },
  {
   "cell_type": "code",
   "execution_count": 7,
   "metadata": {},
   "outputs": [
    {
     "data": {
      "image/png": "[encoded data removed]",
      "text/plain": [
       "<Figure size 1152x864 with 4 Axes>"
      ]
     },
     "metadata": {},
     "output_type": "display_data"
    }
   ],
   "source": [
    "if True:\n",
    "    User = Person('78afa995795e4d85b5d9ceeca43f5fef')\n",
    "    Offer = Event(User.offers[0], User.data)\n",
    "\n",
    "f, ax = plt.subplots(len(User.offers),1, sharex=True, figsize=[16,12])\n",
    "plt.subplots_adjust(hspace=0.1)\n",
    "cnt=0\n",
    "\n",
    "all_trans = User.get_transaction(0, User.data['time'].values[-1])\n",
    "\n",
    "for idx in User.offers:\n",
    "    plt.sca(ax[cnt])\n",
    "    legend = True if cnt == 0 else False\n",
    "    xlabel = True if cnt == len(ax)-1 else False\n",
    "    Offer = Event(idx, User.data)\n",
    "    trans = User.get_transaction(Offer.start, Offer.end)\n",
    "    time_line(Offer, trans, legend=legend, xlabel=xlabel, text='#'+str(cnt+1)+' ')\n",
    "        \n",
    "    cnt +=1\n",
    "    \n",
    "for ax_n in ax:\n",
    "    ymax = ax_n.get_ylim()[1]*.9\n",
    "    ax_n.vlines(\n",
    "        x=all_trans.time, \n",
    "        ymax=ymax, ymin=0, \n",
    "        color='k', \n",
    "        linestyle='dotted', \n",
    "        lw=2,\n",
    "        zorder=0\n",
    "    )\n",
    "\n",
    "offset=2\n",
    "for n, x in enumerate(all_trans.time):\n",
    "    ax[-1].text(\n",
    "        x+offset, 0.01,\n",
    "        str(n+1),\n",
    "        weight='bold',\n",
    "        ha='left'\n",
    "    )\n",
    "\n",
    "plt.show()\n",
    "\n",
    "if False:\n",
    "    f.savefig('./assets/Timeline.png', dpi=300)"
   ]
  },
  {
   "cell_type": "markdown",
   "metadata": {},
   "source": [
    "This visualization represents all the events that occured over 30 days (720 hours) of data collection for one participant. \n",
    "\n",
    "Each row represents an offer received by this individual. The light blue block represents the duration of the offer. In this example, the participants received 4 offers: 3 `bogo` and 1 `informational`.\n",
    "\n",
    "For each offer, 4 different events are marked:\n",
    " - offer received (red): When an offer was received. \n",
    " - offer viewed (blue): When an offer is viewed\n",
    " - transacton (black): When a transaction is made\n",
    " - offer completed (yellow): When an offer is completed\n",
    "\n",
    "The 7 transactions for this individual are shown accross the offers as black dotted lines. The transactions are not specific to an offer, and a difficulty of this analysis was to assign transactions to specific offers.\n",
    " \n",
    "Few considerations:\n",
    "> offer can overlap each other: the offer #4 starts during offer #3. In this situation the transaction 6 and 7 could be assigned to both offer #3 and offer #4.\n",
    "\n",
    "> in this example, all offers have been viewed. This is not always the case. Moreover, transactions can be made before the offer is viewed (see transactions 6 and 7 for offer #4)\n",
    "\n",
    "> transactions can be made before, during, or after an offer. We can find transactions between 2 offers (see transaction 5)\n",
    "\n",
    "> not all offer types are presented to all participants. This will lead to differences in overall number of offers in each category.\n",
    "\n",
    "> the number of offers presented to an individual is not always 4 (see further analysis for details).\n",
    "\n",
    "We decided to assign a transaction to an offer (marked with white dot) if:\n",
    " - the transaction was made during the duration of the offer\n",
    " - the transaction was made after the offer was viewed\n",
    " \n"
   ]
  },
  {
   "cell_type": "markdown",
   "metadata": {},
   "source": [
    "### 4.1.2 Creating metrics for analysis\n",
    "\n",
    "___\n",
    "DEPENDENT VARIABLE\n",
    "\n",
    "- What determine the best response to an offer ?\n",
    "- What is a sign of Engagement ?\n",
    "- Effect on transactions ?\n",
    "\n",
    "1. For an offer to have a real impact on a participant, the offer must be viewed. We will then consider the total amount of transaction for each offer received after the offer is viewed: $Trans_{viewed}$\n",
    "\n",
    "2. Since the number of offer ($n$) and the type of offer is different for each participants, the total spending ($Spending_{tot}$) cannot be a reliable factor as is! We will compute a theoretical neutral spending amount per offer for each participants: \n",
    "    \n",
    "    $Spending_{avg} = \\frac{Spending_{tot}}{n}$\n",
    "\n",
    "3. We will consider the impact of each offer recieved as the ratio:\n",
    "\n",
    "    $Trans_{ratio} = \\frac{Trans_{viewed}}{Spending_{avg}}$\n",
    "\n",
    "This ratio will consider how a transaction performs against other offers for an individual but also against transactions outside of the viewing period. If we consider an invidual that would spend a lot outside of the offer period or that woud spend without viewing an offer, this invidual would not require specific offers."
   ]
  },
  {
   "cell_type": "code",
   "execution_count": null,
   "metadata": {},
   "outputs": [],
   "source": [
    "import numpy as np\n",
    "import pandas as pd\n",
    "from lib.starbucks_class import Person, Event, PORTFOLIO, PROFILE, TRANSCRIPT"
   ]
  },
  {
   "cell_type": "code",
   "execution_count": null,
   "metadata": {},
   "outputs": [],
   "source": [
    "result = []\n",
    "\n",
    "for user_id in set(TRANSCRIPT.person):\n",
    "    User = Person(user_id)\n",
    "    PROFILE.loc[User._id,'total_spending'] = User.total_spending\n",
    "    PROFILE.loc[User._id,'total_offers'] = len(User.offers)\n",
    "    \n",
    "    spending_avg = User.total_spending / len(User.offers)\n",
    "\n",
    "    for _id in User.offers:\n",
    "        evt = Event(_id, User.data)    \n",
    "        trans = User.get_transaction(evt.viewed, evt.end) # transcations after offer is viewed\n",
    "        trans_all = User.get_transaction(evt.start, evt.end) # all trasnsactions\n",
    "        reward = User.get_reward(evt.viewed, evt.end) # reward after offer is viewed\n",
    "        reward_all = User.get_reward(evt.start, evt.end) # all reward\n",
    "        \n",
    "        # results\n",
    "        res_trans = np.sum(trans.amount) if len(trans) > 0 else 0 # total spent when offer viewed\n",
    "        res_reward = np.sum(reward.reward) if len(reward) > 0 else 0\n",
    "        res_trans_all = np.sum(trans_all.amount) if len(trans_all) > 0 else 0\n",
    "        res_reward_all = np.sum(reward_all.reward) if len(reward_all) > 0 else 0\n",
    "        res_tag_viewed = 1 if evt.viewed else 0 # tag offer viewed\n",
    "        \n",
    "        res_ratio = res_trans / spending_avg # spending ratio\n",
    "                \n",
    "        result.append([\n",
    "            user_id,\n",
    "            PORTFOLIO.loc[evt.offer_id,'code'],\n",
    "            evt.offer_type,\n",
    "            res_trans_all,\n",
    "            res_trans,\n",
    "            res_reward_all,\n",
    "            res_reward,\n",
    "            res_tag_viewed,\n",
    "            res_ratio\n",
    "        ])\n",
    "\n",
    "# results\n",
    "RES = pd.DataFrame(result, columns=[\n",
    "    'profile_id', \n",
    "    'portfolio_code',\n",
    "    'portfolio_type',\n",
    "    'amount_received',\n",
    "    'amount_viewed',\n",
    "    'reward_received',\n",
    "    'reward_viewed',\n",
    "    'view_tag',\n",
    "    'spending_ratio'\n",
    "])\n",
    "\n"
   ]
  },
  {
   "cell_type": "code",
   "execution_count": null,
   "metadata": {},
   "outputs": [],
   "source": [
    "RES.head()"
   ]
  },
  {
   "cell_type": "markdown",
   "metadata": {},
   "source": [
    "---\n",
    "SAVE RESULTS & UPDATED PROFILE"
   ]
  },
  {
   "cell_type": "code",
   "execution_count": null,
   "metadata": {},
   "outputs": [],
   "source": [
    "# save results and modified PROFILE to avoid running the analysis\n",
    "from sqlalchemy import create_engine\n",
    "    \n",
    "if True:\n",
    "    database_filename = './data/db_results.db'\n",
    "    engine = create_engine('sqlite:///'+database_filename)\n",
    "    RES.to_sql('Variables', engine, if_exists='replace', index=False)\n",
    "    PROFILE.to_sql('Profile', con=engine, index=True, index_label='id', if_exists='replace')"
   ]
  },
  {
   "cell_type": "markdown",
   "metadata": {},
   "source": [
    "___\n",
    "<a name=\"load\"></a>LOADING RESULTS\n",
    "\n",
    "[back to import](#2.-Data-Understanding)"
   ]
  },
  {
   "cell_type": "code",
   "execution_count": null,
   "metadata": {},
   "outputs": [],
   "source": [
    "from sqlalchemy import create_engine\n",
    "\n",
    "database_filename = './data/db_results.db'\n",
    "engine = create_engine('sqlite:///'+database_filename)\n",
    "\n",
    "RES = pd.read_sql_table('Variables', con=engine)\n",
    "PROFILE = pd.read_sql_table('Profile', con=engine, index_col='id', parse_dates=['became_member_on'])"
   ]
  },
  {
   "cell_type": "markdown",
   "metadata": {},
   "source": [
    "---\n",
    "TARGET & FEATURES\n",
    "\n",
    "TARGETS: We will focus the rest of our analysis on 2 dependant variables:\n",
    "`spending_ratio` & `amount_viewed`"
   ]
  },
  {
   "cell_type": "code",
   "execution_count": null,
   "metadata": {},
   "outputs": [],
   "source": [
    "Y = RES.groupby(by=['profile_id','portfolio_type'])[['amount_viewed', 'spending_ratio']].mean().unstack()\n",
    "Y.columns = ['_'.join(x) for x in Y.columns]"
   ]
  },
  {
   "cell_type": "code",
   "execution_count": null,
   "metadata": {},
   "outputs": [],
   "source": [
    "Y.head()"
   ]
  },
  {
   "cell_type": "markdown",
   "metadata": {},
   "source": [
    "___\n",
    "DESCRIPTIVE STATISTICS"
   ]
  },
  {
   "cell_type": "code",
   "execution_count": null,
   "metadata": {},
   "outputs": [],
   "source": [
    "Y_stats = Y.describe()\n",
    "Y_stats"
   ]
  },
  {
   "cell_type": "markdown",
   "metadata": {},
   "source": [
    "FEATURES"
   ]
  },
  {
   "cell_type": "code",
   "execution_count": null,
   "metadata": {},
   "outputs": [],
   "source": [
    "X = PROFILE.loc[Y.index,:]\n",
    "X.head()"
   ]
  },
  {
   "cell_type": "code",
   "execution_count": null,
   "metadata": {},
   "outputs": [],
   "source": [
    "f, ax = plt.subplots(nrows=1, ncols=4, figsize=(20, 8))\n",
    "f.suptitle(\"Original dataset\", fontsize=14, fontweight='bold')\n",
    "plt.subplots_adjust(wspace=0.3)\n",
    "win=0\n",
    "var = ['amount_viewed', 'spending_ratio']\n",
    "offer = ['bogo', 'discount', 'informational']\n",
    "cols = [var[0]+'_'+x for x in offer]\n",
    "\n",
    "for i in cols:\n",
    "    sns.boxplot(data=Y, x=X['gender'], y=i, ax=ax[win], palette='colorblind')\n",
    "    win += 1\n",
    "\n",
    "sns.boxplot(data=X, x='gender', y='total_spending', ax=ax[win])\n"
   ]
  },
  {
   "cell_type": "markdown",
   "metadata": {},
   "source": [
    "___\n",
    "FILTERING RESULTS\n",
    "\n",
    "- __participants should have a minimum level of interaction with the app:__ we will consider the participants that have a `total_spending` > to a minimum threshold (TO BE DETERMINED).\n",
    "\n",
    "- __remove outliers with widely differents spending habits:__"
   ]
  },
  {
   "cell_type": "code",
   "execution_count": null,
   "metadata": {},
   "outputs": [],
   "source": [
    "X = X.query('total_spending > 5')\n",
    "Y = Y.loc[X.index, :]"
   ]
  },
  {
   "cell_type": "code",
   "execution_count": null,
   "metadata": {},
   "outputs": [],
   "source": [
    "from datetime import datetime\n",
    "X['member_ts'] = X['became_member_on'].apply(lambda x: datetime.timestamp(x))\n",
    "gender_dummy = pd.get_dummies(X['gender'], drop_first=True, prefix='gender')\n",
    "X = pd.concat([X, gender_dummy], axis=1)\n",
    "X.head()"
   ]
  },
  {
   "cell_type": "markdown",
   "metadata": {},
   "source": [
    "___\n",
    "SCALING DATA"
   ]
  },
  {
   "cell_type": "code",
   "execution_count": null,
   "metadata": {},
   "outputs": [],
   "source": [
    "from sklearn.preprocessing import RobustScaler"
   ]
  },
  {
   "cell_type": "code",
   "execution_count": null,
   "metadata": {},
   "outputs": [],
   "source": [
    "dropcols=['gender', 'became_member_on']\n",
    "X_filt = X.drop(dropcols, axis=1)\n",
    "\n",
    "scalerY = RobustScaler(quantile_range=(25.0, 75.0))\n",
    "Y_sc = scalerY.fit_transform(Y)\n",
    "\n",
    "scalerX = RobustScaler(quantile_range=(25.0, 75.0))\n",
    "X_sc = scalerX.fit_transform(X_filt)\n",
    "\n",
    "dfY = pd.DataFrame(Y_sc, columns=Y.columns, index=Y.index)\n",
    "dfX = pd.DataFrame(X_sc, columns=X_filt.columns, index=X_filt.index)"
   ]
  },
  {
   "cell_type": "code",
   "execution_count": null,
   "metadata": {},
   "outputs": [],
   "source": [
    "df = pd.concat([X_filt, Y['spending_ratio_discount']],axis=1)\n",
    "corr_matrix = df.corr(method=\"pearson\")\n",
    "\n",
    "f, ax =plt.subplots(1,1, figsize=[10,8])\n",
    "sns.heatmap(corr_matrix, vmin=-1., vmax=1., annot=True, fmt='.2f', cmap=\"YlGnBu\", cbar=True, linewidths=0.5)\n",
    "plt.title(\"pearson correlation\")"
   ]
  },
  {
   "cell_type": "code",
   "execution_count": null,
   "metadata": {},
   "outputs": [],
   "source": []
  },
  {
   "cell_type": "code",
   "execution_count": null,
   "metadata": {},
   "outputs": [],
   "source": []
  },
  {
   "cell_type": "code",
   "execution_count": null,
   "metadata": {},
   "outputs": [],
   "source": []
  },
  {
   "cell_type": "markdown",
   "metadata": {},
   "source": [
    "# __5. Model Evaluation & Results__"
   ]
  },
  {
   "cell_type": "markdown",
   "metadata": {},
   "source": [
    "___\n",
    "LINEAR MODEL"
   ]
  },
  {
   "cell_type": "code",
   "execution_count": null,
   "metadata": {},
   "outputs": [],
   "source": [
    "from sklearn.model_selection import train_test_split\n",
    "from sklearn.ensemble import GradientBoostingRegressor\n",
    "from sklearn.metrics import r2_score"
   ]
  },
  {
   "cell_type": "code",
   "execution_count": null,
   "metadata": {},
   "outputs": [],
   "source": [
    "col = Y.columns.tolist().index('amount_viewed_bogo')\n",
    "mask = np.isnan(Y_sc[:,col])"
   ]
  },
  {
   "cell_type": "code",
   "execution_count": null,
   "metadata": {},
   "outputs": [],
   "source": [
    "# X_train, X_test, y_train, y_test = train_test_split(scalerX.inverse_transform(X_sc)[~mask,:], scalerY.inverse_transform(Y_sc)[~mask,col], test_size=.2)\n",
    "X_train, X_test, y_train, y_test = train_test_split(X_sc[~mask,:], Y_sc[~mask,col], test_size=.2)\n",
    "feature_names = X_filt.columns.tolist()\n",
    "feature_names"
   ]
  },
  {
   "cell_type": "code",
   "execution_count": null,
   "metadata": {},
   "outputs": [],
   "source": [
    "model = GradientBoostingRegressor()"
   ]
  },
  {
   "cell_type": "code",
   "execution_count": null,
   "metadata": {},
   "outputs": [],
   "source": [
    "# model.fit(X_train, y_train)\n",
    "model.fit(X_sc[~mask,:], Y_sc[~mask,col])\n",
    "importances = model.feature_importances_\n",
    "\n",
    "prediction = model.predict(X_test)\n",
    "score = r2_score(y_test, prediction)\n",
    "score"
   ]
  },
  {
   "cell_type": "code",
   "execution_count": null,
   "metadata": {},
   "outputs": [],
   "source": [
    "model.train_score_"
   ]
  },
  {
   "cell_type": "code",
   "execution_count": null,
   "metadata": {},
   "outputs": [],
   "source": [
    "X_sc.shape"
   ]
  },
  {
   "cell_type": "code",
   "execution_count": null,
   "metadata": {},
   "outputs": [],
   "source": [
    "df_importances = pd.DataFrame(\n",
    "    {\n",
    "        'IMPORTANCES': importances,\n",
    "        'VARIABLES': feature_names\n",
    "    }\n",
    ")\n",
    "\n",
    "df_importances.set_index('VARIABLES', inplace=True)\n",
    "\n",
    "df_importances = df_importances.sort_values('IMPORTANCES', ascending=False)\n",
    "df_importances['cumsum'] = df_importances['IMPORTANCES'].cumsum()"
   ]
  },
  {
   "cell_type": "code",
   "execution_count": null,
   "metadata": {},
   "outputs": [],
   "source": [
    "f, ax = plt.subplots(1,2,figsize=[10,8])\n",
    "\n",
    "df_importances['IMPORTANCES'].sort_values().plot(kind='barh', ax=ax[0])\n",
    "ax[0].set_ylabel(\"\")\n",
    "\n",
    "df_importances['cumsum'].plot(kind='line', marker='o',ax=ax[1])\n",
    "plt.xticks(rotation='vertical')\n",
    "plt.show()"
   ]
  },
  {
   "cell_type": "markdown",
   "metadata": {},
   "source": [
    "___\n",
    "NONLINEAR MODEL"
   ]
  },
  {
   "cell_type": "code",
   "execution_count": null,
   "metadata": {},
   "outputs": [],
   "source": [
    "from sklearn.svm import SVR"
   ]
  },
  {
   "cell_type": "code",
   "execution_count": null,
   "metadata": {},
   "outputs": [],
   "source": [
    "svr_rbf = SVR(kernel='rbf', C=100, gamma=0.1, epsilon=.1)\n",
    "svr_poly = SVR(\n",
    "    kernel='poly', \n",
    "    C=100, gamma='auto', \n",
    "    degree=3, \n",
    "    epsilon=.1,\n",
    "    coef0=1\n",
    ")"
   ]
  },
  {
   "cell_type": "code",
   "execution_count": null,
   "metadata": {},
   "outputs": [],
   "source": [
    "preds = svr_rbf.fit(X_sc[~mask,:], Y_sc[~mask,col]).predict(X_test)\n"
   ]
  },
  {
   "cell_type": "code",
   "execution_count": null,
   "metadata": {},
   "outputs": [],
   "source": [
    "score = r2_score(y_test, preds)\n",
    "score"
   ]
  },
  {
   "cell_type": "code",
   "execution_count": null,
   "metadata": {},
   "outputs": [],
   "source": []
  },
  {
   "cell_type": "markdown",
   "metadata": {},
   "source": [
    "# __6. Conclusion & Deployment__"
   ]
  },
  {
   "cell_type": "code",
   "execution_count": null,
   "metadata": {},
   "outputs": [],
   "source": []
  },
  {
   "cell_type": "code",
   "execution_count": null,
   "metadata": {},
   "outputs": [],
   "source": []
  },
  {
   "cell_type": "code",
   "execution_count": null,
   "metadata": {},
   "outputs": [],
   "source": []
  },
  {
   "cell_type": "code",
   "execution_count": null,
   "metadata": {},
   "outputs": [],
   "source": []
  },
  {
   "cell_type": "markdown",
   "metadata": {},
   "source": [
    "___\n",
    "___\n",
    "PREVOUS WORK - TO BE REVIEWED"
   ]
  },
  {
   "cell_type": "markdown",
   "metadata": {},
   "source": [
    "### 1.5 Distribution of Offer type in `transcript`"
   ]
  },
  {
   "cell_type": "code",
   "execution_count": null,
   "metadata": {},
   "outputs": [],
   "source": [
    "TRANSCRIPT =  expand_trasncript(pd.read_json('data/transcript.json', orient='records', lines=True))\n",
    "offer_distribution = TRANSCRIPT.query('event == \"offer received\"')['offer_id'].value_counts(normalize=True)\n",
    "offer_distributaion = offer_distribution.to_frame(name=\"received ratio\")\n",
    "offer_distribution['type'] = portfolio.loc[offer_distribution.index, 'offer_type']\n",
    "offer_distribution.sort_values('type')"
   ]
  },
  {
   "cell_type": "markdown",
   "metadata": {},
   "source": [
    "### 1.6 Analysis of events time-line\n",
    "\n",
    "- `offer received` should trigger the offer duration (`portfolio`)\n",
    "- `offer viewed` should tag this event in success metrics\n",
    "- `transaction` & `reward` should build the succes metrics"
   ]
  },
  {
   "cell_type": "code",
   "execution_count": null,
   "metadata": {},
   "outputs": [],
   "source": [
    "#reset variable\n",
    "del transcript, portfolio, profile"
   ]
  },
  {
   "cell_type": "code",
   "execution_count": null,
   "metadata": {},
   "outputs": [],
   "source": [
    "plt.rcParams['figure.figsize']=[10,10]\n",
    "\n",
    "style_evt = {\n",
    "    'offer received':'red',\n",
    "    'offer viewed':'blue',\n",
    "    'transaction':'black',\n",
    "    'offer completed':'yellow'\n",
    "}\n",
    "\n",
    "from matplotlib.patches import Patch\n",
    "\n",
    "\n",
    "legend_elements = [\n",
    "    Patch(facecolor='red', label='offer received'),\n",
    "    Patch(facecolor='blue', label='offer viewed'),\n",
    "    Patch(facecolor='black', label='transaction'),\n",
    "    Patch(facecolor='yellow', label='offer completed')\n",
    "]\n",
    "\n",
    "def time_line(event, transactions=[], legend=False):\n",
    "    ax = plt.gca()\n",
    "    ymax = 10\n",
    "    tag = 'VIEWED' if event.viewed > 0 else 'not viewed'\n",
    "    text = event.details['offer_type'].values[0] + ' / ' +tag\n",
    "    evt_list = evt.events['event'].tolist()\n",
    "    color_list = [style_evt[k] for k in evt_list]\n",
    "    \n",
    "    \n",
    "    if len(transactions) > 0:\n",
    "        ymax = transactions.amount.max()\n",
    "        ax.plot(transactions.time, transactions.amount, 'ko')\n",
    "        \n",
    "    ax.vlines(x=event.events['time'], ymax=ymax, ymin=0, color=color_list)\n",
    "    ax.fill_between(x=[event.start,event.end], y1=[0,0], y2=[ymax,ymax], alpha=.2)\n",
    "    ax.set_title(text, ma='right')\n",
    "    ax.set_xlabel('time (hours)')\n",
    "    ax.set_ylabel('transaction $')\n",
    "    \n",
    "    if legend:\n",
    "        ax.legend(handles=legend_elements, loc='best')\n",
    "    \n",
    "        "
   ]
  },
  {
   "cell_type": "code",
   "execution_count": null,
   "metadata": {},
   "outputs": [],
   "source": [
    "PROFILE.total_offers.hist(bins=6)"
   ]
  },
  {
   "cell_type": "markdown",
   "metadata": {},
   "source": [
    "### __Descriptive statistics__\n",
    "\n",
    "We are using this table of descriptive statisctis to filter out the dataset to the most relevant subset of data."
   ]
  },
  {
   "cell_type": "code",
   "execution_count": null,
   "metadata": {},
   "outputs": [],
   "source": [
    "descriptive_stats = df.describe()\n",
    "descriptive_stats"
   ]
  },
  {
   "cell_type": "code",
   "execution_count": null,
   "metadata": {},
   "outputs": [],
   "source": [
    "subdf.describe()"
   ]
  },
  {
   "cell_type": "markdown",
   "metadata": {},
   "source": [
    "To filter out outliers values we are following the traditional definition of values outside of the Inter Quartile Range. We are setting an order of priority in the filtering process:\n",
    "1. `total_spending`\n",
    "2. `bogo` and `discount`\n",
    "3. `informational`\n",
    "\n",
    "In order to keep the maximum amount of data we decided to stop the filtering if the number of participants decrease below 80% of the original dataset."
   ]
  },
  {
   "cell_type": "code",
   "execution_count": null,
   "metadata": {},
   "outputs": [],
   "source": [
    "cols = [ 'total_spending', 'bogo', 'discount', 'informational']\n",
    "\n",
    "subdf = df.copy()\n",
    "\n",
    "# remove low total_spending at q1\n",
    "q1 = descriptive_stats['total_spending']['25%']\n",
    "q3 = descriptive_stats['total_spending']['75%']\n",
    "iqr = q3-q1\n",
    "low = 10\n",
    "up = q3 + (1.5 * iqr)\n",
    "subdf = subdf.query('@low < total_spending < @up')\n",
    "\n",
    "print(f'The new dataset has {len(subdf)} participants\\n')\n",
    "\n",
    "f, ax = plt.subplots(nrows=1, ncols=6, figsize=(20, 8))\n",
    "f.suptitle(\"Filtered dataset\", fontsize=14, fontweight='bold')\n",
    "plt.subplots_adjust(wspace=0.8)\n",
    "win=0\n",
    "cols = ['total_spending', 'bogo', 'discount', 'informational', 'income', 'age']\n",
    "\n",
    "for i in cols:\n",
    "    sns.boxplot(data=subdf, x='gender', y=i, ax=ax[win], palette='Blues')\n",
    "    if i in ['bogo', 'discount', 'informational']:\n",
    "        ax[win].set_ylim(top=300)\n",
    "    win += 1\n",
    "    "
   ]
  },
  {
   "cell_type": "markdown",
   "metadata": {},
   "source": [
    "## __REGRESSION__\n",
    "\n",
    " - What model?\n",
    " - Do we need categorical features?"
   ]
  },
  {
   "cell_type": "code",
   "execution_count": null,
   "metadata": {},
   "outputs": [],
   "source": [
    "from lib.data_wrangling import create_features\n",
    "features = create_features(PROFILE)\n",
    "features = features.loc[subdf.index, :]\n",
    "features"
   ]
  },
  {
   "cell_type": "code",
   "execution_count": null,
   "metadata": {},
   "outputs": [],
   "source": [
    "sns.boxplot(x=features.income_brackets, y=df_ratio.bogo, palette=\"Blues\")"
   ]
  },
  {
   "cell_type": "markdown",
   "metadata": {},
   "source": [
    " - computing spending ratio for each offer type (ratio spent after a type of offer is viewed over the total spending)"
   ]
  },
  {
   "cell_type": "code",
   "execution_count": null,
   "metadata": {},
   "outputs": [],
   "source": [
    "df_ratio = subdf[['bogo', 'discount', 'informational']].div(subdf.total_spending, axis='rows')\n",
    "df_ratio"
   ]
  },
  {
   "cell_type": "code",
   "execution_count": null,
   "metadata": {},
   "outputs": [],
   "source": [
    "df_response = subdf[['bogo', 'discount', 'informational']].gt(subdf.offer_avg, axis='rows').astype(int)\n",
    "df_response"
   ]
  },
  {
   "cell_type": "code",
   "execution_count": null,
   "metadata": {},
   "outputs": [],
   "source": [
    "toto = subdf[['bogo', 'discount', 'informational']].median()\n",
    "toto"
   ]
  },
  {
   "cell_type": "code",
   "execution_count": null,
   "metadata": {},
   "outputs": [],
   "source": [
    "subdf['bogo'].gt(toto.bogo, axis='rows').sum()"
   ]
  },
  {
   "cell_type": "code",
   "execution_count": null,
   "metadata": {},
   "outputs": [],
   "source": [
    "subdf = subdf.join(df_response, rsuffix='lab')"
   ]
  },
  {
   "cell_type": "code",
   "execution_count": null,
   "metadata": {},
   "outputs": [],
   "source": [
    "sns.pairplot(subdf, hue='bogolab',corner=True)"
   ]
  },
  {
   "cell_type": "code",
   "execution_count": null,
   "metadata": {},
   "outputs": [],
   "source": [
    "# Generate correlation matrix\n",
    "corr = df.corr()\n",
    "\n",
    "# Generate a mask for the upper triangle\n",
    "mask = np.triu(np.ones_like(corr, dtype=bool))\n",
    "\n",
    "# Set up the matplotlib figure\n",
    "f, ax = plt.subplots(figsize=(11, 9))\n",
    "\n",
    "# Generate a custom diverging colormap\n",
    "cmap = sns.diverging_palette(h_neg=10, h_pos=220, s=60,as_cmap=True)\n",
    "\n",
    "# Draw the heatmap with the mask and correct aspect ratio\n",
    "sns.heatmap(corr, mask=mask, cmap=cmap,vmax=.3, center=0,\n",
    "            square=True, linewidths=.5, cbar_kws={\"shrink\": .8}, annot=True)"
   ]
  },
  {
   "cell_type": "markdown",
   "metadata": {},
   "source": [
    "### 2.2. Offer Viewed:"
   ]
  },
  {
   "cell_type": "code",
   "execution_count": null,
   "metadata": {},
   "outputs": [],
   "source": [
    "viewed_stack = RES.query('profile_id in @subdf.index').groupby('portfolio_type')['view_tag'].value_counts()\n",
    "x_table = viewed_stack.unstack()\n",
    "x_table.columns = ['not viewed', 'viewed']\n",
    "x_table"
   ]
  },
  {
   "cell_type": "code",
   "execution_count": null,
   "metadata": {},
   "outputs": [],
   "source": [
    "from scipy.stats import chi2_contingency\n",
    "chi2, p, dof, expected = chi2_contingency(x_table)\n",
    "print(f'the probability of the distribution to be homogeneous is p = {p:.2}')\n",
    "if p < 0.5:\n",
    "    print('\\tWe can reject the null hypothesis')\n",
    "else:\n",
    "    print('\\tWe cannot reject the null hypothesis')"
   ]
  },
  {
   "cell_type": "code",
   "execution_count": null,
   "metadata": {},
   "outputs": [],
   "source": [
    "ax = x_table.subtract(expected).plot(kind='bar', y='viewed')\n",
    "ax.set_title('Difference to expected in number of viewed offer')\n",
    "plt.show()"
   ]
  },
  {
   "cell_type": "markdown",
   "metadata": {},
   "source": [
    "> we can conclude that the type of offer impact the number of viewed offer.\n",
    "It looks like `discount` and `informational` offers were more viewed that `bogo`"
   ]
  },
  {
   "cell_type": "code",
   "execution_count": null,
   "metadata": {},
   "outputs": [],
   "source": [
    "df_X = df_ratio\n",
    "cat = 'spending_brackets'\n",
    "list_cat = list(features[cat].cat.categories)\n",
    "col = sns.color_palette(\"colorblind\", len(list_cat))\n",
    "palette = [col[k] for k in features[cat].cat.codes]\n",
    "\n",
    "f = plt.figure()\n",
    "ax = Axes3D(f)\n",
    "sc = ax.scatter3D(\n",
    "    df_X.bogo,\n",
    "    df_X.discount, \n",
    "    df_X.informational,\n",
    "    marker='o',\n",
    "    edgecolor='k',\n",
    "    c=features[cat].cat.codes\n",
    ")\n",
    "\n",
    "plt.xlabel('Buy-One-Get-One')\n",
    "plt.ylabel('Discount')\n",
    "ax.set_zlabel('Informational')\n",
    "\n",
    "handles, _ = sc.legend_elements()\n",
    "labels = features[cat].cat.categories.tolist()\n",
    "ax.legend(handles, labels)"
   ]
  },
  {
   "cell_type": "code",
   "execution_count": null,
   "metadata": {},
   "outputs": [],
   "source": [
    "plt.figure()\n",
    "pie_gender = df.gender.value_counts(normalize=True).to_frame()\n",
    "pie_gender\n",
    "plt.pie(\n",
    "    data=pie_gender,\n",
    "    x='gender',\n",
    "    autopct='%.2f',\n",
    "    labels=pie_gender.index,\n",
    "    normalize=False\n",
    ")\n",
    "plt.show()"
   ]
  },
  {
   "cell_type": "markdown",
   "metadata": {},
   "source": [
    "---\n",
    "---\n",
    "# __APPENDIX - unsupervised Cluster Analysis__\n",
    "## __Clustering Analysis__"
   ]
  },
  {
   "cell_type": "markdown",
   "metadata": {},
   "source": [
    "__1. K_pod method to apply kmeans to dataset with missing data__\n",
    "\n",
    " - (reference)\n",
    " - (explanation)"
   ]
  },
  {
   "cell_type": "code",
   "execution_count": null,
   "metadata": {},
   "outputs": [],
   "source": [
    "from kPOD import k_pod"
   ]
  },
  {
   "cell_type": "code",
   "execution_count": null,
   "metadata": {},
   "outputs": [],
   "source": [
    "cluster_df = df_ratio\n",
    "cluster_df"
   ]
  },
  {
   "cell_type": "code",
   "execution_count": null,
   "metadata": {},
   "outputs": [],
   "source": [
    "#set the number of clusters\n",
    "k=4\n",
    "\n",
    "# use data with missing values to perform clustering\n",
    "clustered_data = k_pod(cluster_df.to_numpy(), k)"
   ]
  },
  {
   "cell_type": "code",
   "execution_count": null,
   "metadata": {},
   "outputs": [],
   "source": [
    "cluster_labels = clustered_data[0]"
   ]
  },
  {
   "cell_type": "code",
   "execution_count": null,
   "metadata": {},
   "outputs": [],
   "source": [
    "for offer in cluster_df:\n",
    "    sns.violinplot(\n",
    "        x=cluster_labels,\n",
    "        y=offer,\n",
    "        data=cluster_df,\n",
    "        scale_hue=False\n",
    "    )\n",
    "    plt.ylabel(f'{offer}')\n",
    "    plt.show()"
   ]
  },
  {
   "cell_type": "markdown",
   "metadata": {},
   "source": [
    "__2. Tradiational Kmeans clustering by changing missing values with median__\n",
    "\n",
    "We are replacing each missing values with the median from the related category: `bogo`, `discount`, or `informational` "
   ]
  },
  {
   "cell_type": "code",
   "execution_count": null,
   "metadata": {},
   "outputs": [],
   "source": [
    "# RES_median = RES_ratio.apply(lambda x: x.fillna(x.median()),axis=0)\n",
    "RES_median = cluster_df.apply(lambda x: x.fillna(x.median()),axis=0)"
   ]
  },
  {
   "cell_type": "code",
   "execution_count": null,
   "metadata": {},
   "outputs": [],
   "source": [
    "from sklearn.metrics import silhouette_samples, silhouette_score\n",
    "from sklearn.cluster import KMeans\n",
    "import matplotlib.cm as cm\n",
    "\n",
    "range_n_clusters = list(range(2,10))\n",
    "\n",
    "X = RES_median.to_numpy()\n",
    "\n",
    "\n",
    "for n_clusters in range_n_clusters:\n",
    "    # Create a subplot with 1 row and 1 column\n",
    "    fig, (ax1, ax2) = plt.subplots(1, 2)\n",
    "    fig.set_size_inches(18, 7)\n",
    "\n",
    "    # The 1st subplot is the silhouette plot\n",
    "    # The silhouette coefficient can range from -1, 1 but in this example all\n",
    "    # lie within [-0.1, 1]\n",
    "    ax1.set_xlim([-0.2, 1])\n",
    "    # The (n_clusters+1)*10 is for inserting blank space between silhouette\n",
    "    # plots of individual clusters, to demarcate them clearly.\n",
    "    ax1.set_ylim([0, len(X) + (n_clusters + 1) * 20])\n",
    "\n",
    "    # Initialize the clusterer with n_clusters value and a random generator\n",
    "    # seed of 10 for reproducibility.\n",
    "    clusterer = KMeans(n_clusters=n_clusters, random_state=10)\n",
    "    cluster_labels = clusterer.fit_predict(X)\n",
    "\n",
    "    # The silhouette_score gives the average value for all the samples.\n",
    "    # This gives a perspective into the density and separation of the formed\n",
    "    # clusters\n",
    "    silhouette_avg = silhouette_score(X, cluster_labels)\n",
    "    print(\"For n_clusters =\", n_clusters,\n",
    "          \"The average silhouette_score is :\", silhouette_avg)\n",
    "\n",
    "    # Compute the silhouette scores for each sample\n",
    "    sample_silhouette_values = silhouette_samples(X, cluster_labels)\n",
    "\n",
    "    if True:\n",
    "        y_lower = 10\n",
    "        for i in range(n_clusters):\n",
    "            # Aggregate the silhouette scores for samples belonging to\n",
    "            # cluster i, and sort them\n",
    "            ith_cluster_silhouette_values = \\\n",
    "                sample_silhouette_values[cluster_labels == i]\n",
    "\n",
    "            ith_cluster_silhouette_values.sort()\n",
    "\n",
    "            size_cluster_i = ith_cluster_silhouette_values.shape[0]\n",
    "            y_upper = y_lower + size_cluster_i\n",
    "\n",
    "            color = cm.nipy_spectral(float(i) / n_clusters)\n",
    "            ax1.fill_betweenx(np.arange(y_lower, y_upper),\n",
    "                              0, ith_cluster_silhouette_values,\n",
    "                              facecolor=color, edgecolor=color, alpha=0.7)\n",
    "\n",
    "            # Label the silhouette plots with their cluster numbers at the middle\n",
    "            ax1.text(-0.05, y_lower + 0.5 * size_cluster_i, str(i))\n",
    "\n",
    "            # Compute the new y_lower for next plot\n",
    "            y_lower = y_upper + 10  # 10 for the 0 samples\n",
    "\n",
    "        ax1.set_title(\"The silhouette plot for the various clusters.\")\n",
    "        ax1.set_xlabel(\"The silhouette coefficient values\")\n",
    "        ax1.set_ylabel(\"Cluster label\")\n",
    "\n",
    "        # The vertical line for average silhouette score of all the values\n",
    "        ax1.axvline(x=silhouette_avg, color=\"red\", linestyle=\"--\")\n",
    "\n",
    "        ax1.set_yticks([])  # Clear the yaxis labels / ticks\n",
    "        ax1.set_xticks([-0.1, 0, 0.2, 0.4, 0.6, 0.8, 1])\n",
    "\n",
    "        # 2nd Plot showing the actual clusters formed\n",
    "        colors = cm.nipy_spectral(cluster_labels.astype(float) / n_clusters)\n",
    "        ax2.scatter(X[:, 0], X[:, 1], marker='.', s=30, lw=0, alpha=0.7,\n",
    "                    c=colors, edgecolor='k')\n",
    "\n",
    "        # Labeling the clusters\n",
    "        centers = clusterer.cluster_centers_\n",
    "        # Draw white circles at cluster centers\n",
    "        ax2.scatter(centers[:, 0], centers[:, 1], marker='o',\n",
    "                    c=\"white\", alpha=1, s=200, edgecolor='k')\n",
    "\n",
    "        for i, c in enumerate(centers):\n",
    "            ax2.scatter(c[0], c[1], marker='$%d$' % i, alpha=1,\n",
    "                        s=50, edgecolor='k')\n",
    "\n",
    "        ax2.set_title(\"The visualization of the clustered data.\")\n",
    "        ax2.set_xlabel(\"Feature space for the 1st feature\")\n",
    "        ax2.set_ylabel(\"Feature space for the 2nd feature\")\n",
    "\n",
    "        plt.suptitle((\"Silhouette analysis for KMeans clustering on sample data \"\n",
    "                      \"with n_clusters = %d\" % n_clusters),\n",
    "                     fontsize=14, fontweight='bold')\n",
    "\n",
    "plt.show()"
   ]
  },
  {
   "cell_type": "markdown",
   "metadata": {},
   "source": [
    "__3. Implementing silhouette analysis to k-pod__"
   ]
  },
  {
   "cell_type": "code",
   "execution_count": null,
   "metadata": {},
   "outputs": [],
   "source": [
    "%matplotlib inline"
   ]
  },
  {
   "cell_type": "markdown",
   "metadata": {},
   "source": []
  },
  {
   "cell_type": "code",
   "execution_count": null,
   "metadata": {},
   "outputs": [],
   "source": [
    "from sklearn.metrics import silhouette_samples, silhouette_score\n",
    "from kPOD import k_pod\n",
    "import matplotlib.cm as cm\n",
    "\n",
    "range_n_clusters = list(range(2,9))\n",
    "\n",
    "X = cluster_df.copy().to_numpy()\n",
    "\n",
    "def replace_by_centroids(data, labels, centers):\n",
    "    #locate missing data\n",
    "    locs = np.argwhere(np.isnan(data))\n",
    "    for i in locs:\n",
    "        row=i[0]\n",
    "        col=i[1]\n",
    "        lab = int(labels[row])\n",
    "        center = centers[lab][col]\n",
    "        \n",
    "        data[row,col] = center\n",
    "    \n",
    "    return data\n",
    "\n",
    "\n",
    "for n_clusters in range_n_clusters:\n",
    "    # Create a subplot with 1 row and 1 column\n",
    "    fig, (ax1, ax2) = plt.subplots(1, 2)\n",
    "    fig.set_size_inches(18, 7)\n",
    "\n",
    "    # The 1st subplot is the silhouette plot\n",
    "    # The silhouette coefficient can range from -1, 1 but in this example all\n",
    "    # lie within [-0.1, 1]\n",
    "    ax1.set_xlim([-0.2, 1])\n",
    "    # The (n_clusters+1)*10 is for inserting blank space between silhouette\n",
    "    # plots of individual clusters, to demarcate them clearly.\n",
    "    ax1.set_ylim([0, len(X) + (n_clusters + 1) * 20])\n",
    "\n",
    "    # Initialize the clusterer with n_clusters value and a random generator\n",
    "    # seed of 10 for reproducibility.\n",
    "    clusterer = k_pod(n_clusters=n_clusters, data=X)\n",
    "    cluster_labels = clusterer[0]\n",
    "    centers = clusterer[1]\n",
    "    \n",
    "    # replace missing data with centroids\n",
    "    X = replace_by_centroids(X, cluster_labels, centers)\n",
    "    \n",
    "    # The silhouette_score gives the average value for all the samples.\n",
    "    # This gives a perspective into the density and separation of the formed\n",
    "    # clusters\n",
    "    silhouette_avg = silhouette_score(X, cluster_labels)\n",
    "    print(\"For n_clusters =\", n_clusters,\n",
    "          \"The average silhouette_score is :\", silhouette_avg)\n",
    "\n",
    "    # Compute the silhouette scores for each sample\n",
    "    sample_silhouette_values = silhouette_samples(X, cluster_labels)\n",
    "\n",
    "    y_lower = 10\n",
    "    for i in range(n_clusters):\n",
    "        # Aggregate the silhouette scores for samples belonging to\n",
    "        # cluster i, and sort them\n",
    "        ith_cluster_silhouette_values = \\\n",
    "            sample_silhouette_values[cluster_labels == i]\n",
    "\n",
    "        ith_cluster_silhouette_values.sort()\n",
    "\n",
    "        size_cluster_i = ith_cluster_silhouette_values.shape[0]\n",
    "        y_upper = y_lower + size_cluster_i\n",
    "\n",
    "        color = cm.nipy_spectral(float(i) / n_clusters)\n",
    "        ax1.fill_betweenx(np.arange(y_lower, y_upper),\n",
    "                          0, ith_cluster_silhouette_values,\n",
    "                          facecolor=color, edgecolor=color, alpha=0.7)\n",
    "\n",
    "        # Label the silhouette plots with their cluster numbers at the middle\n",
    "        ax1.text(-0.05, y_lower + 0.5 * size_cluster_i, str(i))\n",
    "\n",
    "        # Compute the new y_lower for next plot\n",
    "        y_lower = y_upper + 10  # 10 for the 0 samples\n",
    "\n",
    "    ax1.set_title(\"The silhouette plot for the various clusters.\")\n",
    "    ax1.set_xlabel(\"The silhouette coefficient values\")\n",
    "    ax1.set_ylabel(\"Cluster label\")\n",
    "\n",
    "    # The vertical line for average silhouette score of all the values\n",
    "    ax1.axvline(x=silhouette_avg, color=\"red\", linestyle=\"--\")\n",
    "\n",
    "    ax1.set_yticks([])  # Clear the yaxis labels / ticks\n",
    "    ax1.set_xticks([-0.1, 0, 0.2, 0.4, 0.6, 0.8, 1])\n",
    "\n",
    "    # 2nd Plot showing the actual clusters formed\n",
    "    colors = cm.nipy_spectral(cluster_labels.astype(float) / n_clusters)\n",
    "    ax2.scatter(X[:, 0], X[:, 1], marker='.', s=30, lw=0, alpha=0.7,\n",
    "                c=colors, edgecolor='k')\n",
    "\n",
    "    \n",
    "    # Draw white circles at cluster centers\n",
    "    centers = np.vstack(centers)\n",
    "    ax2.scatter(centers[:,0], centers[:,1], marker='o',\n",
    "                c=\"white\", alpha=1, s=200, edgecolor='k')\n",
    "\n",
    "    for i, c in enumerate(centers):\n",
    "        ax2.scatter(c[0], c[1], marker='$%d$' % i, alpha=1,\n",
    "                    s=50, edgecolor='k')\n",
    "\n",
    "    ax2.set_title(\"The visualization of the clustered data.\")\n",
    "    ax2.set_xlabel(\"Feature space for the 1st feature\")\n",
    "    ax2.set_ylabel(\"Feature space for the 2nd feature\")\n",
    "\n",
    "    plt.suptitle((\"Silhouette analysis for KMeans clustering on sample data \"\n",
    "                  \"with n_clusters = %d\" % n_clusters),\n",
    "                 fontsize=14, fontweight='bold')\n",
    "\n",
    "plt.show()"
   ]
  },
  {
   "cell_type": "code",
   "execution_count": null,
   "metadata": {},
   "outputs": [],
   "source": [
    "plt.plot(df_X['total_spending'])"
   ]
  },
  {
   "cell_type": "markdown",
   "metadata": {},
   "source": [
    "### __3D Graphical representation__"
   ]
  },
  {
   "cell_type": "code",
   "execution_count": null,
   "metadata": {},
   "outputs": [],
   "source": [
    "from mpl_toolkits.mplot3d import Axes3D"
   ]
  },
  {
   "cell_type": "code",
   "execution_count": null,
   "metadata": {},
   "outputs": [],
   "source": [
    "%matplotlib auto"
   ]
  },
  {
   "cell_type": "code",
   "execution_count": null,
   "metadata": {},
   "outputs": [],
   "source": [
    "X = cluster_df.to_numpy()\n",
    "clusterer = k_pod(n_clusters=3, data=X)\n",
    "cluster_labels = clusterer[0]\n",
    "centers = clusterer[1]\n",
    "\n",
    "# replace missing data with centroids\n",
    "X = replace_by_centroids(X, cluster_labels, centers)"
   ]
  },
  {
   "cell_type": "code",
   "execution_count": null,
   "metadata": {},
   "outputs": [],
   "source": [
    "col = sns.color_palette(\"colorblind\", len(cluster_labels))\n",
    "palette = [col[int(x)] for x in cluster_labels]\n",
    "\n",
    "f = plt.figure(figsize=(6,6))\n",
    "ax = Axes3D(f)\n",
    "ax.scatter3D(\n",
    "    cluster_df.bogo, \n",
    "    cluster_df.discount, \n",
    "    cluster_df.informational,\n",
    "    marker='o',\n",
    "    edgecolor='k',\n",
    "    c=palette\n",
    ")\n",
    "\n",
    "plt.xlabel('Buy-One-Get-One')\n",
    "plt.ylabel('Discount')\n",
    "ax.set_zlabel('Informational')"
   ]
  },
  {
   "cell_type": "code",
   "execution_count": null,
   "metadata": {},
   "outputs": [],
   "source": [
    "X[0]"
   ]
  },
  {
   "cell_type": "markdown",
   "metadata": {},
   "source": [
    "## __Building ML model over multiple outputs__"
   ]
  },
  {
   "cell_type": "code",
   "execution_count": null,
   "metadata": {},
   "outputs": [],
   "source": [
    "from sklearn.model_selection import train_test_split"
   ]
  },
  {
   "cell_type": "code",
   "execution_count": null,
   "metadata": {},
   "outputs": [],
   "source": [
    "y = df.bogo.dropna()\n",
    "X = pd.get_dummies(features.loc[y.index,:])\n",
    "\n",
    "X_train, X_test, y_train, y_test = train_test_split(X.to_numpy(), y.to_numpy(), test_size=0.2)"
   ]
  },
  {
   "cell_type": "code",
   "execution_count": null,
   "metadata": {},
   "outputs": [],
   "source": [
    "from sklearn.linear_model import SGDRegressor\n",
    "from sklearn import svm"
   ]
  },
  {
   "cell_type": "code",
   "execution_count": null,
   "metadata": {},
   "outputs": [],
   "source": [
    "# model = SGDRegressor(loss='huber', penalty='elasticnet')\n",
    "model = svm.SVR()"
   ]
  },
  {
   "cell_type": "code",
   "execution_count": null,
   "metadata": {},
   "outputs": [],
   "source": [
    "model.fit(X_train, y_train)\n",
    "preds = model.predict(X_test)"
   ]
  },
  {
   "cell_type": "code",
   "execution_count": null,
   "metadata": {},
   "outputs": [],
   "source": [
    "model.score(X_test, y_test)"
   ]
  },
  {
   "cell_type": "code",
   "execution_count": null,
   "metadata": {},
   "outputs": [],
   "source": [
    "plt.plot(y_test, preds, 'o')"
   ]
  },
  {
   "cell_type": "code",
   "execution_count": null,
   "metadata": {},
   "outputs": [],
   "source": [
    "df.head()"
   ]
  },
  {
   "cell_type": "code",
   "execution_count": null,
   "metadata": {},
   "outputs": [],
   "source": [
    "from sklearn.preprocessing import OneHotEncoder"
   ]
  },
  {
   "cell_type": "code",
   "execution_count": null,
   "metadata": {},
   "outputs": [],
   "source": [
    "coder = OneHotEncoder()\n",
    "gender = coder.fit_transform(df['gender'].to_numpy().reshape(-1, 1))"
   ]
  },
  {
   "cell_type": "code",
   "execution_count": null,
   "metadata": {},
   "outputs": [],
   "source": [
    "gender.toarray()"
   ]
  },
  {
   "cell_type": "code",
   "execution_count": null,
   "metadata": {},
   "outputs": [],
   "source": []
  },
  {
   "cell_type": "markdown",
   "metadata": {},
   "source": [
    "### PROFILE (APPENDIX)\n",
    "Quick visualization of the PROFILE dataset"
   ]
  },
  {
   "cell_type": "code",
   "execution_count": null,
   "metadata": {},
   "outputs": [],
   "source": [
    "PROFILE.head()"
   ]
  },
  {
   "cell_type": "code",
   "execution_count": null,
   "metadata": {},
   "outputs": [],
   "source": [
    "f1, ax1 = plt.subplots(1,1, figsize=[16,8])\n",
    "gender = PROFILE\n",
    "\n",
    "f2, ax2 = plt.subplots(1,3, figsize=[16,8])\n",
    "plt.subplots_adjust(wspace=0.3)\n",
    "\n",
    "\n",
    "sns.violinplot(\n",
    "    data=PROFILE,\n",
    "    x='income',\n",
    "    y='gender',\n",
    "    ax=ax[0],\n",
    "    inner='box',\n",
    "    scale='area',\n",
    "    orient='h'\n",
    ")\n",
    "ax2[0].set_title('Ditribution of INCOME by gender')\n",
    "\n",
    "sns.violinplot(\n",
    "    data=PROFILE,\n",
    "    x='age',\n",
    "    y='gender',\n",
    "    ax=ax2[1],\n",
    "    orient='h'\n",
    ")\n",
    "ax2[1].set_title('Ditribution of AGE by gender')\n",
    "\n",
    "PROFILE.groupby('gender')['became_member_on'].value_counts().unstack(0).cumsum()[::20].plot(ax=ax[2],marker='o')\n",
    "ax2[2].set_title('Cumulative Sum of MEMBERSHIP from 2014 to 2019')\n",
    "plt.show()"
   ]
  },
  {
   "cell_type": "markdown",
   "metadata": {},
   "source": [
    "__1. Are all offers distributed equally among `TRANSCRIPT` ?__"
   ]
  },
  {
   "cell_type": "code",
   "execution_count": null,
   "metadata": {},
   "outputs": [],
   "source": [
    "offer_distribution = TRANSCRIPT.query('event == \"offer received\"')['offer_id'].value_counts(normalize=True)\n",
    "offer_distribution = offer_distribution.to_frame(name=\"received ratio\")\n",
    "offer_distribution['type'] = PORTFOLIO.loc[offer_distribution.index, 'offer_type']\n",
    "offer_distribution = offer_distribution.sort_values('type')\n",
    "offer_distribution.style.format({'received ratio':\"{:.2%}\"})"
   ]
  },
  {
   "cell_type": "markdown",
   "metadata": {},
   "source": [
    "To filter out outliers values we are following the traditional definition of values outside of the $1.5 * IQR$, where IQR is the distance between first and the third quartile.\n",
    "\n",
    "(TO BE EDITED)\n",
    "We are setting an order of priority in the filtering process:\n",
    "1. `total_spending`\n",
    "2. `bogo` and `discount`\n",
    "3. `informational`\n",
    "\n",
    "In order to keep the maximum amount of data we decided to stop the filtering if the number of participants decrease below 80% of the original dataset."
   ]
  },
  {
   "cell_type": "code",
   "execution_count": null,
   "metadata": {},
   "outputs": [],
   "source": [
    "cols = ['amount_received', 'amount_viewed']\n",
    "\n",
    "subdf = RES.copy()\n",
    "\n",
    "# remove low total_spending at q1\n",
    "q1 = des_stats[cols[0]]['25%']\n",
    "q3 = des_stats[cols[0]]['75%']\n",
    "iqr = q3-q1\n",
    "low = 10\n",
    "up = q3 + (1.5 * iqr)\n",
    "str_expr = f'@low < {cols[0]} < @up'\n",
    "subdf = subdf.query(str_expr)\n",
    "\n",
    "print(f'The new dataset has {len(subdf)} observations\\n')\n",
    "\n",
    "f, ax = plt.subplots(nrows=1, ncols=2, figsize=(20, 8))\n",
    "f.suptitle(\"Filtered dataset\", fontsize=14, fontweight='bold')\n",
    "plt.subplots_adjust(wspace=0.3)\n",
    "win=0\n",
    "\n",
    "for i in cols:\n",
    "    sns.boxplot(\n",
    "        data=subdf, \n",
    "        x='portfolio_type', \n",
    "        y=i, \n",
    "        ax=ax[win], \n",
    "        palette='Blues',\n",
    "        hue='view_tag',\n",
    "        order=['bogo', 'discount', 'informational']\n",
    "    )\n",
    "    win += 1\n",
    "    "
   ]
  },
  {
   "cell_type": "code",
   "execution_count": null,
   "metadata": {},
   "outputs": [],
   "source": [
    "len(RES)"
   ]
  },
  {
   "cell_type": "markdown",
   "metadata": {},
   "source": [
    "___\n",
    "OFFER TYPE DISTRIBUTION"
   ]
  },
  {
   "cell_type": "code",
   "execution_count": null,
   "metadata": {},
   "outputs": [],
   "source": [
    "offer_distribution = RES['portfolio_type'].value_counts(normalize=True)\n",
    "offer_distribution = offer_distribution.to_frame(name=\"received ratio\")\n",
    "offer_distribution.style.format({'received ratio':\"{:.2%}\"})"
   ]
  },
  {
   "cell_type": "code",
   "execution_count": null,
   "metadata": {},
   "outputs": [],
   "source": [
    "f, ax = plt.subplots(1,1, figsize=[8,8])\n",
    "pie_data = offer_distribution\n",
    "\n",
    "plt.pie(\n",
    "    data=pie_data, \n",
    "    x='received ratio', \n",
    "    labels= pie_data.index, \n",
    "    autopct='%.2f'\n",
    ")\n",
    "plt.title('Distribution of each offer type in transcript')\n",
    "plt.show()"
   ]
  },
  {
   "cell_type": "markdown",
   "metadata": {},
   "source": [
    "## 4.2. Modeling"
   ]
  },
  {
   "cell_type": "markdown",
   "metadata": {},
   "source": [
    "(TO BE UPDATED)\\\n",
    "In order to use `PROFILE` later on as features we are going to categorize all `profile` columns:\n",
    " - `age` is being splitted into 8 age brackets\n",
    " - only the year is kept from `became_member_on`. These values are being transformed into category\n",
    " - `income` is being splitted into 8 income brackets"
   ]
  },
  {
   "cell_type": "code",
   "execution_count": null,
   "metadata": {},
   "outputs": [],
   "source": [
    "feat_profile = pd.DataFrame()\n",
    "\n",
    "#age brackets\n",
    "'''divide age in 8 brackets'''\n",
    "bins_age = [0, 25, 35, 45, 55, 65, 75, 85, 110]\n",
    "lab_age = ['<25', '25-34', '35-44', '45-54', '55-64', '65-74', '75-84', '>85']\n",
    "feat_profile['age_brackets'] = pd.cut(profile['age'], bins=bins_age, labels=lab_age, right=False)\n",
    "\n",
    "#membership year\n",
    "'''keep only the year of membership'''\n",
    "feat_profile['year_member'] = profile['became_member_on'].apply(lambda x:x.year)\n",
    "feat_profile['year_member'] = feat_profile['year_member'].astype('category')\n",
    "\n",
    "#income brackets\n",
    "'''divide income in 8 brackets'''\n",
    "bins_income = [30000, 40000, 50000, 60000, 70000, 80000, 90000, 100000, 120000]\n",
    "lab_income = ['<40k', '40k-49k', '50k-59k', '60k-69k', '70k-79k', '80k-89k', '90k-99k', '>100k']\n",
    "feat_profile['income_brackets'] = pd.cut(profile['income'], bins=bins_income, labels=lab_income, right=False)\n",
    "\n",
    "feat_profile = feat_profile.join(profile['gender'])\n",
    "feat_profile.head()"
   ]
  }
 ],
 "metadata": {
  "kernelspec": {
   "display_name": "Python 3",
   "language": "python",
   "name": "python3"
  },
  "language_info": {
   "codemirror_mode": {
    "name": "ipython",
    "version": 3
   },
   "file_extension": ".py",
   "mimetype": "text/x-python",
   "name": "python",
   "nbconvert_exporter": "python",
   "pygments_lexer": "ipython3",
   "version": "3.7.6"
  },
  "toc-autonumbering": false,
  "toc-showcode": false,
  "toc-showmarkdowntxt": false,
  "toc-showtags": false
 },
 "nbformat": 4,
 "nbformat_minor": 4
}
